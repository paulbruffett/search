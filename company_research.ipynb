{
 "cells": [
  {
   "cell_type": "markdown",
   "metadata": {
    "id": "vVdtcEDEW9hU"
   },
   "source": [
    "# Notebook Application for Weekly Research on Daily Portfolio Companies using Tavily and LangGraph Agents"
   ]
  },
  {
   "cell_type": "markdown",
   "metadata": {},
   "source": [
    "## Libraries"
   ]
  },
  {
   "cell_type": "code",
   "execution_count": 1,
   "metadata": {},
   "outputs": [],
   "source": [
    "import os\n",
    "import json\n",
    "import asyncio\n",
    "from typing import List, Optional \n",
    "from datetime import datetime\n",
    "\n",
    "\n",
    "from tavily import AsyncTavilyClient\n",
    "from IPython.display import Markdown, display\n",
    "\n",
    "from langgraph.types import Command\n",
    "from langchain_core.runnables import RunnableConfig\n",
    "from langchain.chat_models import init_chat_model\n",
    "from langchain_core.tools import tool\n",
    "from langchain_core.messages import AIMessage\n",
    "from pydantic import BaseModel, Field\n",
    "from langgraph.graph import StateGraph, END, MessagesState"
   ]
  },
  {
   "cell_type": "markdown",
   "metadata": {},
   "source": [
    "## Set API KEYS"
   ]
  },
  {
   "cell_type": "code",
   "execution_count": 2,
   "metadata": {},
   "outputs": [
    {
     "data": {
      "text/plain": [
       "True"
      ]
     },
     "execution_count": 2,
     "metadata": {},
     "output_type": "execute_result"
    }
   ],
   "source": [
    "#should include 2 lines; TAVILY_API_KEY= and OPENAI_API_KEY=\n",
    "from dotenv import load_dotenv\n",
    "load_dotenv('.env')"
   ]
  },
  {
   "cell_type": "markdown",
   "metadata": {},
   "source": [
    "### Tavily client & results"
   ]
  },
  {
   "cell_type": "code",
   "execution_count": 3,
   "metadata": {},
   "outputs": [],
   "source": [
    "tavily_client = AsyncTavilyClient()\n",
    "query_with_date = f\"{\"What are the school districts in seattle metro?\"} {datetime.now().strftime('%m-%Y')}\"\n",
    "response = await tavily_client.search(query=query_with_date, max_results=5)"
   ]
  },
  {
   "cell_type": "code",
   "execution_count": 4,
   "metadata": {},
   "outputs": [
    {
     "data": {
      "text/plain": [
       "{'query': 'What are the school districts in seattle metro? 07-2025',\n",
       " 'follow_up_questions': None,\n",
       " 'answer': None,\n",
       " 'images': [],\n",
       " 'results': [{'url': 'https://www.niche.com/k12/search/best-school-districts/m/seattle-metro-area/',\n",
       "   'title': '2025 Best School Districts in the Seattle Area - Niche',\n",
       "   'content': 'Read 160 reviews * grade A+ Overall Niche Grade * Total schools 32 * Students 19,089 Bellevue School District ------------------------ #1 Best School Districts in Seattle Area. Read 115 reviews * grade A+ Overall Niche Grade * Total schools 30 * Students 19,585 Issaquah School District ------------------------ #4 Best School Districts in Seattle Area. Read 34 reviews * grade A Overall Niche Grade * Total schools 8 * Students 5,619 University Place School District -------------------------------- #7 Best School Districts in Seattle Area. Read 49 reviews * grade B+ Overall Niche Grade * Total schools 14 * Students 5,418 North Kitsap School District ---------------------------- #21 Best School Districts in Seattle Area.',\n",
       "   'score': 0.83742094,\n",
       "   'raw_content': None},\n",
       "  {'url': 'https://www.seattleschools.org/schools/',\n",
       "   'title': 'Attendance Area Maps - Seattle Public Schools',\n",
       "   'content': '# Schools #### Adams Elementary Sugiyama High School #### Alki Elementary #### Bryant Elementary #### Cascadia Elementary #### Coe Elementary #### Decatur Elementary #### Dunlap Elementary #### Emerson Elementary #### Franklin High School #### Gatewood Elementary #### Greenwood Elementary #### Hawthorne Elementary #### Kimball Elementary #### Lafayette Elementary #### Laurelhurst Elementary #### Lawton Elementary #### Leschi Elementary #### Lowell Elementary #### Madrona Elementary #### Magnolia Elementary #### Maple Elementary #### McGilvra Elementary #### Middle College High School #### Montlake Elementary #### Orca K-8 #### Pathfinder K-8 #### Roxhill Elementary #### Sacajawea Elementary #### Sanislo Elementary #### Stevens Elementary #### The Center School #### TOPS K-8 #### Viewlands Elementary #### Wedgwood Elementary #### West Seattle High School #### Whittier Elementary',\n",
       "   'score': 0.37786257,\n",
       "   'raw_content': None},\n",
       "  {'url': 'https://www.greatschools.org/washington/seattle/',\n",
       "   'title': 'Seattle, WA School Ratings - GreatSchools',\n",
       "   'content': '*   Saved Schools Image 3 *   Schools *   Top Rated Schools *   Schools *   Top Rated Schools 221Elementary Schools 122Middle Schools 88High Schools 138Public District Schools Top Rated Schools in This City Whittier Elementary School Alki Elementary School Coe Elementary School Montlake Elementary School Show More Schools See All Elementary Schools These are some of the best public high schools in Seattle at preparing students for success in college. West Seattle High School *   Seattle Public Schools51,238 students|SEATTLE, WA Grades 9-12|1 school  Grades 11-12|1 school  Grades 9-12|1 school  Reviews From Schools in Seattle Does your child attend a school in this city? Review forMcGilvra Elementary School Find a school  *   K-12 Schools *   Elementary Schools *   Middle Schools *   High Schools',\n",
       "   'score': 0.2872482,\n",
       "   'raw_content': None},\n",
       "  {'url': 'https://en.wikipedia.org/wiki/Seattle_metropolitan_area',\n",
       "   'title': 'Seattle metropolitan area - Wikipedia',\n",
       "   'content': 'Other inter-county organizations include special districts \"Special district (United States)\") and regional authorities for conservation, transit, libraries, and firefighting; as of 2007( there are over 220 special purpose districts in the Seattle metropolitan area. The water is collected and treated by three major public utilities that distribute it for consumption: the City of Everett manages the water supply for most of Snohomish County, which is derived from Spada Lake on the Sultan River; Seattle Public Utilities serves 1.3 million people in King County and has two major water sources on the Cedar \"Cedar River (Washington)\") and Tolt rivers; and Tacoma Public Utilities uses the upper Green River \"Green River (Washington)\") in King County to serve Pierce County and portions of southern King County.:\\u200a7.6 The utilities and other providers also rely on groundwater wells that draw from a series of underground aquifers in the region, but their use has diminished since the mid-20th century.:\\u200a6.7 The treatment process generally includes the addition of water fluoridation and the use of chlorine as well as ozone or ultraviolet light disinfection.',\n",
       "   'score': 0.27212292,\n",
       "   'raw_content': None},\n",
       "  {'url': 'https://www.seattleschools.org/enroll/about-our-schools/',\n",
       "   'title': 'Find Your School - Seattle Public Schools',\n",
       "   'content': 'Seattle Public Schools Find Your School Find Your School Seattle Public Schools offers award-winning neighborhood schools and outstanding option schools. Address Lookup Tool Seattle Public Schools assigns students based on the address where their primary residence is located. Click the Address Lookup tool below to see which school your student would be assigned to according to your address. You can learn more about our\\xa0small high schools with continuous enrollment. Please visit our Enrollment Planning webpage for Attendance Area Maps. Students may apply for assignment to a different school or program. Contact us Contact the Admissions Center. Contact the Admissions Center. School Year Calendar School Directory Contact: Seattle Public Schools Contact Us Distributing Information to Students and Schools Seattle Public Schools.',\n",
       "   'score': 0.23118909,\n",
       "   'raw_content': None}],\n",
       " 'response_time': 1.69}"
      ]
     },
     "execution_count": 4,
     "metadata": {},
     "output_type": "execute_result"
    }
   ],
   "source": [
    "response"
   ]
  },
  {
   "cell_type": "markdown",
   "metadata": {},
   "source": [
    "## Setup the Graph"
   ]
  },
  {
   "cell_type": "markdown",
   "metadata": {},
   "source": [
    "\n",
    "#used in Plan which is used in State\n",
    "class Step(BaseModel):\n",
    "    title: str\n",
    "    description: str = Field(..., description=\"Specify exactly what data to collect\")\n",
    "    execution_res: Optional[str] = Field(\n",
    "        default=None, description=\"The Step execution result\"\n",
    "    )\n",
    "\n",
    "#used in the State object\n",
    "class Plan(BaseModel):\n",
    "    thought: str\n",
    "    title: str\n",
    "    steps: List[Step] = Field(\n",
    "        default_factory=list,\n",
    "        description=\"Research & Processing steps to get more context\",\n",
    "    )\n",
    "\n",
    "class Resource(BaseModel):\n",
    "    \"\"\"\n",
    "    Resource is a class that represents a resource.\n",
    "    \"\"\"\n",
    "\n",
    "    uri: str = Field(..., description=\"The URI of the resource\")\n",
    "    title: str = Field(..., description=\"The title of the resource\")\n",
    "    description: str | None = Field(\"\", description=\"The description of the resource\")\n",
    "\n",
    "class State(MessagesState):\n",
    "    \"\"\"State for our research agents.\"\"\"\n",
    "    research_topic: str = \"\"\n",
    "    observations: list[str] = []\n",
    "    queries: list[str] = []\n",
    "    resources: list[Resource] = []\n",
    "    plan_iterations: int = 0\n",
    "    current_plan: Plan | str = None\n",
    "    final_report: str = \"\""
   ]
  },
  {
   "cell_type": "markdown",
   "metadata": {},
   "source": [
    "### LLM Configuration"
   ]
  },
  {
   "cell_type": "code",
   "execution_count": 5,
   "metadata": {},
   "outputs": [],
   "source": [
    "from langchain_core.rate_limiters import InMemoryRateLimiter\n",
    "\n",
    "rate_limiter = InMemoryRateLimiter(\n",
    "    requests_per_second=4,  \n",
    "    check_every_n_seconds=0.1,\n",
    "    max_bucket_size=10,\n",
    ")\n",
    "\n",
    "basic_llm = init_chat_model(\"openai:gpt-4.1-mini\", rate_limiter=rate_limiter)\n",
    "reasoning_llm = init_chat_model(\"openai:gpt-4.1-mini\", rate_limiter=rate_limiter)"
   ]
  },
  {
   "cell_type": "markdown",
   "metadata": {},
   "source": [
    "## Graph Setup"
   ]
  },
  {
   "cell_type": "code",
   "execution_count": 6,
   "metadata": {},
   "outputs": [],
   "source": [
    "#used in Plan which is used in State\n",
    "class Step(BaseModel):\n",
    "    title: str\n",
    "    description: str = Field(..., description=\"Specify exactly what data to collect\")\n",
    "    execution_res: Optional[str] = Field(\n",
    "        default=None, description=\"The Step execution result\"\n",
    "    )\n",
    "\n",
    "#used in the State object\n",
    "class Plan(BaseModel):\n",
    "    thought: str\n",
    "    title: str\n",
    "    steps: List[Step] = Field(\n",
    "        default_factory=list,\n",
    "        description=\"Research & Processing steps to get more context\",\n",
    "    )\n",
    "\n",
    "class Resource(BaseModel):\n",
    "    \"\"\"\n",
    "    Resource is a class that represents a resource.\n",
    "    \"\"\"\n",
    "\n",
    "    uri: str = Field(..., description=\"The URI of the resource\")\n",
    "    title: str = Field(..., description=\"The title of the resource\")\n",
    "    description: str | None = Field(\"\", description=\"The description of the resource\")\n",
    "\n",
    "class State(MessagesState):\n",
    "    \"\"\"State for our research agents.\"\"\"\n",
    "    research_topic: str = \"\"\n",
    "    observations: list[str] = []\n",
    "    queries: list[str] = []\n",
    "    resources: list[Resource] = []\n",
    "    plan_iterations: int = 0\n",
    "    current_plan: Plan | str = None\n",
    "    final_report: str = \"\""
   ]
  },
  {
   "cell_type": "markdown",
   "metadata": {},
   "source": [
    "## Prompt Management"
   ]
  },
  {
   "cell_type": "code",
   "execution_count": 7,
   "metadata": {},
   "outputs": [],
   "source": [
    "with open(\"planner.md\", \"r\", encoding=\"utf-8\") as file:\n",
    "    plan_prompt = file.read()"
   ]
  },
  {
   "cell_type": "code",
   "execution_count": 8,
   "metadata": {
    "scrolled": true
   },
   "outputs": [
    {
     "name": "stdout",
     "output_type": "stream",
     "text": [
      "planning_prompt = \"\"\"Today's date is 07/13/2025.  You are a professional research agent.  Plan information gathering and research tasks using a team of specialized agents to collect\n",
      "relevant data for preparing an in depth report on a given topic or request.\n",
      "Break down the request into specific tasks or activities that can be pursued by researchers to gather information for subsequent analysis, it is critical\n",
      "to be thorough in information collection, sampling a broad range of information or topics as well as in depth detail or analysis for given\n",
      "portions of the topic or question.\n",
      "\n",
      "## Information Standards and Success\n",
      "A successful research plan must meet these requirements:\n",
      "1. Comprehensive Coverage\n",
      "-Explore all aspects of the topic to identify associated themes or trends that shed light on the question at hand\n",
      "-Represent multiple viewpoints or perspectives\n",
      "\n",
      "2. Detailed Analysis\n",
      "-For key portions of the question or topic, perform detailed analysis, performing research to further explore a specific area\n",
      "-Detailed data points, facts, and statistics are required\n",
      "-Multiple sources are required for in-depth analysis\n",
      "\n",
      "3. Adequate Volume\n",
      "-Ensure each research topic has a variety of sources backing the findings or report\n",
      "-More high-quality information is always preferable and findings should have ample citations or references\n",
      "\n",
      "## Request topic clarity\n",
      "Before formulating a plan you can ask one set of follow up questions to inform the plan or add more detail to users, this can range from 1-5 questions and each question should be no longer than once sentence, these should be concise and straightforward to answer, often consisting of yes or no answers or a set of choices for the user.\n",
      "\n",
      "## Analysis Framework\n",
      "\n",
      "When planning information gathering, consider these key aspects and ensure COMPREHENSIVE coverage:\n",
      "\n",
      "1. Historical Context:\n",
      "   - What historical data and trends are needed?\n",
      "   - What is the complete timeline of relevant events?\n",
      "   - How has the subject evolved over time?\n",
      "\n",
      "2. Current State:\n",
      "   - What current data points need to be collected?\n",
      "   - What is the present landscape/situation in detail?\n",
      "   - What are the most recent developments?\n",
      "\n",
      "3. Future Indicators:\n",
      "   - What predictive data or future-oriented information is required?\n",
      "   - What are all relevant forecasts and projections?\n",
      "   - What potential future scenarios should be considered?\n",
      "\n",
      "4. Stakeholder Data:\n",
      "   - What information about ALL relevant stakeholders is needed?\n",
      "   - How are different groups affected or involved?\n",
      "   - What are the various perspectives and interests?\n",
      "\n",
      "5. Quantitative Data:\n",
      "   - What comprehensive numbers, statistics, and metrics should be gathered?\n",
      "   - What numerical data is needed from multiple sources?\n",
      "   - What statistical analyses are relevant?\n",
      "\n",
      "6. Qualitative Data:\n",
      "   - What non-numerical information needs to be collected?\n",
      "   - What opinions, testimonials, and case studies are relevant?\n",
      "   - What descriptive information provides context?\n",
      "\n",
      "7. Comparative Data:\n",
      "   - What comparison points or benchmark data are required?\n",
      "   - What similar cases or alternatives should be examined?\n",
      "   - How does this compare across different contexts?\n",
      "\n",
      "8. Risk Data:\n",
      "   - What information about ALL potential risks should be gathered?\n",
      "   - What are the challenges, limitations, and obstacles?\n",
      "   - What contingencies and mitigations exist?\n",
      "\n",
      "## Step Constraints\n",
      "\n",
      "- Maximum Steps: Limit the plan to a maximum of 10 steps for focused research.\n",
      "- Each step should be comprehensive but targeted, covering key aspects rather than being overly expansive.\n",
      "- Prioritize the most important information categories based on the research question.\n",
      "- Consolidate related research points into single steps where appropriate.\n",
      "\n",
      "\n",
      "## Execution Rules\n",
      "\n",
      "- To begin with, repeat user's requirement in your own words as `thought`.\n",
      "- Break down the required information using the Analysis Framework\n",
      "- Create NO MORE THAN 10 focused and comprehensive steps that cover the most essential aspects\n",
      "- Ensure each step is substantial and covers related information categories\n",
      "- Prioritize breadth and depth within the 10-step constraint\n",
      "- Specify the exact data to be collected in step's `description`. Include a `note` if necessary.\n",
      "- Prioritize depth and volume of relevant information - limited information is not acceptable.\n",
      "- Do not include steps for summarizing or consolidating the gathered information.\n",
      "\n",
      "# Output Format\n",
      "\n",
      "Directly output the raw JSON format of `Plan` without \"```json\". The `Plan` interface is defined as follows:\n",
      "\n",
      "```ts\n",
      "interface Step {\n",
      "  title: string;\n",
      "  description: string; // Specify exactly what data to collect. If the user input contains a link, please retain the full Markdown format when necessary.\n",
      "}\n",
      "\n",
      "interface Plan {\n",
      "  thought: string;\n",
      "  title: string;\n",
      "  steps: Step[]; // Research steps for gathering more information or performing searches\n",
      "}\n",
      "```\n",
      "\n",
      "# Notes\n",
      "\n",
      "- Ensure each step has a clear, specific data point or information to collect\n",
      "- Create a comprehensive data collection plan that covers the most critical aspects within 10 steps\n",
      "- Prioritize BOTH breadth (covering essential aspects) AND depth (detailed information on each aspect)\n",
      "- Never settle for minimal information - the goal is a comprehensive, detailed final report\n",
      "- Limited or insufficient information will lead to an inadequate final report\n",
      "- Default to gathering more information unless the strictest sufficient context criteria are met\n"
     ]
    }
   ],
   "source": [
    "from jinja2 import Template\n",
    "\n",
    "template = Template(plan_prompt)\n",
    "\n",
    "rendered = template.render(date=datetime.now().strftime('%m/%d/%Y'), max_step_num=10)\n",
    "\n",
    "print(rendered)\n",
    "# Output: Maximum steps allowed: 10"
   ]
  },
  {
   "cell_type": "code",
   "execution_count": 9,
   "metadata": {},
   "outputs": [],
   "source": [
    "question = \"\"\"What are the rankings for the broader Seattle metro region's schools?  \n",
    "Which stand out, which are lagging and what are some common themes or drivers for those that lead or lag?  \n",
    "How should families evaluate their options including private schools in some of the key areas of the metro?\"\"\"\n",
    "\n",
    "messages = [{\"role\": \"system\", \"content\": rendered}, {\"role\": \"user\", \"content\": question}]"
   ]
  },
  {
   "cell_type": "code",
   "execution_count": 10,
   "metadata": {},
   "outputs": [
    {
     "data": {
      "text/plain": [
       "{'thought': 'The user is requesting a detailed research plan to gather comprehensive data on school rankings across the broader Seattle metro area, identifying both top-performing and lagging schools, understanding the factors influencing these standings, and advising on how families can evaluate school options including private schools in key metro areas.',\n",
       " 'title': 'Research Plan for Seattle Metro Area School Rankings and Family Evaluation Strategies',\n",
       " 'steps': [{'title': 'Collect Comprehensive School Rankings and Performance Data',\n",
       "   'description': 'Gather detailed rankings and performance metrics for all public and private schools in the broader Seattle metro area, including standardized test scores, graduation rates, college admission rates, and school rating systems from sources like GreatSchools, Niche, and state education departments. Include diverse viewpoints such as academic, extracurricular, and special program ratings.'},\n",
       "  {'title': 'Identify Top-Performing and Lagging Schools',\n",
       "   'description': 'Analyze the compiled rankings to highlight which schools consistently rank highest and which schools are underperforming relative to the regional average. Capture quantitative data such as academic performance, student-teacher ratios, funding levels, and qualitative assessments like community reputation and parent/student testimonials.'},\n",
       "  {'title': 'Investigate Historical Trends and Evolution of School Performance',\n",
       "   'description': 'Compile historical data on school rankings and performance over the past decade to understand trends of improvement or decline in both public and private schools. Examine how demographics, funding changes, policy reforms, and other historical factors have influenced these trends.'},\n",
       "  {'title': 'Analyze Drivers and Common Themes Behind Leading and Lagging Schools',\n",
       "   'description': 'Research underlying factors impacting school performance including socioeconomic status of student populations, school funding sources, teacher qualifications, curriculum quality, administrative leadership, community involvement, and availability of advanced placement or special education programs.'},\n",
       "  {'title': 'Map and Profile Key Neighborhoods and School Districts in the Seattle Metro',\n",
       "   'description': 'Create detailed geographic profiles of key neighborhoods and school districts within the Seattle metro area. Include demographic data, local economic indicators, transportation access, and proximity to both public and private school options to highlight how location affects school choice and performance.'},\n",
       "  {'title': 'Survey Private School Options and Evaluation Metrics',\n",
       "   'description': 'Gather comprehensive data on private schools including tuition costs, curriculum focus (religious, Montessori, STEM, arts), enrollment statistics, accreditation status, and performance outcomes. Identify how their offerings and costs compare to public schools in the metro area.'},\n",
       "  {'title': 'Collect and Analyze Family and Student Perspectives',\n",
       "   'description': 'Compile qualitative data from parent and student surveys, interviews, and testimonials reflecting experiences and satisfaction with various schools across the metro. Capture concerns, priorities, and decision-making criteria families use in evaluating schools.'},\n",
       "  {'title': 'Evaluate Evaluation Criteria and Decision-Making Frameworks for Families',\n",
       "   'description': 'Research best practices and expert recommendations for how families should assess school options, including balancing academic quality, extracurricular opportunities, safety, accessibility, cost, and fit for individual student needs. Include comparisons between public and private school evaluation methods.'},\n",
       "  {'title': 'Compare Seattle Metro School Rankings Against Peer Metropolitan Areas',\n",
       "   'description': 'Collect comparative data on similar-sized metro areas to benchmark Seattle area school rankings and resources. Identify areas where Seattle excels or lags behind and factors contributing to these differences.'},\n",
       "  {'title': 'Identify Risks, Challenges, and Emerging Issues in Seattle Metro Schools',\n",
       "   'description': 'Research potential risks or challenges facing Seattle metro schools such as funding cuts, demographic shifts, policy changes, overcrowding, or technological access disparities. Include contingencies and mitigation strategies that families and educators may consider.'}]}"
      ]
     },
     "execution_count": 10,
     "metadata": {},
     "output_type": "execute_result"
    }
   ],
   "source": [
    "full_response = \"\"\n",
    "plan_llm = reasoning_llm.with_structured_output(Plan,method=\"json_mode\")\n",
    "response = plan_llm.invoke(messages)\n",
    "full_response = response.model_dump_json(indent=4, exclude_none=True)\n",
    "\n",
    "json.loads(full_response)"
   ]
  },
  {
   "cell_type": "markdown",
   "metadata": {},
   "source": [
    "## Planning Graph"
   ]
  },
  {
   "cell_type": "code",
   "execution_count": 11,
   "metadata": {},
   "outputs": [],
   "source": [
    "from dataclasses import dataclass, field, fields\n",
    "\n",
    "#used in apply_prompt_templates\n",
    "@dataclass(kw_only=True)\n",
    "class Configuration:\n",
    "    \"\"\"The configurable fields.\"\"\"\n",
    "    max_plan_iterations: int = 1  # Maximum number of plan iterations\n",
    "    max_step_num: int = 3  # Maximum number of steps in a plan\n",
    "    max_search_results: int = 3  # Maximum number of search results\n",
    "    mcp_settings: dict = None  # MCP settings, including dynamic loaded tools\n",
    "\n",
    "    @classmethod\n",
    "    def from_runnable_config(\n",
    "        cls, config: Optional[RunnableConfig] = None\n",
    "    ) -> \"Configuration\":\n",
    "        \"\"\"Create a Configuration instance from a RunnableConfig.\"\"\"\n",
    "        configurable = (\n",
    "            config[\"configurable\"] if config and \"configurable\" in config else {}\n",
    "        )\n",
    "        values: dict[str, Any] = {\n",
    "            f.name: os.environ.get(f.name.upper(), configurable.get(f.name))\n",
    "            for f in fields(cls)\n",
    "            if f.init\n",
    "        }\n",
    "        return cls(**{k: v for k, v in values.items() if v})"
   ]
  },
  {
   "cell_type": "code",
   "execution_count": 12,
   "metadata": {},
   "outputs": [],
   "source": [
    "initial_state = {\n",
    "        #Setting up State\n",
    "        \"messages\": [{\"role\": \"user\", \"content\": question}],\n",
    "        \"documents\": []\n",
    "    }\n",
    "\n",
    "config = {\n",
    "    #runtime configuration or variables\n",
    "        \"configurable\": {\n",
    "            \"thread_id\": \"default\",\n",
    "            \"max_plan_iterations\": 1,\n",
    "            \"max_step_num\": 5,\n",
    "        },\n",
    "        \"recursion_limit\": 100,\n",
    "    }\n"
   ]
  },
  {
   "cell_type": "code",
   "execution_count": 13,
   "metadata": {},
   "outputs": [],
   "source": [
    "def prepare_prompt(node, config, messages):\n",
    "    with open(f\"{node}.md\", \"r\", encoding=\"utf-8\") as file:\n",
    "        plan_prompt = file.read()\n",
    "    template = Template(plan_prompt)\n",
    "\n",
    "    prompt = template.render(date=datetime.now().strftime('%d/%m/%Y'), max_step_num=config.max_step_num)\n",
    "    return [{\"role\": \"system\", \"content\": prompt}] + messages"
   ]
  },
  {
   "cell_type": "code",
   "execution_count": 14,
   "metadata": {},
   "outputs": [],
   "source": [
    "def planner_node(state: State, config: RunnableConfig):\n",
    "    configurable = Configuration.from_runnable_config(config)\n",
    "    messages = state.get(\"messages\")\n",
    "    plan_llm = reasoning_llm.with_structured_output(Plan,method=\"json_mode\")\n",
    "    #if plan_iterations >= configurable.max_plan_iterations:\n",
    "    #    return Command(goto=\"reporter\")\n",
    "    messages = prepare_prompt(\"planner\",configurable,messages)\n",
    "    full_response = \"\"\n",
    "    response = plan_llm.invoke(messages)\n",
    "    full_response = response.model_dump_json(indent=4, exclude_none=True)\n",
    "    plan_response = json.loads(full_response)\n",
    "    new_plan = Plan.model_validate(plan_response)\n",
    "    return Command(\n",
    "        update={\n",
    "            \"messages\": [AIMessage(content=full_response, name=\"planner\")],\n",
    "            \"current_plan\": new_plan,\n",
    "        },\n",
    "        goto=\"research_coordinator\",\n",
    "    )"
   ]
  },
  {
   "cell_type": "code",
   "execution_count": 15,
   "metadata": {},
   "outputs": [],
   "source": [
    "def research_coordinator_node(state: State):\n",
    "    print(\"Nothing\")\n",
    "    \"\"\"Research team node that collaborates on tasks.\"\"\"\n",
    "    pass"
   ]
  },
  {
   "cell_type": "code",
   "execution_count": 16,
   "metadata": {},
   "outputs": [],
   "source": [
    "from langgraph.checkpoint.memory import MemorySaver\n",
    "memory = MemorySaver()\n",
    "\n",
    "graph = StateGraph(State)\n",
    "\n",
    "# Add nodes\n",
    "graph.add_node(\"planner\", planner_node)\n",
    "graph.add_node(\"research_coordinator\", research_coordinator_node)\n",
    "graph.set_entry_point(\"planner\")\n",
    "graph.add_edge(\"research_coordinator\", END)  # Option in the future, to add another step and filter the documents retrieved using rerhank before writing the report\n",
    "\n",
    "agent = graph.compile(checkpointer=memory)"
   ]
  },
  {
   "cell_type": "code",
   "execution_count": 17,
   "metadata": {},
   "outputs": [
    {
     "name": "stdout",
     "output_type": "stream",
     "text": [
      "Nothing\n"
     ]
    }
   ],
   "source": [
    "events = list(agent.stream(input=initial_state, config=config, stream_mode=\"values\"))"
   ]
  },
  {
   "cell_type": "code",
   "execution_count": 18,
   "metadata": {},
   "outputs": [
    {
     "data": {
      "text/plain": [
       "{'current_plan', 'messages'}"
      ]
     },
     "execution_count": 18,
     "metadata": {},
     "output_type": "execute_result"
    }
   ],
   "source": [
    "snapshot = agent.get_state(config)\n",
    "{k for k, v in snapshot.values.items()}"
   ]
  },
  {
   "cell_type": "code",
   "execution_count": 19,
   "metadata": {},
   "outputs": [
    {
     "data": {
      "text/plain": [
       "[Step(title='Collect Comprehensive Data on Seattle Metro School Rankings', description='Gather detailed rankings and performance data for all types of schools in the Seattle metro region, including public, charter, and private institutions. Data should include academic achievement scores, graduation rates, standardized test scores, college readiness indicators, and extra-curricular offerings from sources such as state education departments, GreatSchools, Niche, and relevant school district reports.', execution_res=None),\n",
       " Step(title='Identify High-Performing and Lagging Schools with Analysis of Common Drivers', description='Analyze the data to identify schools that consistently rank at the top or bottom. Collect qualitative and quantitative information regarding factors influencing performance such as funding levels, teacher qualifications and retention, student demographics, community involvement, resource availability, and administrative policies. Include case studies and expert opinions to understand underlying themes contributing to success or challenges.', execution_res=None),\n",
       " Step(title='Assess Current Private School Landscape in Key Seattle Metro Areas', description='Compile an overview of private schools across prominent neighborhoods and suburbs in the Seattle metro, including tuition costs, religious affiliations, academic programs, diversity, reputation, class sizes, and special programs. Obtain data from independent school associations, school websites, and parent/student reviews to contextualize private school options.', execution_res=None),\n",
       " Step(title='Develop Criteria and Framework for Families to Evaluate School Options', description='Research best practices and expert recommendations for families evaluating schools, focusing on factors such as academic quality, extracurricular opportunities, school culture, commute times, inclusivity, affordability, and alignment with family values. Collect surveys or testimonials from families who have navigated school selection in the region. Present decision-making tools or checklists.', execution_res=None),\n",
       " Step(title='Compare Seattle Metro Schools to Similar Metropolitan Areas', description='Obtain and analyze comparative data on school performance and family evaluation criteria from other metropolitan areas with similar demographics and size. Identify key areas where Seattle excels or lags, highlighting distinctive challenges or advantages. This will provide context and benchmarks for the Seattle metro school landscape.', execution_res=None)]"
      ]
     },
     "execution_count": 19,
     "metadata": {},
     "output_type": "execute_result"
    }
   ],
   "source": [
    "snapshot.values['current_plan'].steps"
   ]
  },
  {
   "cell_type": "markdown",
   "metadata": {},
   "source": [
    "## Researcher"
   ]
  },
  {
   "cell_type": "markdown",
   "metadata": {},
   "source": [
    "### Research Prompt"
   ]
  },
  {
   "cell_type": "code",
   "execution_count": 20,
   "metadata": {},
   "outputs": [],
   "source": [
    "def research_prompt(node, thought, step):\n",
    "    with open(f\"{node}.md\", \"r\", encoding=\"utf-8\") as file:\n",
    "        plan_prompt = file.read()\n",
    "    template = Template(plan_prompt)\n",
    "    prompt = template.render(date=datetime.now().strftime('%d/%m/%Y'), thought=thought, step=step)\n",
    "    return prompt"
   ]
  },
  {
   "cell_type": "code",
   "execution_count": 21,
   "metadata": {},
   "outputs": [],
   "source": [
    "plan = snapshot.values['current_plan']\n",
    "plan_steps = []\n",
    "for i in plan.steps:\n",
    "    plan_steps.append(research_prompt(\"researcher\",plan.thought,i))"
   ]
  },
  {
   "cell_type": "code",
   "execution_count": 22,
   "metadata": {},
   "outputs": [
    {
     "data": {
      "text/plain": [
       "'planning_prompt = \"\"\"The current date is 13/07/2025.\\n\\nYou are a research agent that is managed by a supervisory agent.  You conduct thorough investigations using web search tools in order to collect information that will be synthesized into a comprehensive report on a given topic.\\n\\n# Instructions\\n- Assess the \\'Step\\' below to evaluate if a web search is required in order to obtain more information or answer the question.  All questions or requests for more information require searches and must be cited, innate knowledge or assumptions cannot be used.\\n- Use the information provided in order to construct one or more search queries that you expect will produce relevant results or more context or information about the topic or query.\\n- Your queries should be succinct and to the point, do not use multiple sentences or overlapping and possibly conflicting instructions, the query should be as direct and short as possible in order to find relevant results.\\n- Reply with only the query that should be submitted to the search engine.\\n- Break complex or sprawling topics  into multiple more granular or precise searches.\\n- If a search is not required reply with \\'No search\\'\\n\\n# Context\\n## Overall Thought or Instruction\\nThe user wants a comprehensive analysis of school rankings across the Seattle metro region, highlighting top and lagging schools, identifying factors leading to their standings, and guidance for families on evaluating school options, including private schools.\\nThis is broken down into the specific step or instruction you should construct a query to research:\\n## Step\\ntitle=\\'Collect Comprehensive Data on Seattle Metro School Rankings\\' description=\\'Gather detailed rankings and performance data for all types of schools in the Seattle metro region, including public, charter, and private institutions. Data should include academic achievement scores, graduation rates, standardized test scores, college readiness indicators, and extra-curricular offerings from sources such as state education departments, GreatSchools, Niche, and relevant school district reports.\\' execution_res=None\\n\\n# Output Format\\n\\nUse the \\'web_search\\' tool to perform internet searches to find relevant documents.\\nReturn one or more queries for the tool to perform.'"
      ]
     },
     "execution_count": 22,
     "metadata": {},
     "output_type": "execute_result"
    }
   ],
   "source": [
    "plan_steps[0]"
   ]
  },
  {
   "cell_type": "markdown",
   "metadata": {},
   "source": [
    "### Research Tools"
   ]
  },
  {
   "cell_type": "code",
   "execution_count": 23,
   "metadata": {},
   "outputs": [],
   "source": [
    "class Query(BaseModel):\n",
    "    query: str = Field(description=\"web search query\")\n",
    "\n",
    "# Define the args_schema for the tavily_search tool using a multi-query approach, enabling more precise queries for Tavily.\n",
    "class SearchInput(BaseModel):\n",
    "    sub_queries: List[Query] = Field(description=\"set of sub-queries that can be answered in isolation\")\n",
    "class ExtractInput(BaseModel):\n",
    "    urls: List[str] = Field(description=\"list of a single or several URLs for extracting raw content to gather additional information\")\n",
    "\n",
    "\n",
    "@tool(\"web_search\", args_schema=SearchInput, return_direct=True)\n",
    "async def web_search(sub_queries: List[Query]):\n",
    "    \"\"\"Perform searches for each sub-query using the Tavily search tool concurrently.\"\"\"  \n",
    "    # Define a coroutine function to perform a single search with error handling\n",
    "    async def perform_search(itm):\n",
    "        try:\n",
    "            # Attempt to perform the search, hardcoding days to 7 (days will be used only when topic is news)\n",
    "            print(f'searching for %s' % itm)\n",
    "            response = await tavily_client.search(query=itm, max_results=10)\n",
    "            return response['results']\n",
    "        except Exception as e:\n",
    "            # Handle any exceptions, log them, and return an empty list\n",
    "            print(f\"Error occurred during search for query '{itm}': {str(e)}\")\n",
    "            return []\n",
    "    \n",
    "    # Run all the search tasks in parallel\n",
    "    search_tasks = [perform_search(itm.query) for itm in sub_queries]\n",
    "    search_responses = await asyncio.gather(*search_tasks)\n",
    "    \n",
    "    # Combine the results from all the responses\n",
    "    search_results = []\n",
    "    for response in search_responses:\n",
    "        search_results.extend(response)\n",
    "    \n",
    "    return search_results\n",
    "\n",
    "tools = [web_search]\n",
    "tools_by_name = {tool.name: tool for tool in tools}\n",
    "tavily_client = AsyncTavilyClient()"
   ]
  },
  {
   "cell_type": "code",
   "execution_count": 24,
   "metadata": {},
   "outputs": [
    {
     "data": {
      "text/plain": [
       "{'web_search': StructuredTool(name='web_search', description='Perform searches for each sub-query using the Tavily search tool concurrently.', args_schema=<class '__main__.SearchInput'>, return_direct=True, coroutine=<function web_search at 0x10b5be980>)}"
      ]
     },
     "execution_count": 24,
     "metadata": {},
     "output_type": "execute_result"
    }
   ],
   "source": [
    "tools_by_name"
   ]
  },
  {
   "cell_type": "markdown",
   "metadata": {},
   "source": [
    "### An example tool call"
   ]
  },
  {
   "cell_type": "code",
   "execution_count": 25,
   "metadata": {},
   "outputs": [
    {
     "name": "stdout",
     "output_type": "stream",
     "text": [
      "searching for criteria families should consider when choosing schools in Seattle metro area\n",
      "searching for top private schools in Seattle metro area compared to public schools\n",
      "searching for school choice and enrollment resources in Seattle metro area\n",
      "searching for factors for evaluating school fit based on family values and student needs\n",
      "searching for Seattle metro area school safety and transportation options\n"
     ]
    }
   ],
   "source": [
    "tool_call_example = {'name': 'web_search',\n",
    "    'args': {'sub_queries': [{'query': 'criteria families should consider when choosing schools in Seattle metro area'},\n",
    "      {'query': 'top private schools in Seattle metro area compared to public schools'},\n",
    "      {'query': 'school choice and enrollment resources in Seattle metro area'},\n",
    "      {'query': 'factors for evaluating school fit based on family values and student needs'},\n",
    "      {'query': 'Seattle metro area school safety and transportation options'}]},\n",
    "    'id': 'call_LwRdX7dWXO8qZeAQc0vBaDMf',\n",
    "    'type': 'tool_call'}\n",
    "new_docs = await tools_by_name['web_search'].ainvoke(tool_call_example[\"args\"])"
   ]
  },
  {
   "cell_type": "code",
   "execution_count": 26,
   "metadata": {},
   "outputs": [
    {
     "data": {
      "text/plain": [
       "[{'url': 'https://www.seattleschools.org/enroll/about-our-schools/school-choice/',\n",
       "  'title': 'School Choice and Open Enrollment - Seattle Public Schools',\n",
       "  'content': 'Families can also apply to request that their student attend a different school through the Open Enrollment for School Choice Process. School Choice Open Enrollment Video Families with students enrolled in Seattle Public Schools may submit school choice applications for the following school year. Will have a guaranteed HC Pathway seat at their HC Pathway High School (Garfield, Lincoln, or West Seattle),\\u202fbut a Choice Form must be submitted during Open Enrollment. Students receive highest priority for assignment if they have a sibling attending for the current and following school year that choice school they are applying to. Students who do not receive an assignment are placed on a waitlist for their first-choice school only.',\n",
       "  'score': 0.5996498,\n",
       "  'raw_content': None},\n",
       " {'url': 'https://www.reddit.com/r/Seattle/comments/1is4pj5/greater_seattle_area_parents_which_school/',\n",
       "  'title': 'Greater Seattle Area Parents: Which School District Did You Choose ...',\n",
       "  'content': 'Did you prioritize academics, community feel, extracurriculars, or something else? There are many good schools in the area, according to Great',\n",
       "  'score': 0.55449516,\n",
       "  'raw_content': None},\n",
       " {'url': 'https://www.niche.com/k12/search/best-public-elementary-schools/m/seattle-metro-area/',\n",
       "  'title': '2025 Best Public Elementary Schools in the Seattle Area - Niche',\n",
       "  'content': 'Ranking factors include state test scores, student-teacher ratio, student diversity, teacher quality, grade school ratings, and the overall',\n",
       "  'score': 0.5515985,\n",
       "  'raw_content': None}]"
      ]
     },
     "execution_count": 26,
     "metadata": {},
     "output_type": "execute_result"
    }
   ],
   "source": [
    "new_docs[:3]"
   ]
  },
  {
   "cell_type": "code",
   "execution_count": 27,
   "metadata": {},
   "outputs": [
    {
     "data": {
      "text/plain": [
       "[Resource(uri='https://www.seattleschools.org/enroll/about-our-schools/school-choice/', title='School Choice and Open Enrollment - Seattle Public Schools', description='Families can also apply to request that their student attend a different school through the Open Enrollment for School Choice Process. School Choice Open Enrollment Video Families with students enrolled in Seattle Public Schools may submit school choice applications for the following school year. Will have a guaranteed HC Pathway seat at their HC Pathway High School (Garfield, Lincoln, or West Seattle),\\u202fbut a Choice Form must be submitted during Open Enrollment. Students receive highest priority for assignment if they have a sibling attending for the current and following school year that choice school they are applying to. Students who do not receive an assignment are placed on a waitlist for their first-choice school only.'),\n",
       " Resource(uri='https://www.reddit.com/r/Seattle/comments/1is4pj5/greater_seattle_area_parents_which_school/', title='Greater Seattle Area Parents: Which School District Did You Choose ...', description='Did you prioritize academics, community feel, extracurriculars, or something else? There are many good schools in the area, according to Great'),\n",
       " Resource(uri='https://www.niche.com/k12/search/best-public-elementary-schools/m/seattle-metro-area/', title='2025 Best Public Elementary Schools in the Seattle Area - Niche', description='Ranking factors include state test scores, student-teacher ratio, student diversity, teacher quality, grade school ratings, and the overall')]"
      ]
     },
     "execution_count": 27,
     "metadata": {},
     "output_type": "execute_result"
    }
   ],
   "source": [
    "#transforming these results into Resources, which we'll then store in the State\n",
    "resource_list = []\n",
    "for doc in new_docs:\n",
    "    resource_list.append(Resource(uri=doc['url'], title = doc['title'], description=doc['content']))\n",
    "resource_list[:3]"
   ]
  },
  {
   "cell_type": "markdown",
   "metadata": {},
   "source": [
    "## A Graph with Research"
   ]
  },
  {
   "cell_type": "code",
   "execution_count": 28,
   "metadata": {},
   "outputs": [],
   "source": [
    "async def research_node(state: State, config: RunnableConfig):\n",
    "    resources = state.get('resources',[])\n",
    "    full_response = \"\"\n",
    "    for tool_call in state[\"queries\"]:\n",
    "        tool_call = tool_call[0]\n",
    "        tool = tools_by_name[tool_call[\"name\"]]\n",
    "        new_docs = await tool.ainvoke(tool_call[\"args\"])\n",
    "        for doc in new_docs:\n",
    "            resource_list.append(Resource(uri=doc['url'], title = doc['title'], description=doc['content']))\n",
    "    return {\"resources\": resource_list}"
   ]
  },
  {
   "cell_type": "code",
   "execution_count": 29,
   "metadata": {},
   "outputs": [],
   "source": [
    "async def research_coordinator_node(state: State, config: RunnableConfig):\n",
    "    messages = state.get(\"messages\")\n",
    "    print(\"running research\")\n",
    "    plan = state.get(\"current_plan\")\n",
    "    research_results = []\n",
    "    for i in plan.steps:\n",
    "        plan_prompt = research_prompt(\"researcher\",plan.thought,i)\n",
    "        response = basic_llm.bind_tools(tools).invoke(plan_prompt)\n",
    "        research_results.append(response.tool_calls)\n",
    "    return {\"queries\": research_results}"
   ]
  },
  {
   "cell_type": "code",
   "execution_count": 30,
   "metadata": {
    "scrolled": true
   },
   "outputs": [
    {
     "name": "stdout",
     "output_type": "stream",
     "text": [
      "================================\u001b[1m Human Message \u001b[0m=================================\n",
      "\n",
      "What are the rankings for the broader Seattle metro region's schools?  \n",
      "Which stand out, which are lagging and what are some common themes or drivers for those that lead or lag?  \n",
      "How should families evaluate their options including private schools in some of the key areas of the metro?\n",
      "==================================\u001b[1m Ai Message \u001b[0m==================================\n",
      "Name: planner\n",
      "\n",
      "{\n",
      "    \"thought\": \"The user's request is to gather comprehensive information on the rankings of schools in the broader Seattle metro region, identify standout and lagging schools, analyze common themes or drivers behind their performance, and provide guidance on how families should evaluate school options including private schools in key metro areas.\",\n",
      "    \"title\": \"Research Plan for Seattle Metro Region School Rankings and Evaluation\",\n",
      "    \"steps\": [\n",
      "        {\n",
      "            \"title\": \"Collect Current and Historical School Rankings and Performance Data in Seattle Metro\",\n",
      "            \"description\": \"Gather detailed school rankings for public and private elementary, middle, and high schools in the broader Seattle metro region from reputable sources such as state education departments, GreatSchools, Niche, U.S. News & World Report, and local education authorities. Collect historical data to track trends and changes over time. Include standardized test scores, graduation rates, college readiness indexes, and other performance metrics.\"\n",
      "        },\n",
      "        {\n",
      "            \"title\": \"Analyze Common Themes and Drivers for High Performing and Lagging Schools\",\n",
      "            \"description\": \"Research qualitative and quantitative data to identify factors contributing to the success or underperformance of schools in the Seattle metro area. Focus on socio-economic status, funding levels, teacher qualifications and retention rates, student-teacher ratios, community involvement, curriculum quality, and availability of extracurricular programs. Include expert opinions, case studies, and stakeholder perspectives.\"\n",
      "        },\n",
      "        {\n",
      "            \"title\": \"Evaluate Current Landscape and Key Stakeholders' Perspectives on Private vs Public School Options\",\n",
      "            \"description\": \"Gather comprehensive information on private school options in key Seattle metro areas, including tuition costs, academic reputation, religious or pedagogical affiliations, enrollment processes, and scholarship availability. Collect data on family preferences, demographic influences, and perceived advantages or drawbacks. Interview or review reports from education consultants, parents, and school administrators.\"\n",
      "        },\n",
      "        {\n",
      "            \"title\": \"Compile Comparative Data and Benchmarks across Seattle Metro Neighborhoods\",\n",
      "            \"description\": \"Collect comparative data showcasing differences in school quality and resources across Seattle metro neighborhoods and suburbs. Examine disparities based on geographical, economic, and demographic factors. Benchmark Seattle metro schools against other similar metro areas nationally to provide context on relative performance and quality.\"\n",
      "        },\n",
      "        {\n",
      "            \"title\": \"Identify Risk Factors, Challenges, and Evaluation Criteria for Families Choosing Schools\",\n",
      "            \"description\": \"Research potential risks and challenges families face when selecting schools, such as admission competitiveness, transportation issues, diversity and inclusion, safety concerns, and changes in school policy or funding. Develop a comprehensive list of evaluation criteria and best practices for families considering both public and private school options, emphasizing decision factors relevant to the Seattle metro environment.\"\n",
      "        }\n",
      "    ]\n",
      "}\n",
      "running research\n",
      "==================================\u001b[1m Ai Message \u001b[0m==================================\n",
      "Name: planner\n",
      "\n",
      "{\n",
      "    \"thought\": \"The user's request is to gather comprehensive information on the rankings of schools in the broader Seattle metro region, identify standout and lagging schools, analyze common themes or drivers behind their performance, and provide guidance on how families should evaluate school options including private schools in key metro areas.\",\n",
      "    \"title\": \"Research Plan for Seattle Metro Region School Rankings and Evaluation\",\n",
      "    \"steps\": [\n",
      "        {\n",
      "            \"title\": \"Collect Current and Historical School Rankings and Performance Data in Seattle Metro\",\n",
      "            \"description\": \"Gather detailed school rankings for public and private elementary, middle, and high schools in the broader Seattle metro region from reputable sources such as state education departments, GreatSchools, Niche, U.S. News & World Report, and local education authorities. Collect historical data to track trends and changes over time. Include standardized test scores, graduation rates, college readiness indexes, and other performance metrics.\"\n",
      "        },\n",
      "        {\n",
      "            \"title\": \"Analyze Common Themes and Drivers for High Performing and Lagging Schools\",\n",
      "            \"description\": \"Research qualitative and quantitative data to identify factors contributing to the success or underperformance of schools in the Seattle metro area. Focus on socio-economic status, funding levels, teacher qualifications and retention rates, student-teacher ratios, community involvement, curriculum quality, and availability of extracurricular programs. Include expert opinions, case studies, and stakeholder perspectives.\"\n",
      "        },\n",
      "        {\n",
      "            \"title\": \"Evaluate Current Landscape and Key Stakeholders' Perspectives on Private vs Public School Options\",\n",
      "            \"description\": \"Gather comprehensive information on private school options in key Seattle metro areas, including tuition costs, academic reputation, religious or pedagogical affiliations, enrollment processes, and scholarship availability. Collect data on family preferences, demographic influences, and perceived advantages or drawbacks. Interview or review reports from education consultants, parents, and school administrators.\"\n",
      "        },\n",
      "        {\n",
      "            \"title\": \"Compile Comparative Data and Benchmarks across Seattle Metro Neighborhoods\",\n",
      "            \"description\": \"Collect comparative data showcasing differences in school quality and resources across Seattle metro neighborhoods and suburbs. Examine disparities based on geographical, economic, and demographic factors. Benchmark Seattle metro schools against other similar metro areas nationally to provide context on relative performance and quality.\"\n",
      "        },\n",
      "        {\n",
      "            \"title\": \"Identify Risk Factors, Challenges, and Evaluation Criteria for Families Choosing Schools\",\n",
      "            \"description\": \"Research potential risks and challenges families face when selecting schools, such as admission competitiveness, transportation issues, diversity and inclusion, safety concerns, and changes in school policy or funding. Develop a comprehensive list of evaluation criteria and best practices for families considering both public and private school options, emphasizing decision factors relevant to the Seattle metro environment.\"\n",
      "        }\n",
      "    ]\n",
      "}\n",
      "searching for current school rankings Seattle metro public and private elementary middle high schools 2025\n",
      "searching for historical school performance data Seattle metro schools standardized test scores graduation rates college readiness\n",
      "searching for school rankings GreatSchools Niche U.S. News Seattle metro 2025\n",
      "searching for local education authority school performance metrics Seattle metro\n",
      "searching for trends in Seattle metro school rankings and performance over recent years\n",
      "searching for factors contributing to high performance in Seattle metro area schools\n",
      "searching for factors contributing to underperformance in Seattle metro area schools\n",
      "searching for impact of socio-economic status on school performance Seattle\n",
      "searching for school funding levels and academic success Seattle metro\n",
      "searching for teacher qualifications and retention rates in Seattle schools\n",
      "searching for student-teacher ratios effect on performance Seattle schools\n",
      "searching for community involvement in Seattle metro schools academic outcomes\n",
      "searching for curriculum quality and school performance Seattle\n",
      "searching for extracurricular programs availability impact on Seattle schools\n",
      "searching for expert opinions on school performance drivers Seattle\n",
      "searching for case studies on high and low performing schools in Seattle metro\n",
      "searching for stakeholder perspectives on education quality in Seattle metro schools\n",
      "searching for private schools Seattle metro tuition costs academic reputation religious affiliations pedagogical approaches enrollment process scholarships\n",
      "searching for family preferences demographic influences private vs public schools Seattle metro\n",
      "searching for education consultant reports parent school administrator interviews private vs public schools Seattle metro\n",
      "searching for comparative data on school quality and resources across Seattle metro neighborhoods\n",
      "searching for disparities in school quality in Seattle metro by geography economic and demographic factors\n",
      "searching for benchmark school performance Seattle metro vs similar metro areas national\n",
      "searching for risks and challenges families face when choosing schools in Seattle metro area\n",
      "searching for evaluation criteria for families selecting public and private schools in Seattle metro region\n",
      "searching for best practices for families choosing schools in Seattle metropolitan area\n",
      "searching for decision factors for school choice including admission competitiveness transportation safety diversity inclusion Seattle\n",
      "==================================\u001b[1m Ai Message \u001b[0m==================================\n",
      "Name: planner\n",
      "\n",
      "{\n",
      "    \"thought\": \"The user's request is to gather comprehensive information on the rankings of schools in the broader Seattle metro region, identify standout and lagging schools, analyze common themes or drivers behind their performance, and provide guidance on how families should evaluate school options including private schools in key metro areas.\",\n",
      "    \"title\": \"Research Plan for Seattle Metro Region School Rankings and Evaluation\",\n",
      "    \"steps\": [\n",
      "        {\n",
      "            \"title\": \"Collect Current and Historical School Rankings and Performance Data in Seattle Metro\",\n",
      "            \"description\": \"Gather detailed school rankings for public and private elementary, middle, and high schools in the broader Seattle metro region from reputable sources such as state education departments, GreatSchools, Niche, U.S. News & World Report, and local education authorities. Collect historical data to track trends and changes over time. Include standardized test scores, graduation rates, college readiness indexes, and other performance metrics.\"\n",
      "        },\n",
      "        {\n",
      "            \"title\": \"Analyze Common Themes and Drivers for High Performing and Lagging Schools\",\n",
      "            \"description\": \"Research qualitative and quantitative data to identify factors contributing to the success or underperformance of schools in the Seattle metro area. Focus on socio-economic status, funding levels, teacher qualifications and retention rates, student-teacher ratios, community involvement, curriculum quality, and availability of extracurricular programs. Include expert opinions, case studies, and stakeholder perspectives.\"\n",
      "        },\n",
      "        {\n",
      "            \"title\": \"Evaluate Current Landscape and Key Stakeholders' Perspectives on Private vs Public School Options\",\n",
      "            \"description\": \"Gather comprehensive information on private school options in key Seattle metro areas, including tuition costs, academic reputation, religious or pedagogical affiliations, enrollment processes, and scholarship availability. Collect data on family preferences, demographic influences, and perceived advantages or drawbacks. Interview or review reports from education consultants, parents, and school administrators.\"\n",
      "        },\n",
      "        {\n",
      "            \"title\": \"Compile Comparative Data and Benchmarks across Seattle Metro Neighborhoods\",\n",
      "            \"description\": \"Collect comparative data showcasing differences in school quality and resources across Seattle metro neighborhoods and suburbs. Examine disparities based on geographical, economic, and demographic factors. Benchmark Seattle metro schools against other similar metro areas nationally to provide context on relative performance and quality.\"\n",
      "        },\n",
      "        {\n",
      "            \"title\": \"Identify Risk Factors, Challenges, and Evaluation Criteria for Families Choosing Schools\",\n",
      "            \"description\": \"Research potential risks and challenges families face when selecting schools, such as admission competitiveness, transportation issues, diversity and inclusion, safety concerns, and changes in school policy or funding. Develop a comprehensive list of evaluation criteria and best practices for families considering both public and private school options, emphasizing decision factors relevant to the Seattle metro environment.\"\n",
      "        }\n",
      "    ]\n",
      "}\n"
     ]
    }
   ],
   "source": [
    "from langgraph.checkpoint.memory import MemorySaver\n",
    "memory = MemorySaver()\n",
    "\n",
    "graph = StateGraph(State)\n",
    "\n",
    "# Add nodes\n",
    "graph.add_node(\"planner\", planner_node)\n",
    "graph.add_node(\"research_coordinator\", research_coordinator_node)\n",
    "graph.add_node(\"researcher\",research_node)\n",
    "\n",
    "graph.set_entry_point(\"planner\")\n",
    "graph.add_edge(\"research_coordinator\", \"researcher\")\n",
    "graph.add_edge(\"researcher\", END)  # Option in the future, to add another step and filter the documents retrieved using rerhank before writing the report\n",
    "\n",
    "agent = graph.compile(checkpointer=memory)\n",
    "\n",
    "async for s in agent.astream(input=initial_state, config=config, stream_mode=\"values\"):\n",
    "    message = s[\"messages\"][-1]\n",
    "    if isinstance(message, tuple):\n",
    "        print(message)\n",
    "    else:\n",
    "        message.pretty_print()"
   ]
  },
  {
   "cell_type": "code",
   "execution_count": 31,
   "metadata": {},
   "outputs": [
    {
     "name": "stdout",
     "output_type": "stream",
     "text": [
      "Num Messages:  2 Next:  ()\n",
      "--------------------------------------------------------------------------------\n",
      "Num Messages:  2 Next:  ('researcher',)\n",
      "--------------------------------------------------------------------------------\n",
      "Num Messages:  2 Next:  ('research_coordinator',)\n",
      "--------------------------------------------------------------------------------\n",
      "Num Messages:  1 Next:  ('planner',)\n",
      "--------------------------------------------------------------------------------\n",
      "Num Messages:  0 Next:  ('__start__',)\n",
      "--------------------------------------------------------------------------------\n"
     ]
    }
   ],
   "source": [
    "#graph steps and message collection\n",
    "for state in agent.get_state_history(config):\n",
    "    print(\"Num Messages: \", len(state.values[\"messages\"]), \"Next: \", state.next)\n",
    "    print(\"-\" * 80)"
   ]
  },
  {
   "cell_type": "code",
   "execution_count": 32,
   "metadata": {},
   "outputs": [
    {
     "data": {
      "text/plain": [
       "{'current_plan', 'messages', 'queries', 'resources'}"
      ]
     },
     "execution_count": 32,
     "metadata": {},
     "output_type": "execute_result"
    }
   ],
   "source": [
    "snapshot = agent.get_state(config)\n",
    "{k for k, v in snapshot.values.items()}"
   ]
  },
  {
   "cell_type": "code",
   "execution_count": 33,
   "metadata": {},
   "outputs": [
    {
     "data": {
      "text/plain": [
       "\"The user's request is to gather comprehensive information on the rankings of schools in the broader Seattle metro region, identify standout and lagging schools, analyze common themes or drivers behind their performance, and provide guidance on how families should evaluate school options including private schools in key metro areas.\""
      ]
     },
     "execution_count": 33,
     "metadata": {},
     "output_type": "execute_result"
    }
   ],
   "source": [
    "snapshot.values['current_plan'].thought"
   ]
  },
  {
   "cell_type": "code",
   "execution_count": 34,
   "metadata": {},
   "outputs": [
    {
     "data": {
      "text/plain": [
       "[Resource(uri='https://www.seattleschools.org/enroll/about-our-schools/school-choice/', title='School Choice and Open Enrollment - Seattle Public Schools', description='Families can also apply to request that their student attend a different school through the Open Enrollment for School Choice Process. School Choice Open Enrollment Video Families with students enrolled in Seattle Public Schools may submit school choice applications for the following school year. Will have a guaranteed HC Pathway seat at their HC Pathway High School (Garfield, Lincoln, or West Seattle),\\u202fbut a Choice Form must be submitted during Open Enrollment. Students receive highest priority for assignment if they have a sibling attending for the current and following school year that choice school they are applying to. Students who do not receive an assignment are placed on a waitlist for their first-choice school only.'),\n",
       " Resource(uri='https://www.reddit.com/r/Seattle/comments/1is4pj5/greater_seattle_area_parents_which_school/', title='Greater Seattle Area Parents: Which School District Did You Choose ...', description='Did you prioritize academics, community feel, extracurriculars, or something else? There are many good schools in the area, according to Great'),\n",
       " Resource(uri='https://www.niche.com/k12/search/best-public-elementary-schools/m/seattle-metro-area/', title='2025 Best Public Elementary Schools in the Seattle Area - Niche', description='Ranking factors include state test scores, student-teacher ratio, student diversity, teacher quality, grade school ratings, and the overall'),\n",
       " Resource(uri='https://www.collegetransitions.com/blog/best-seattle-private-schools/', title='The Best Seattle Private Schools – 2025 - College Transitions', description='There are a multitude of considerations guiding your selection of which private schools in Seattle will be best for your child. You will need to'),\n",
       " Resource(uri='https://www.seattleschools.org/enroll/about-our-schools/service-and-option-schools/', title='Service and Option Schools - Seattle Public Schools', description='Option schools provide a variety of programmatic opportunities for families looking for choices in addition to their attendance area schools.')]"
      ]
     },
     "execution_count": 34,
     "metadata": {},
     "output_type": "execute_result"
    }
   ],
   "source": [
    "snapshot.values['resources'][:5]"
   ]
  },
  {
   "cell_type": "markdown",
   "metadata": {},
   "source": [
    "## Collection & Downsizing"
   ]
  },
  {
   "cell_type": "code",
   "execution_count": 35,
   "metadata": {},
   "outputs": [],
   "source": [
    "\n",
    "with open(f\"collection.md\", \"r\", encoding=\"utf-8\") as file:\n",
    "    plan_prompt = file.read()\n",
    "template = Template(plan_prompt)\n",
    "thought = snapshot.values[\"current_plan\"].thought\n",
    "step = snapshot.values[\"current_plan\"].steps\n",
    "query = snapshot.values[\"queries\"]\n",
    "resource = snapshot.values[\"resources\"]\n",
    "prompt = template.render(date=datetime.now().strftime('%d/%m/%Y'), thought=thought, step=step, query=query, resource=resource)\n",
    "\n",
    "relevant_urls = reasoning_llm.with_structured_output(ExtractInput).invoke(prompt)"
   ]
  },
  {
   "cell_type": "code",
   "execution_count": 36,
   "metadata": {},
   "outputs": [
    {
     "data": {
      "text/plain": [
       "ExtractInput(urls=['https://www.niche.com/k12/search/best-public-elementary-schools/m/seattle-metro-area/', 'https://www.niche.com/k12/search/best-private-high-schools/m/seattle-metro-area/', 'https://www.usnews.com/education/best-high-schools/washington/rankings/seattle-wa-42660', 'https://www.seattleschools.org/departments/assessments/', 'https://ospi.k12.wa.us/data-reporting', 'https://saveseattleschools.blogspot.com/2025/04/enrollment-trends-for-seattle-schools.html', 'https://www.nctq.org/wp-content/uploads/2025/03/Human_Capital_in_Seattle_Public_Schools_NCTQ_Report.pdf', 'https://www.seattleschools.org/news/class-size-adjustments/', 'https://www.seattleschools.org/wp-content/uploads/2025/02/Enrollment-Decline-Study_ADA.pdf', 'https://www.seattleschools.org/departments/community-partnerships/', 'https://www.seattletimes.com/education-lab/why-have-thousands-left-seattle-schools-a-new-study-suggests-answers/', 'https://www.collegetransitions.com/blog/best-seattle-private-schools/', 'https://www.parentmap.com/article/seattle-public-private-school-options', 'https://www.kuow.org/stories/why-are-so-many-seattle-kids-leaving-public-school-for-private', 'https://www.seattleschools.org/enroll/about-our-schools/school-choice/', 'https://www.seattletimes.com/education-lab/seattle-public-schools-is-shifting-its-student-achievement-goals/', 'https://www.seattleschools.org/academics/', 'https://www.seattle.gov/transportation/projects-and-programs/safety-first/safe-routes-to-school', 'https://livingingreaterseattle.com/blog/choosing-the-right-school-district', 'https://www.seattletimes.com/opinion/academics-is-less-of-a-priority-in-our-schools-and-it-shows/', 'https://www.seattletimes.com/education-lab/seattle-district-to-lift-some-school-enrollment-barriers-for-families', 'https://www.niche.com/k12/search/best-school-districts/m/seattle-metro-area/'])"
      ]
     },
     "execution_count": 36,
     "metadata": {},
     "output_type": "execute_result"
    }
   ],
   "source": [
    "relevant_urls"
   ]
  },
  {
   "cell_type": "code",
   "execution_count": 37,
   "metadata": {},
   "outputs": [],
   "source": [
    "def collection_prompt(node, state):\n",
    "    with open(f\"{node}.md\", \"r\", encoding=\"utf-8\") as file:\n",
    "        plan_prompt = file.read()\n",
    "    template = Template(plan_prompt)\n",
    "    thought = state.get(\"current_plan\").thought\n",
    "    step = state.get(\"current_plan\").steps\n",
    "    query = state.get(\"queries\")\n",
    "    resource = state.get(\"resources\")\n",
    "    prompt = template.render(date=datetime.now().strftime('%d/%m/%Y'), thought=thought, step=step, query=query, resource=resource)\n",
    "    return prompt"
   ]
  },
  {
   "cell_type": "markdown",
   "metadata": {},
   "source": [
    "### Document Extraction"
   ]
  },
  {
   "cell_type": "code",
   "execution_count": 40,
   "metadata": {},
   "outputs": [],
   "source": [
    "response = []\n",
    "for url_items in relevant_urls.urls:\n",
    "    response.append(await tavily_client.extract(urls=url_items))\n",
    "    break"
   ]
  },
  {
   "cell_type": "code",
   "execution_count": 42,
   "metadata": {
    "scrolled": true
   },
   "outputs": [
    {
     "data": {
      "text/plain": [
       "[{'results': [{'url': 'https://www.niche.com/k12/search/best-public-elementary-schools/m/seattle-metro-area/',\n",
       "    'raw_content': '2025 Best Public Elementary Schools in the Seattle Area - Niche\\n\\n===============\\n\\n[Skip to Main Content](https://www.niche.com/k12/search/best-public-elementary-schools/m/seattle-metro-area/#maincontent)\\n\\n[](https://www.niche.com/?ref=k12 \"Niche\")\\n\\nK-12 Schools Seattle Area\\n\\nProvides auto-suggestions when entering text\\n\\nFind a school or district ...\\n\\nProvides auto-suggestions when entering text\\n\\nSearch in a district or a location ...\\n\\nLog In Sign Up\\n\\n*   [School Search](https://www.niche.com/k12/search/best-schools/m/seattle-metro-area/)\\n*   [School Rankings](https://www.niche.com/k12/rankings/)\\n*   [Schools Near You](https://www.niche.com/k12/schools-near-you/)\\n\\n[Write a review](https://www.niche.com/survey/hub/)\\n\\n[K-12 SCHOOLS](https://www.niche.com/k12/search/best-schools/m/seattle-metro-area/)\\n\\n*   [Review Your School](https://www.niche.com/k12/survey/)\\n*   [Schools Near You](https://www.niche.com/k12/schools-near-you/)\\n*   [Compare Schools](https://www.niche.com/k12/compare/)\\n*   [K-12 Quiz](https://www.niche.com/about/k12-quiz/)\\n*   [School Search](https://www.niche.com/k12/search/best-schools/m/seattle-metro-area/)\\n*   [District Search](https://www.niche.com/k12/search/best-school-districts/m/seattle-metro-area/)\\n*   [School Rankings](https://www.niche.com/k12/rankings/)\\n*   [Parent Resources](https://www.niche.com/blog/topics/parent-resources/?ref=megamenu)\\n\\n[COLLEGES](https://www.niche.com/colleges/search/best-colleges/m/seattle-metro-area/)\\n\\n*   [Direct Admissions](https://www.niche.com/about/direct-admissions/)\\n*   [Review Your College](https://www.niche.com/colleges/survey/)\\n*   [College Quiz](https://www.niche.com/colleges/college-quiz/)\\n*   [Admissions Calculator](https://www.niche.com/colleges/admissions-calculator/)\\n*   [Compare Colleges](https://www.niche.com/colleges/compare/)\\n*   [Scholarships & Financial Aid](https://www.niche.com/colleges/scholarships/)\\n*   [$2,000 No Essay Scholarship](https://www.niche.com/colleges/scholarships/no-essay-scholarship/)\\n*   [College Search](https://www.niche.com/colleges/search/best-colleges/m/seattle-metro-area/)\\n*   [College Rankings](https://www.niche.com/colleges/rankings/)\\n*   [Student Loans](https://niche.sparrowfi.com/landing)\\n*   [Guide to College Majors](https://www.niche.com/colleges/topic/hub/majors/)\\n\\n[GRADUATE SCHOOLS](https://www.niche.com/graduate-schools/search/best-graduate-schools/m/seattle-metro-area/)\\n\\n*   [Review Your Grad School](https://www.niche.com/graduate-schools/survey/)\\n*   [$1,000 Graduate Survey Scholarship](https://www.niche.com/graduate-schools/survey/graduate-school-survey-scholarship/)\\n*   [Grad School Search](https://www.niche.com/graduate-schools/search/best-graduate-schools/m/seattle-metro-area/)\\n*   [Graduate Programs](https://www.niche.com/graduate-schools/programs/)\\n*   [Best MBA Programs](https://www.niche.com/graduate-schools/search/best-masters-in-business-programs/)\\n\\n[PLACES TO LIVE](https://www.niche.com/places-to-live/search/best-places-to-live/m/seattle-metro-area/)\\n\\n*   [Review Your Area](https://www.niche.com/places-to-live/survey/)\\n*   [Find Places to Live](https://www.niche.com/places-to-live/search/best-places-to-live/m/seattle-metro-area/)\\n*   [Rankings](https://www.niche.com/places-to-live/rankings/)\\n*   [Home Buying Tips](https://www.niche.com/blog/topics/home-buying-tips/?ref=megamenu)\\n\\n2025 Best Public Elementary Schools in the Seattle Area\\n=======================================================\\n\\nThe 2025 Best Public Elementary Schools ranking is based on rigorous analysis of key statistics and millions of reviews from students and parents using data from the U.S. Department of Education. Ranking factors include state test scores, student-teacher ratio, student diversity, teacher quality, grade school ratings, and the overall quality of the school district.[Read more on how this ranking was calculated.](https://www.niche.com/about/methodology/best-public-elementary-schools/)\\n\\n[Where Niche Grades come from](https://www.niche.com/about/where-niche-grades-come-from/) and [how Niche calculates rankings](https://www.niche.com/k12/rankings/methodology/).\\n\\n2025 Best Public Elementary Schools in the Seattle Area\\n=======================================================\\n\\nThe 2025 Best Public Elementary Schools ranking is based on rigorous analysis of key statistics and millions of reviews from students and parents using data from the U.S. Department of Education. Ranking factors include state test scores, student-teacher ratio, student diversity, teacher quality, grade school ratings, and the overall quality of the school district.[Read more on how this ranking was calculated.](https://www.niche.com/about/methodology/best-public-elementary-schools/)\\n\\n[Where Niche Grades come from](https://www.niche.com/about/where-niche-grades-come-from/) and [how Niche calculates rankings](https://www.niche.com/k12/rankings/methodology/).\\n\\nBest schools\\n*   [Most diverse](https://www.niche.com/k12/search/most-diverse-schools/)\\n*   [Best teachers](https://www.niche.com/k12/search/best-teachers/)\\n*   [College prep](https://www.niche.com/k12/search/college-prep/)\\n*   [Largest](https://www.niche.com/k12/search/largest-schools/)\\n*   [Niche standout schools](https://www.niche.com/k12/search/niche-standout-schools/)\\n\\nMore\\n\\n*   [Best schools](https://www.niche.com/k12/search/best-schools/)\\n*   [Most diverse](https://www.niche.com/k12/search/most-diverse-schools/)\\n*   [Best teachers](https://www.niche.com/k12/search/best-teachers/)\\n\\n*   [College prep](https://www.niche.com/k12/search/college-prep/)\\n*   [Largest](https://www.niche.com/k12/search/largest-schools/)\\n*   [Best for STEM](https://www.niche.com/k12/search/best-schools-for-stem/)\\n\\n*   [Niche standout schools](https://www.niche.com/k12/search/niche-standout-schools/)\\n*   [Best for the arts](https://www.niche.com/k12/search/best-schools-for-the-arts/)\\n\\n*   [Best for athletes](https://www.niche.com/k12/search/best-schools-for-sports/)\\n*   [Best districts](https://www.niche.com/k12/search/best-school-districts/)\\n\\nView on Map\\n\\nSearch type\\n\\nSchools Districts \\n\\nGrade level\\n\\nClear filter\\n\\n- [x] Pre-K \\n\\n- [x] Elementary \\n\\n- [x] Middle \\n\\n- [x] High school \\n\\n- [x] K-8 only \\n\\n- [x] K-12 only \\n\\nHighest grade offered\\n\\nSelect a grade...\\n\\nSchool type\\n\\n- [x] Public \\n\\n- [x] Traditional \\n\\n- [x] Charter \\n\\n- [x] Magnet \\n\\n- [x] Private \\n\\nReligion\\n\\n- [x] Catholic \\n\\n- [x] Christian \\n\\n- [x] Jewish \\n\\n- [x] Islamic \\n\\nBoarding status\\n\\n- [x] Offers boarding \\n\\nCoed status\\n\\n- [x] \\n\\nCoed\\n\\n \\n\\n- [x] \\n\\nAll-girls\\n\\n \\n\\n- [x] \\n\\nAll-boys\\n\\n \\n\\nSpecialty\\n\\n- [x] Online \\n\\n- [x] Special education \\n\\n- [x] Montessori \\n\\n- [x] Therapeutic \\n\\nTuition\\n\\nSelect a value$0\\n\\nAcademics\\n\\n- [x] AP program \\n\\n- [x] IB program \\n\\n- [x] Gifted/talented program \\n\\nStudent-teacher ratio\\n\\nSelect a value 0:1\\n\\nNiche Grades\\n\\nAcademics\\n\\n- [x] \\n\\nA\\n\\n - [x] \\n\\nB\\n\\n - [x] \\n\\nC\\n\\n - [x] \\n\\nD\\n\\n \\n\\nTeachers\\n\\n- [x] \\n\\nA\\n\\n - [x] \\n\\nB\\n\\n - [x] \\n\\nC\\n\\n - [x] \\n\\nD\\n\\n \\n\\nDiversity\\n\\n- [x] \\n\\nA\\n\\n - [x] \\n\\nB\\n\\n - [x] \\n\\nC\\n\\n - [x] \\n\\nD\\n\\n \\n\\nSports\\n\\n- [x] \\n\\nA\\n\\n - [x] \\n\\nB\\n\\n - [x] \\n\\nC\\n\\n - [x] \\n\\nD\\n\\n \\n\\nOrganization\\n\\nSelect one...\\n\\nCancel Apply\\n\\nView on Map\\n\\nFilter\\n\\n2\\n\\nSeattle Area\\n\\nIncludes Elementary\\n\\nPublic, Charter\\n\\nPublic, Magnet\\n\\n1-25 of 624 results\\n\\n1.   \\n[#1 Best Public Elementary Schools in Seattle Area Sunrise Elementary School ------------------------- * Northshore School District, WA * PK, K-5 * grade A Overall Niche Grade * Students 375 * Student-teacher ratio 17:1 Sunrise Elementary School ------------------------- #1 Best Public Elementary Schools in Seattle Area. Northshore School District, WA, PK, K-5. Overall Niche Grade: A, Students: 375, Student-Teacher Ratio: 17 to 1,](https://www.niche.com/k12/sunrise-elementary-school-redmond-wa/)\\n\\n[View nearby homes](https://www.homes.com/redmond-wa/sunrise-elementary-school/s-hpbgsv4896w46/?utm_source=niche&utm_medium=referral&utm_campaign=niche_reviews)\\n\\nAdd to List\\n\\n2.   \\n[#2 Best Public Elementary Schools in Seattle Area Canyon Creek Elementary School ------------------------------ * Northshore School District, WA * PK, K-5 * Rating 5 out of 5 2 reviews **Parent:**Canyon Creek is an absolutely fantastic school! Even though it is a very large school, our children have felt safe, cared for, and pushed academically every day. The teachers and administration are top-notch and really care for the students. The community is fantastic and there is a strong support for education. We only wish there were additional after school activities and sports put on by the school, but Canyon Creek accomplishes a lot with the resources they are given. We feel very fortunate to have our kids go to Canyon Creek!... Read 2 reviews * grade A Overall Niche Grade * Students 920 * Student-teacher ratio 16:1 Canyon Creek Elementary School ------------------------------ #2 Best Public Elementary Schools in Seattle Area. Northshore School District, WA, PK, K-5. 2 Niche users give it an average review of 5 stars. Featured Review: Parent says Canyon Creek is an absolutely fantastic school! Even though it is a very large school, our children have felt safe, cared for, and pushed academically every day. The teachers and administration are... Read 2 reviews. Overall Niche Grade: A, Students: 920, Student-Teacher Ratio: 16 to 1,](https://www.niche.com/k12/canyon-creek-elementary-school-bothell-wa/)\\n\\n[View nearby homes](https://www.homes.com/bothell-wa/canyon-creek-elementary-school/s-ylg8rnt80f2de/?utm_source=niche&utm_medium=referral&utm_campaign=niche_reviews)\\n\\nAdd to List\\n\\n3.   \\n[#3 Best Public Elementary Schools in Seattle Area Lockwood Elementary School -------------------------- * Northshore School District, WA * PK, K-5 * Rating 5 out of 5 1 review **Parent:**My kids are attending this school and have only great things to say about my experience. The teachers are amazing, and they are passionate about seeing their students succeed,My daughter is in EAP program and they have PACE program and sensory programs as well.... Read 1 review * grade A Overall Niche Grade * Students 580 * Student-teacher ratio 16:1 Lockwood Elementary School -------------------------- #3 Best Public Elementary Schools in Seattle Area. Northshore School District, WA, PK, K-5. 1 Niche users give it an average review of 5 stars. Featured Review: Parent says My kids are attending this school and have only great things to say about my experience. The teachers are amazing, and they are passionate about seeing their students succeed,My daughter is in EAP... Read 1 reviews. Overall Niche Grade: A, Students: 580, Student-Teacher Ratio: 16 to 1,](https://www.niche.com/k12/lockwood-elementary-school-bothell-wa/)\\n\\n[View nearby homes](https://www.homes.com/bothell-wa/lockwood-elementary-school/s-4ppm8hfmm8qw2/?utm_source=niche&utm_medium=referral&utm_campaign=niche_reviews)\\n\\nAdd to List\\n\\n4.   \\nAdd to List \\n\\n[Sponsored![Image 1](https://d13b2ieg84qqce.cloudfront.net/3906e912afaa64d6559d4bf6ecd2c3fbb6993adf)Public School Central Elementary School * Orange Board of Education School District, NJ * K-2](https://www.niche.com/k12/central-elementary-school-orange-nj/)\\n\\nAdd to List\\n\\n[Sponsored![Image 2](https://d13b2ieg84qqce.cloudfront.net/f9856d70fb1189b1fe5f557877e48bef845e2906)Private School BASIS Independent Manhattan * Private School * NEW YORK, NY * PK, K-12 * Rating 4.15 out of 5 72](https://www.niche.com/k12/basis-independent-manhattan-new-york-ny/)\\n\\nAdd to List\\n\\n[Sponsored![Image 3](https://d13b2ieg84qqce.cloudfront.net/ed1bd19fcbb0959c408f060b2a6807da69cc8f61)Private School EF Academy New York * Private School * THORNWOOD, NY * 9-12 * Rating 4.24 out of 5 128](https://www.niche.com/k12/ef-academy-new-york-thornwood-ny/)\\n\\n5.   \\n[#4 Best Public Elementary Schools in Seattle Area Northshore Family Partnership ----------------------------- * Northshore School District, WA * K-8 * grade A Overall Niche Grade * Students 195 * Student-teacher ratio — Northshore Family Partnership ----------------------------- #4 Best Public Elementary Schools in Seattle Area. Northshore School District, WA, K-8. Overall Niche Grade: A, Students: 195,](https://www.niche.com/k12/northshore-family-partnership-woodinville-wa/)\\n\\n[View nearby homes](https://www.homes.com/cottage-lake-wa/98077/?utm_source=niche&utm_medium=referral&utm_campaign=niche_reviews)\\n\\nAdd to List\\n\\n6.   \\n[#5 Best Public Elementary Schools in Seattle Area Albert Einstein Elementary School --------------------------------- * Lake Washington School District, WA * K-5 * grade A Overall Niche Grade * Students 481 * Student-teacher ratio 16:1 Albert Einstein Elementary School --------------------------------- #5 Best Public Elementary Schools in Seattle Area. Lake Washington School District, WA, K-5. Overall Niche Grade: A, Students: 481, Student-Teacher Ratio: 16 to 1,](https://www.niche.com/k12/albert-einstein-elementary-school-redmond-wa/)\\n\\n[View nearby homes](https://www.homes.com/redmond-wa/albert-einstein-elementary-school/s-rg1nmes9ecc94/?utm_source=niche&utm_medium=referral&utm_campaign=niche_reviews)\\n\\nAdd to List\\n\\n7.   \\n[#6 Best Public Elementary Schools in Seattle Area Ella Baker Elementary School ---------------------------- * Lake Washington School District, WA * K-5 * Rating 5 out of 5 1 review **Middle School Student:**Words cannot describe how much I loved this school. Having gone to 3 other elementary schools (the last one definitely not being my favorite), it was a big relief for me having attended this school in my last year of elementary. I can definitely see why they\\'re rated the best public elementary school in Washington...they really live up to their fame. There\\'s a lot of good diversity, the students are super nice and friendly, the teachers are so helpful, and the staff is just so kind. Only thing I\\'d change would be the separation of Quest (Gifted) and GenEd (general education.) Having been a Quest student myself, I can definitely tell you that while socializing, Questies hang out with mostly other Questies and vice versa. In fact, I don\\'t think I had even one GenEd friend the whole school year. Overall this is such an amazing school. I definitely recommend it, and it\\'s tied for my favorite elementary school I went to (which is surprising since I went to top-rated schools a lot.)... Read 1 review * grade A Overall Niche Grade * Students 442 * Student-teacher ratio 17:1 Ella Baker Elementary School ---------------------------- #6 Best Public Elementary Schools in Seattle Area. Lake Washington School District, WA, K-5. 1 Niche users give it an average review of 5 stars. Featured Review: Middle School Student says Words cannot describe how much I loved this school. Having gone to 3 other elementary schools (the last one definitely not being my favorite), it was a big relief for me having attended this school... Read 1 reviews. Overall Niche Grade: A, Students: 442, Student-Teacher Ratio: 17 to 1,](https://www.niche.com/k12/ella-baker-elementary-school-redmond-wa/)\\n\\n[View nearby homes](https://www.homes.com/redmond-wa/ella-baker-elementary-school/s-0wky1hqybtrbb/?utm_source=niche&utm_medium=referral&utm_campaign=niche_reviews)\\n\\nAdd to List\\n\\n8.    \\n9.    \\n10.   \\n[#7 Best Public Elementary Schools in Seattle Area Spiritridge Elementary School ----------------------------- * Bellevue School District, WA * K-5 * Rating 3.33 out of 5 3 reviews **Parent:**Spiritridge was an excellent experience for both of my children. The teachers are excellent and innovative. They find new ways to teach standard items in order to make them more memorable. There are many fine traditions that are celebrated each year that combine fun with education.... Read 3 reviews * grade A Overall Niche Grade * Students 563 * Student-teacher ratio 17:1 Spiritridge Elementary School ----------------------------- #7 Best Public Elementary Schools in Seattle Area. Blue checkmark. Bellevue School District, WA, K-5. 3 Niche users give it an average review of 3.3 stars. Featured Review: Parent says Spiritridge was an excellent experience for both of my children. The teachers are excellent and innovative. They find new ways to teach standard items in order to make them more memorable. There... Read 3 reviews. Overall Niche Grade: A, Students: 563, Student-Teacher Ratio: 17 to 1,](https://www.niche.com/k12/spiritridge-elementary-school-bellevue-wa/)\\n\\n[View nearby homes](https://www.homes.com/bellevue-wa/spiritridge-elementary-school/s-y4xktks2nxxn3/?utm_source=niche&utm_medium=referral&utm_campaign=niche_reviews)\\n\\nAdd to List\\n\\n11.   \\n[#8 Best Public Elementary Schools in Seattle Area Sunny Hills Elementary School ----------------------------- * Issaquah School District, WA * K-5 * Rating 4 out of 5 4 reviews **Parent:**As a parent of two children at Sunny Hills Elementary School, I\\'ve been incredibly pleased with the school\\'s commitment to both academic excellence and a nurturing environment. The school stands out for its high academic standards and a culturally diverse and inclusive community. The teaching staff\\'s dedication is palpable, ensuring each child receives the attention they need, contributing to an environment where students thrive academically and emotionally. My experience with the school has been exceptionally positive, making it a place I wholeheartedly recommend to families seeking a comprehensive and enriching educational experience for their children.... Read 4 reviews * grade A Overall Niche Grade * Students 565 * Student-teacher ratio 17:1 Sunny Hills Elementary School ----------------------------- #8 Best Public Elementary Schools in Seattle Area. Blue checkmark. Issaquah School District, WA, K-5. 4 Niche users give it an average review of 4 stars. Featured Review: Parent says As a parent of two children at Sunny Hills Elementary School, I\\'ve been incredibly pleased with the school\\'s commitment to both academic excellence and a nurturing environment. The school stands out... Read 4 reviews. Overall Niche Grade: A, Students: 565, Student-Teacher Ratio: 17 to 1,](https://www.niche.com/k12/sunny-hills-elementary-school-sammamish-wa/)\\n\\n[View nearby homes](https://www.homes.com/sammamish-wa/sunny-hills-elementary-school/s-0r2q7qk29m2db/?utm_source=niche&utm_medium=referral&utm_campaign=niche_reviews)\\n\\nAdd to List\\n\\n12.   \\n[#9 Best Public Elementary Schools in Seattle Area Ordway Elementary School ------------------------ * Bainbridge Island School District, WA * K-4 * Rating 5 out of 5 2 reviews **Parent:**Both of my kids loved this school academically and socially. One of them had an IEP and felt very supported. The other needed no special help. Both kids had incredible teachers every year.... Read 2 reviews * grade A Overall Niche Grade * Students 346 * Student-teacher ratio 15:1 Ordway Elementary School ------------------------ #9 Best Public Elementary Schools in Seattle Area. Blue checkmark. Bainbridge Island School District, WA, K-4. 2 Niche users give it an average review of 5 stars. Featured Review: Parent says Both of my kids loved this school academically and socially. One of them had an IEP and felt very supported. The other needed no special help. Both kids had incredible teachers every year. Read 2 reviews. Overall Niche Grade: A, Students: 346, Student-Teacher Ratio: 15 to 1,](https://www.niche.com/k12/ordway-elementary-school-bainbridge-island-wa/)\\n\\n[View nearby homes](https://www.homes.com/bainbridge-island-wa/ordway-elementary-school/s-7ngpwzb8ewcfx/?utm_source=niche&utm_medium=referral&utm_campaign=niche_reviews)\\n\\nAdd to List\\n\\n13.   \\n    *   [2025 Best Public Elementary Schools](https://www.niche.com/k12/search/best-public-elementary-schools/m/seattle-metro-area/)\\n    *   [2025 Elementary Schools with the Best Teachers](https://www.niche.com/k12/search/best-teachers-public-elementary-schools/m/seattle-metro-area/)\\n    *   [2025 Most Diverse School Districts](https://www.niche.com/k12/search/most-diverse-school-districts/m/seattle-metro-area/)\\n\\n14.   \\n[#10 Best Public Elementary Schools in Seattle Area Clara Barton Elementary School ------------------------------ * Lake Washington School District, WA * K-5 * Rating 4 out of 5 1 review **Alum:**I\\'ve been here since the school opened, and there are a lot of things to take in. The school is relatively new, so the area is nicer than other schools. I was part of both regular and Quest programs, and I have had mixed experiences in both. Some teachers motivate the students to do well, while others care more about making the students feel happy but do not approach studies seriously. I hear there are more activities and club opportunities, but mostly in a new school, there aren\\'t many activities where students take leadership and opportunities to do things. COVID caused many extracurricular opportunities to go away, so I would assume the school is building back up on those things. The food is similar to the other elementary schools in the district, which isn\\'t very appealing. The community is respectful and wealthy, just like most places in Education Hill. This school is fine for what a standard elementary school provides in a growing environment for the Eastside.... Read 1 review * grade A Overall Niche Grade * Students 505 * Student-teacher ratio 17:1 Clara Barton Elementary School ------------------------------ #10 Best Public Elementary Schools in Seattle Area. Lake Washington School District, WA, K-5. 1 Niche users give it an average review of 4 stars. Featured Review: Alum says I\\'ve been here since the school opened, and there are a lot of things to take in. Read 1 reviews. Overall Niche Grade: A, Students: 505, Student-Teacher Ratio: 17 to 1,](https://www.niche.com/k12/clara-barton-elementary-school-redmond-wa/)\\n\\n[View nearby homes](https://www.homes.com/redmond-wa/clara-barton-elementary-school/s-1hfkvmcy32bkv/?utm_source=niche&utm_medium=referral&utm_campaign=niche_reviews)\\n\\nAdd to List\\n\\n15.   \\n[#11 Best Public Elementary Schools in Seattle Area Fernwood Elementary School -------------------------- * Northshore School District, WA * PK, K-5 * grade A Overall Niche Grade * Students 739 * Student-teacher ratio 17:1 Fernwood Elementary School -------------------------- #11 Best Public Elementary Schools in Seattle Area. Northshore School District, WA, PK, K-5. Overall Niche Grade: A, Students: 739, Student-Teacher Ratio: 17 to 1,](https://www.niche.com/k12/fernwood-elementary-school-bothell-wa/)\\n\\n[View nearby homes](https://www.homes.com/bothell-wa/fernwood-elementary-school/s-ycybwg6412zk9/?utm_source=niche&utm_medium=referral&utm_campaign=niche_reviews)\\n\\nAdd to List\\n\\n16.   \\n[#12 Best Public Elementary Schools in Seattle Area Cougar Ridge Elementary School ------------------------------ * Issaquah School District, WA * K-5 * Rating 3.4 out of 5 5 reviews **Parent:**Cougar Ridge Elementary has a caring approach to students, but it lacks active events and clubs. It would be great to see more extracurricular activities and school events to engage students beyond the classroom.... Read 5 reviews * grade A Overall Niche Grade * Students 476 * Student-teacher ratio 16:1 Cougar Ridge Elementary School ------------------------------ #12 Best Public Elementary Schools in Seattle Area. Blue checkmark. Issaquah School District, WA, K-5. 5 Niche users give it an average review of 3.4 stars. Featured Review: Parent says Cougar Ridge Elementary has a caring approach to students, but it lacks active events and clubs. It would be great to see more extracurricular activities and school events to engage students beyond... Read 5 reviews. Overall Niche Grade: A, Students: 476, Student-Teacher Ratio: 16 to 1,](https://www.niche.com/k12/cougar-ridge-elementary-school-bellevue-wa/)\\n\\n[View nearby homes](https://www.homes.com/bellevue-wa/cougar-ridge-elementary-school/s-s28xrlvqtwjxv/?utm_source=niche&utm_medium=referral&utm_campaign=niche_reviews)\\n\\nAdd to List\\n\\n17.    \\n18.    \\n19.   \\n[#13 Best Public Elementary Schools in Seattle Area Norman Rockwell Elementary School --------------------------------- * Lake Washington School District, WA * K-5 * Rating 3 out of 5 2 reviews **Alum:**Norman Rockwell Elementary is truly one of those schools that comes about to change lives and shape young minds like nobody ever has before. Incredible school culture, teachers, and atmosphere combine with a beautiful outdoor campus and many opportunities to get involved with extracurriculars to create one of the most comprehensive schooling experiences available. A student that comes out of this school is nigh guaranteed to do great things.... Read 2 reviews * grade A Overall Niche Grade * Students 429 * Student-teacher ratio 17:1 Norman Rockwell Elementary School --------------------------------- #13 Best Public Elementary Schools in Seattle Area. Lake Washington School District, WA, K-5. 2 Niche users give it an average review of 3 stars. Featured Review: Alum says Norman Rockwell Elementary is truly one of those schools that comes about to change lives and shape young minds like nobody ever has before. Incredible school culture, teachers, and atmosphere... Read 2 reviews. Overall Niche Grade: A, Students: 429, Student-Teacher Ratio: 17 to 1,](https://www.niche.com/k12/norman-rockwell-elementary-school-redmond-wa/)\\n\\n[View nearby homes](https://www.homes.com/redmond-wa/rockwell-elementary-school/s-tdrk4q3fjqg11/?utm_source=niche&utm_medium=referral&utm_campaign=niche_reviews)\\n\\nAdd to List\\n\\n20.   \\n[#14 Best Public Elementary Schools in Seattle Area Christa McAuliffe Elementary School ----------------------------------- * Lake Washington School District, WA * K-5 * Rating 4.5 out of 5 2 reviews **Parent:**We are so grateful to have found CMASAS for our daughter. Given her medical and developmental challenges, we needed to find a program that could make accommodations while also upholding a high standard of education. She\\'s been able to complete her high school diploma at her own pace and all the classes have been modified to meet her learning style. Our daughter is highly creative and can demonstrate her learning in the most imaginative and unique ways that end up being more meaningful for her than standardized tests and essays. The sense of community and connection is also impressive, given that it is an online school. Through a variety of clubs, homeroom classes, and caring advisers to meet with every week, a student always has the opportunity to feel supported and a sense of belonging. Thank you, CMASAS!... Read 2 reviews * grade A Overall Niche Grade * Students 482 * Student-teacher ratio 16:1 Christa McAuliffe Elementary School ----------------------------------- #14 Best Public Elementary Schools in Seattle Area. Lake Washington School District, WA, K-5. 2 Niche users give it an average review of 4.5 stars. Featured Review: Parent says We are so grateful to have found CMASAS for our daughter. Given her medical and developmental challenges, we needed to find a program that could make accommodations while also upholding a high... Read 2 reviews. Overall Niche Grade: A, Students: 482, Student-Teacher Ratio: 16 to 1,](https://www.niche.com/k12/christa-mcauliffe-elementary-school-sammamish-wa/)\\n\\n[View nearby homes](https://www.homes.com/sammamish-wa/christa-mcauliffe-elementary-school/s-72rl80yt99htt/?utm_source=niche&utm_medium=referral&utm_campaign=niche_reviews)\\n\\nAdd to List\\n\\n21.   \\n[#15 Best Public Elementary Schools in Seattle Area Kokanee Elementary School ------------------------- * Northshore School District, WA * K-5 * Rating 3 out of 5 2 reviews **Parent:**Great School with caring teachers and administrators. The schools focus on inclusion and belonging cultivate a welcoming environment.... Read 2 reviews * grade A Overall Niche Grade * Students 665 * Student-teacher ratio 16:1 Kokanee Elementary School ------------------------- #15 Best Public Elementary Schools in Seattle Area. Northshore School District, WA, K-5. 2 Niche users give it an average review of 3 stars. Featured Review: Parent says Great School with caring teachers and administrators. The schools focus on inclusion and belonging cultivate a welcoming environment. Read 2 reviews. Overall Niche Grade: A, Students: 665, Student-Teacher Ratio: 16 to 1,](https://www.niche.com/k12/kokanee-elementary-school-woodinville-wa/)\\n\\n[View nearby homes](https://www.homes.com/woodinville-wa/kokanee-elementary-school/s-yjkzwnptst8y6/?utm_source=niche&utm_medium=referral&utm_campaign=niche_reviews)\\n\\nAdd to List\\n\\n22.   \\n[#16 Best Public Elementary Schools in Seattle Area Rose Hill Elementary School --------------------------- * Lake Washington School District, WA * K-5 * Rating 5 out of 5 1 review **Parent:**As recent relocated family to Seattle, we feel lucky and satisfied with Rose Hill elementary school we choose. Our son are very happy with teacher, friends he made in school, also love the activities for kids and parents.... Read 1 review * grade A Overall Niche Grade * Students 555 * Student-teacher ratio 19:1 Rose Hill Elementary School --------------------------- #16 Best Public Elementary Schools in Seattle Area. Lake Washington School District, WA, K-5. 1 Niche users give it an average review of 5 stars. Featured Review: Parent says As recent relocated family to Seattle, we feel lucky and satisfied with Rose Hill elementary school we choose. Read 1 reviews. Overall Niche Grade: A, Students: 555, Student-Teacher Ratio: 19 to 1,](https://www.niche.com/k12/rose-hill-elementary-school-kirkland-wa/)\\n\\n[View nearby homes](https://www.homes.com/kirkland-wa/rose-hill-elementary-school/s-ltnsj0ct4tt8n/?utm_source=niche&utm_medium=referral&utm_campaign=niche_reviews)\\n\\nAdd to List\\n\\n23.   \\n[#17 Best Public Elementary Schools in Seattle Area Capt. Johnston Blakely Elementary School ---------------------------------------- * Bainbridge Island School District, WA * PK, K-4 * grade A Overall Niche Grade * Students 364 * Student-teacher ratio 16:1 Capt. Johnston Blakely Elementary School ---------------------------------------- #17 Best Public Elementary Schools in Seattle Area. Blue checkmark. Bainbridge Island School District, WA, PK, K-4. Overall Niche Grade: A, Students: 364, Student-Teacher Ratio: 16 to 1,](https://www.niche.com/k12/capt-johnston-blakely-elementary-school-bainbridge-island-wa/)\\n\\n[View nearby homes](https://www.homes.com/bainbridge-island-wa/capt-johnston-blakely-elementary-school/s-ck8lck3nvxt5t/?utm_source=niche&utm_medium=referral&utm_campaign=niche_reviews)\\n\\nAdd to List\\n\\n24.    \\n25.    \\n26.   \\n[#18 Best Public Elementary Schools in Seattle Area Rosa Parks Elementary School ---------------------------- * Lake Washington School District, WA * K-5 * Rating 4 out of 5 3 reviews **Parent:**It was AMAZING and GREAT! Then slightly less so the last few years with some staff moving to new schools which recently opened near by. However, it\\'s added some new wonderful leaders to join the gems still there. I\\'m very excited to see it begin to blossom again. The PTSA is strong, and highly involved with many programs available from art, STEM, music, clubs, national competitions, advanced students opportunities, and hopefully a return of the outstanding drama program! There is a multitude of after school activities such as Boys & Girls Club They orchestrate events such as the science fair, international night (which is amazing to see SO MANY diverse backgrounds celebrated), reading night, back to school parties, which often draw older siblings back. They even have an active Mascot (parent/teacher in costume). fyi, they constantly integrate strong character building, largely based on Rosa Parks. I am grateful for the staff and their strong skill sets they bring with them.... Read 3 reviews * grade A Overall Niche Grade * Students 499 * Student-teacher ratio 18:1 Rosa Parks Elementary School ---------------------------- #18 Best Public Elementary Schools in Seattle Area. Lake Washington School District, WA, K-5. 3 Niche users give it an average review of 4 stars. Featured Review: Parent says It was AMAZING and GREAT! Then slightly less so the last few years with some staff moving to new schools which recently opened near by. However, it\\'s added some new wonderful leaders to join the... Read 3 reviews. Overall Niche Grade: A, Students: 499, Student-Teacher Ratio: 18 to 1,](https://www.niche.com/k12/rosa-parks-elementary-school-redmond-wa/)\\n\\n[View nearby homes](https://www.homes.com/redmond-wa/rosa-parks-elementary-school/s-1qdgw7b9zk1yt/?utm_source=niche&utm_medium=referral&utm_campaign=niche_reviews)\\n\\nAdd to List\\n\\n27.   \\n[#19 Best Public Elementary Schools in Seattle Area Horace Mann Elementary School ----------------------------- * Lake Washington School District, WA * K-5 * grade A Overall Niche Grade * Students 341 * Student-teacher ratio 16:1 Horace Mann Elementary School ----------------------------- #19 Best Public Elementary Schools in Seattle Area. Lake Washington School District, WA, K-5. Overall Niche Grade: A, Students: 341, Student-Teacher Ratio: 16 to 1,](https://www.niche.com/k12/horace-mann-elementary-school-redmond-wa/)\\n\\n[View nearby homes](https://www.homes.com/redmond-wa/mann-elementary-school/s-x0r55s17hqncz/?utm_source=niche&utm_medium=referral&utm_campaign=niche_reviews)\\n\\nAdd to List\\n\\n28.   \\n[#20 Best Public Elementary Schools in Seattle Area Rachel Carson Elementary School ------------------------------- * Lake Washington School District, WA * PK, K-5 * Rating 2.8 out of 5 5 reviews **High School Senior:**The school is fairly new, so the school is a good learning environment with a lot of windows.... Read 5 reviews * grade A Overall Niche Grade * Students 521 * Student-teacher ratio 19:1 Rachel Carson Elementary School ------------------------------- #20 Best Public Elementary Schools in Seattle Area. Lake Washington School District, WA, PK, K-5. 5 Niche users give it an average review of 2.8 stars. Featured Review: High School Senior says The school is fairly new, so the school is a good learning environment with a lot of windows. Read 5 reviews. Overall Niche Grade: A, Students: 521, Student-Teacher Ratio: 19 to 1,](https://www.niche.com/k12/rachel-carson-elementary-school-sammamish-wa/)\\n\\n[View nearby homes](https://www.homes.com/sammamish-wa/rachel-carson-elementary-school/s-8qmts0cwnmdl8/?utm_source=niche&utm_medium=referral&utm_campaign=niche_reviews)\\n\\nAdd to List\\n\\n29.   \\n[#21 Best Public Elementary Schools in Seattle Area Shelton View Elementary School ------------------------------ * Northshore School District, WA * PK, K-5 * Rating 5 out of 5 1 review **Other:**Amazing School Over all I really do like the upgrade with new paint and new stuff at recess and I would play Gaga Ball alot... Read 1 review * grade A Overall Niche Grade * Students 513 * Student-teacher ratio 18:1 Shelton View Elementary School ------------------------------ #21 Best Public Elementary Schools in Seattle Area. Northshore School District, WA, PK, K-5. 1 Niche users give it an average review of 5 stars. Featured Review: Other says Amazing School Over all I really do like the upgrade with new paint and new stuff at recess and I would play Gaga Ball alot Read 1 reviews. Overall Niche Grade: A, Students: 513, Student-Teacher Ratio: 18 to 1,](https://www.niche.com/k12/shelton-view-elementary-school-bothell-wa/)\\n\\n[View nearby homes](https://www.homes.com/bothell-wa/shelton-view-elementary-school/s-p33mwecskhl50/?utm_source=niche&utm_medium=referral&utm_campaign=niche_reviews)\\n\\nAdd to List\\n\\n30.   \\n[#22 Best Public Elementary Schools in Seattle Area John J. Audubon Elementary School --------------------------------- * Lake Washington School District, WA * K-5 * Rating 3 out of 5 2 reviews **Parent:**I have been particularly impressed with the dedication of teachers and staff in working with my children and their needs. Both staff and teachers have been amazing to work with, have excellent communication, and are really dedicated to the kids. I also love the things like art docent, international night, dance night... etc: events and activities that are sponsored by the very active PTSA and bring a sense of community to the school.... Read 2 reviews * grade A Overall Niche Grade * Students 456 * Student-teacher ratio 16:1 John J. Audubon Elementary School --------------------------------- #22 Best Public Elementary Schools in Seattle Area. Lake Washington School District, WA, K-5. 2 Niche users give it an average review of 3 stars. Featured Review: Parent says I have been particularly impressed with the dedication of teachers and staff in working with my children and their needs. Both staff and teachers have been amazing to work with, have excellent... Read 2 reviews. Overall Niche Grade: A, Students: 456, Student-Teacher Ratio: 16 to 1,](https://www.niche.com/k12/john-j-audubon-elementary-school-redmond-wa/)\\n\\n[View nearby homes](https://www.homes.com/redmond-wa/john-j-audubon-elementary-school/s-npkk7g6x1bc2k/?utm_source=niche&utm_medium=referral&utm_campaign=niche_reviews)\\n\\nAdd to List\\n\\n31.   [Review your school](https://www.niche.com/k12/survey/) \\n32.   \\n[#23 Best Public Elementary Schools in Seattle Area Cascade Ridge Elementary School ------------------------------- * Issaquah School District, WA * K-5 * grade A Overall Niche Grade * Students 407 * Student-teacher ratio 16:1 Cascade Ridge Elementary School ------------------------------- #23 Best Public Elementary Schools in Seattle Area. Blue checkmark. Issaquah School District, WA, K-5. Overall Niche Grade: A, Students: 407, Student-Teacher Ratio: 16 to 1,](https://www.niche.com/k12/cascade-ridge-elementary-school-sammamish-wa/)\\n\\n[View nearby homes](https://www.homes.com/sammamish-wa/cascade-ridge-elementary-school/s-22zg4pg8m5b70/?utm_source=niche&utm_medium=referral&utm_campaign=niche_reviews)\\n\\nAdd to List\\n\\n33.   \\n[#24 Best Public Elementary Schools in Seattle Area Louisa May Alcott Elementary School ----------------------------------- * Lake Washington School District, WA * K-5 * grade A Overall Niche Grade * Students 630 * Student-teacher ratio 17:1 Louisa May Alcott Elementary School ----------------------------------- #24 Best Public Elementary Schools in Seattle Area. Lake Washington School District, WA, K-5. Overall Niche Grade: A, Students: 630, Student-Teacher Ratio: 17 to 1,](https://www.niche.com/k12/louisa-may-alcott-elementary-school-redmond-wa/)\\n\\n[View nearby homes](https://www.homes.com/redmond-wa/louisa-may-alcott-elementary-school/s-kbdbchy8e8310/?utm_source=niche&utm_medium=referral&utm_campaign=niche_reviews)\\n\\nAdd to List\\n\\n34.   \\n[#25 Best Public Elementary Schools in Seattle Area Laura Ingalls Wilder Elementary School -------------------------------------- * Lake Washington School District, WA * PK, K-5 * Rating 5 out of 5 2 reviews **Parent:**Great school! My son goes here and has shown that he has learnt a great deal during his time. I have also seen an improvement in how confidently he carries himself these days.... Read 2 reviews * grade A Overall Niche Grade * Students 323 * Student-teacher ratio 16:1 Laura Ingalls Wilder Elementary School -------------------------------------- #25 Best Public Elementary Schools in Seattle Area. Lake Washington School District, WA, PK, K-5. 2 Niche users give it an average review of 5 stars. Featured Review: Parent says Great school! My son goes here and has shown that he has learnt a great deal during his time. I have also seen an improvement in how confidently he carries himself these days. Read 2 reviews. Overall Niche Grade: A, Students: 323, Student-Teacher Ratio: 16 to 1,](https://www.niche.com/k12/laura-ingalls-wilder-elementary-school-woodinville-wa/)\\n\\n[View nearby homes](https://www.homes.com/woodinville-wa/laura-ingalls-wilder-elementary-school/s-zehm1vppsm6sk/?utm_source=niche&utm_medium=referral&utm_campaign=niche_reviews)\\n\\nAdd to List\\n\\n35.   \\nAdd to List \\n\\n[Sponsored![Image 4](blob:http://localhost/92ac07e9d0853a53a77647d2ba90cfa7)Therapeutic School Academics West * Private School * NEW YORK, NY * K-12 * Rating 5 out of 5 12](https://www.niche.com/k12/academics-west-new-york-ny/)\\n\\nAdd to List\\n\\n[Sponsored![Image 5](blob:http://localhost/92ac07e9d0853a53a77647d2ba90cfa7)Catholic School Kennedy Catholic High School * Private School * BURIEN, WA * 9-12 * Rating 4.01 out of 5 198](https://www.niche.com/k12/kennedy-catholic-high-school-burien-wa/)\\n\\nAdd to List\\n\\n[Sponsored![Image 6](blob:http://localhost/92ac07e9d0853a53a77647d2ba90cfa7)Charter School VOICE Charter School of New York * Public School * LONG ISLAND CITY, NY * K-8 * Rating 3.86 out of 5 7](https://www.niche.com/k12/voice-charter-school-of-new-york-long-island-city-ny/)\\n\\n[Find schools near you Not sure what schools you are zoned for?Find out by exploring our school boundary maps. Look up public schools and districts by address or ZIP code.](https://www.niche.com/k12/schools-near-you/)\\n\\n*   [1](https://www.niche.com/k12/search/best-public-elementary-schools/m/seattle-metro-area/?page=1)\\n*   [2](https://www.niche.com/k12/search/best-public-elementary-schools/m/seattle-metro-area/?page=2)\\n*   [3](https://www.niche.com/k12/search/best-public-elementary-schools/m/seattle-metro-area/?page=3)\\n*   [4](https://www.niche.com/k12/search/best-public-elementary-schools/m/seattle-metro-area/?page=4)\\n*   [5](https://www.niche.com/k12/search/best-public-elementary-schools/m/seattle-metro-area/?page=5)\\n*   … \\n*   [25](https://www.niche.com/k12/search/best-public-elementary-schools/m/seattle-metro-area/?page=25)\\n*   [](https://www.niche.com/k12/search/best-public-elementary-schools/m/seattle-metro-area/?page=2)\\n\\nRedo search in this area\\n\\n1 – 25 of 624\\n\\nShowing results 1 through 25 of 624\\n\\nClose map\\n\\nFAQs\\n----\\n\\nHow many public elementary schools are in the Seattle Area?There are 624 public elementary schools in the Seattle Area. Check out their Niche profiles to find a school that best suits the needs of you and your child!\\n\\n1.   [Home](https://www.niche.com/)\\n\\n3.   [America](https://www.niche.com/k12/search/best-public-elementary-schools/)\\n\\n5.   2025 Best Public Elementary Schools in Seattle Area\\n\\n[Niche](https://www.niche.com/)\\n*   [About Us](https://www.niche.com/about/)\\n*   [Niche For Schools](https://www.niche.com/about/k-12-enrollment-solutions/)\\n*   [Niche For Colleges](https://www.niche.com/about/college-enrollment-solutions/)\\n*   [Blog](https://www.niche.com/blog/)\\n*   [College Guidance](https://www.niche.com/blog//topics/college-guidance)\\n*   [Resource Center](https://niche.zendesk.com/hc/en-us)\\n*   [College Search App](https://www.niche.com/about/mobile/)\\n*   [Contact Niche](https://www.niche.com/contact/)\\n*   [Data](https://www.niche.com/about/data/)\\n*   [Careers](https://www.niche.com/about/team/)\\n*   [Partnerships](https://www.niche.com/about/partnerships/)\\n*   [Press](https://www.niche.com/about/press/)\\n*   [Do Not Sell My Personal Information](https://www.niche.com/about/ccpa-request/)\\n*   [Privacy Policy](https://www.niche.com/about/privacy/)\\n*   [User Agreement](https://www.niche.com/about/terms/)\\n*   [Web Accessibility](https://www.niche.com/about/accessibility/)\\n*   [Cookie Policy](https://www.niche.com/about/cookie-policy/)\\n*   [Sitemap](https://www.niche.com/sitemap/)\\n\\n*   [Instagram](https://www.instagram.com/nichesocial/)\\n*   [Facebook](https://www.facebook.com/nichesocial)\\n*   [Twitter](https://twitter.com/nichesocial)\\n*   [Tiktok](https://www.tiktok.com/@nichesocial)\\n*   [YouTube](https://www.youtube.com/c/Nichesocial/featured)\\n\\n©2025 Niche.com Inc.\\n\\nDiscover the schools and neighborhoods that are right for you.\\n\\n*   [K-12](https://www.niche.com/k12/search/best-schools/m/seattle-metro-area/)\\n*   [Colleges](https://www.niche.com/colleges/search/best-colleges/m/seattle-metro-area/)\\n*   [Graduate Schools](https://www.niche.com/graduate-schools/search/best-graduate-schools/m/seattle-metro-area/)\\n*   [Places to Live](https://www.niche.com/places-to-live/search/best-places-to-live/m/seattle-metro-area/)\\n\\nDo you work for a school or college? [Claim Your School](https://www.niche.com/claim-your-school/)\\n\\nSchool Districts\\n*   [Best School Districts in America](https://www.niche.com/k12/search/best-school-districts/)\\n*   [Best School Districts in California](https://www.niche.com/k12/search/best-school-districts/s/california/)\\n*   [Best School Districts in Georgia](https://www.niche.com/k12/search/best-school-districts/s/georgia/)\\n*   [Best School Districts in Ohio](https://www.niche.com/k12/search/best-school-districts/s/ohio/)\\n*   [Best School Districts in Massachusetts](https://www.niche.com/k12/search/best-school-districts/s/massachusetts/)\\n*   [Best School Districts in Michigan](https://www.niche.com/k12/search/best-school-districts/s/michigan/)\\n*   [Best School Districts in Minnesota](https://www.niche.com/k12/search/best-school-districts/s/minnesota/)\\n*   [Best School Districts in New Jersey](https://www.niche.com/k12/search/best-school-districts/s/new-jersey/)\\n*   [Best School Districts in New York](https://www.niche.com/k12/search/best-school-districts/s/new-york/)\\n*   [Best School Districts in North Carolina](https://www.niche.com/k12/search/best-school-districts/s/north-carolina/)\\n*   [Best School Districts in Pennsylvania](https://www.niche.com/k12/search/best-school-districts/s/pennsylvania/)\\n*   [Best School Districts in Texas](https://www.niche.com/k12/search/best-school-districts/s/texas/)\\n*   [Best School Districts in Virginia](https://www.niche.com/k12/search/best-school-districts/s/virginia/)\\n*   [Best School Districts in Washington](https://www.niche.com/k12/search/best-school-districts/s/washington/)\\n*   [Best School Districts in Wisconsin](https://www.niche.com/k12/search/best-school-districts/s/wisconsin/)\\n\\nPublic High Schools\\n*   [Best Public High Schools](https://www.niche.com/k12/search/best-public-high-schools/)\\n*   [Best Charter High Schools](https://www.niche.com/k12/search/best-charter-high-schools/)\\n*   [Best Magnet High Schools](https://www.niche.com/k12/search/best-magnet-high-schools/)\\n*   [Adlai E. Stevenson High School](https://www.niche.com/k12/adlai-e-stevenson-high-school-lincolnshire-il/)\\n*   [Carmel High School](https://www.niche.com/k12/carmel-high-school-carmel-in/)\\n*   [Cypress Bay High School](https://www.niche.com/k12/cypress-bay-high-school-weston-fl/)\\n*   [Granada Hills Charter High School](https://www.niche.com/k12/granada-hills-charter-high-school-granada-hills-ca/)\\n*   [Lane Tech College Prep High School](https://www.niche.com/k12/lane-tech-college-prep-high-school-chicago-il/)\\n*   [Polytechnic High School](https://www.niche.com/k12/polytechnic-high-school-long-beach-ca/)\\n*   [Poolesville High School](https://www.niche.com/k12/poolesville-high-school-poolesville-md/)\\n*   [Saratoga High School](https://www.niche.com/k12/saratoga-high-school-saratoga-ca/)\\n*   [Seven Lakes High School](https://www.niche.com/k12/seven-lakes-high-school-katy-tx/)\\n*   [Skyline High School](https://www.niche.com/k12/skyline-high-school-dallas-tx/)\\n*   [Stuyvesant High School](https://www.niche.com/k12/stuyvesant-high-school-new-york-ny/)\\n*   [Westlake High School](https://www.niche.com/k12/westlake-high-school-austin-tx/)\\n\\nPrivate High Schools\\n*   [Best Private High Schools](https://www.niche.com/k12/search/best-private-high-schools/)\\n*   [Best Catholic High Schools](https://www.niche.com/k12/search/best-catholic-high-schools/)\\n*   [Dalton School](https://www.niche.com/k12/dalton-school-manhattan-ny/)\\n*   [Germantown Friends School](https://www.niche.com/k12/germantown-friends-school-philadelphia-pa/)\\n*   [Horace Mann School](https://www.niche.com/k12/horace-mann-school-the-bronx-ny/)\\n*   [Menlo School](https://www.niche.com/k12/menlo-school-atherton-ca/)\\n*   [Milton Academy](https://www.niche.com/k12/milton-academy-milton-ma/)\\n*   [Phillips Exeter Academy](https://www.niche.com/k12/phillips-exeter-academy-exeter-nh/)\\n*   [Ransom Everglades School](https://www.niche.com/k12/ransom-everglades-school-miami-fl/)\\n*   [Sidwell Friends](https://www.niche.com/k12/sidwell-friends-school-washington-dc/)\\n*   [The Harker School](https://www.niche.com/k12/the-harker-school-san-jose-ca/)\\n*   [The Hotchkiss School](https://www.niche.com/k12/the-hotchkiss-school-lakeville-ct/)\\n*   [The Kinkaid School](https://www.niche.com/k12/the-kinkaid-school-piney-point-village-tx/)\\n*   [The Latin School of Chicago](https://www.niche.com/k12/the-latin-school-of-chicago-chicago-il/)\\n*   [University of Chicago Lab School](https://www.niche.com/k12/university-of-chicago-lab-school-chicago-il/)\\n\\nLearn more about our [College Search App](https://www.niche.com/about/mobile/)\\n\\n[![Image 7: Download on the App Store](https://assets.niche.com/static/app-cta/Download_on_the_App_Store_Badge.svg)](https://apps.apple.com/us/app/niche-college-search/id1356697847?itsct=apps_box_badge&amp;itscg=30200)[![Image 8: Get it on Google Play](https://assets.niche.com/static/app-cta/Get_it_on_Google_play.png)](https://play.google.com/store/apps/details?id=com.nicheinc.nichealpha&pcampaignid=web_share&pcampaignid=pcampaignidMKT-Other-global-all-co-prtnr-py-PartBadge-Mar2515-1)\\n\\nWe use cookies to improve your experience on our site and to show you personalized advertising. To find out more, read our [privacy policy](https://www.niche.com/about/privacy) and [cookie policy](https://www.niche.com/about/cookie-policy).\\n\\nOK\\n\\n![Image 10](https://bat.bing.com/action/0?ti=4027386&Ver=2&mid=7a0f327d-8719-4cd5-86ad-44a01ffebf92&bo=1&sid=b19763205c3f11f0ad7ce33130949e04&vid=b19742405c3f11f0b07da9032fee8e72&vids=1&msclkid=N&pi=918639831&lg=en-US&sw=800&sh=600&sc=24&tl=2025%20Best%20Public%20Elementary%20Schools%20in%20the%20Seattle%20Area%20-%20Niche&kw=school%20rankings,%20school%20ratings,%20k-12,%20school,%20education,%20good%20schools,%20parent%20ratings,%20elementary%20school,%20best%20elementary%20schools,%20grade%20school,%20kindergarten,%20elementary%20schools%20in%20Seattle%20Area&p=https%3A%2F%2Fwww.niche.com%2Fk12%2Fsearch%2Fbest-public-elementary-schools%2Fm%2Fseattle-metro-area%2F&r=&lt=917&evt=pageLoad&sv=1&cdb=AQAU&rn=574206)\\n\\nmmmmmmmmmmlli mmmmmmmmmmlli\\n',\n",
       "    'images': []}],\n",
       "  'failed_results': [],\n",
       "  'response_time': 0.01}]"
      ]
     },
     "execution_count": 42,
     "metadata": {},
     "output_type": "execute_result"
    }
   ],
   "source": [
    "response"
   ]
  },
  {
   "cell_type": "code",
   "execution_count": 43,
   "metadata": {},
   "outputs": [],
   "source": [
    "async def collection_node(state: State, config: RunnableConfig):\n",
    "    msg = \"Curating Documents ...\\n\"\n",
    "    prompt = collection_prompt(\"collection\", state)\n",
    " \n",
    "    relevant_urls = reasoning_llm.with_structured_output(ExtractInput).invoke(prompt)\n",
    "    response = []\n",
    "    for url_items in relevant_urls.urls:\n",
    "        try:\n",
    "            response.append(await tavily_client.extract(urls=url_items))\n",
    "        \n",
    "        except Exception as e:\n",
    "            print(f\"Error occurred during Tavily Extract request\")\n",
    "        \n",
    "    return {\"observations\": response}"
   ]
  },
  {
   "cell_type": "code",
   "execution_count": 44,
   "metadata": {
    "scrolled": true
   },
   "outputs": [
    {
     "name": "stdout",
     "output_type": "stream",
     "text": [
      "================================\u001b[1m Human Message \u001b[0m=================================\n",
      "\n",
      "What are the rankings for the broader Seattle metro region's schools?  \n",
      "Which stand out, which are lagging and what are some common themes or drivers for those that lead or lag?  \n",
      "How should families evaluate their options including private schools in some of the key areas of the metro?\n",
      "==================================\u001b[1m Ai Message \u001b[0m==================================\n",
      "Name: planner\n",
      "\n",
      "{\n",
      "    \"thought\": \"The user wants a detailed research plan to understand school rankings in the broader Seattle metro region, identify standout and underperforming schools, analyze common factors influencing performance, and provide guidance for families evaluating school options, including private schools in key metro areas.\",\n",
      "    \"title\": \"Research Plan for Seattle Metro Region School Rankings, Performance Drivers, and Family Evaluation Guidance\",\n",
      "    \"steps\": [\n",
      "        {\n",
      "            \"title\": \"Collect Comprehensive Data on School Rankings Across the Seattle Metro Region\",\n",
      "            \"description\": \"Gather recent quantitative data on public and private school rankings for all schools in the Seattle metro region from multiple reputable sources such as state education departments, GreatSchools, Niche, U.S. News & World Report, and local education agencies. Include standardized test scores, graduation rates, college readiness, student-teacher ratios, and demographic breakdowns. Collect historical ranking data for trend analysis over the past 5-10 years.\"\n",
      "        },\n",
      "        {\n",
      "            \"title\": \"Identify High-Performing and Underperforming Schools with Qualitative and Quantitative Analysis\",\n",
      "            \"description\": \"Analyze the collected data to highlight schools that consistently rank at the top and those that lag behind. Investigate quantitative indicators such as funding levels, teacher qualifications, academic programs, extracurricular offerings, and student support services. Supplement with qualitative data including parent and student testimonials, school culture, and administrative leadership quality sourced from surveys and local reports. Explore patterns, common themes, and drivers behind school success or challenges.\"\n",
      "        },\n",
      "        {\n",
      "            \"title\": \"Explore Socioeconomic, Demographic, and Policy Factors Influencing School Performance\",\n",
      "            \"description\": \"Research and compile data on community socioeconomic status, neighborhood demographics, funding disparities, district policies, and local initiatives impacting schools' performance in the Seattle metro. Examine correlations between these factors and school outcomes. Include stakeholder perspectives from educators, families, and policymakers through interviews or published statements. Address risks and limitations affecting schools' ability to improve or maintain performance.\"\n",
      "        },\n",
      "        {\n",
      "            \"title\": \"Compare Public vs Private School Options and Their Unique Strengths Across Key Seattle Metro Areas\",\n",
      "            \"description\": \"Collect detailed profiles of private schools in key Seattle metro neighborhoods including tuition costs, admission criteria, school size, curriculum focus, extracurricular opportunities, and performance metrics. Compare these with nearby public schools on academic outcomes and other relevant factors. Include data on accessibility, diversity, and community reputation. Identify which private and public schools stand out in different categories and regions for comprehensive comparison.\"\n",
      "        },\n",
      "        {\n",
      "            \"title\": \"Develop Criteria and Guidance for Families Evaluating School Choices in the Seattle Metro\",\n",
      "            \"description\": \"Synthesize all collected data and analyses to create clear, actionable evaluation criteria for families considering schools in Seattle metro. Include factors such as academic performance, school culture, extracurricular activities, location, cost (for private schools), and alignment with family values. Identify decision-making frameworks, resources for school visits or tours, and how to weigh trade-offs. Provide insights into navigating enrollment processes and available support services for families.\"\n",
      "        }\n",
      "    ]\n",
      "}\n",
      "running research\n",
      "==================================\u001b[1m Ai Message \u001b[0m==================================\n",
      "Name: planner\n",
      "\n",
      "{\n",
      "    \"thought\": \"The user wants a detailed research plan to understand school rankings in the broader Seattle metro region, identify standout and underperforming schools, analyze common factors influencing performance, and provide guidance for families evaluating school options, including private schools in key metro areas.\",\n",
      "    \"title\": \"Research Plan for Seattle Metro Region School Rankings, Performance Drivers, and Family Evaluation Guidance\",\n",
      "    \"steps\": [\n",
      "        {\n",
      "            \"title\": \"Collect Comprehensive Data on School Rankings Across the Seattle Metro Region\",\n",
      "            \"description\": \"Gather recent quantitative data on public and private school rankings for all schools in the Seattle metro region from multiple reputable sources such as state education departments, GreatSchools, Niche, U.S. News & World Report, and local education agencies. Include standardized test scores, graduation rates, college readiness, student-teacher ratios, and demographic breakdowns. Collect historical ranking data for trend analysis over the past 5-10 years.\"\n",
      "        },\n",
      "        {\n",
      "            \"title\": \"Identify High-Performing and Underperforming Schools with Qualitative and Quantitative Analysis\",\n",
      "            \"description\": \"Analyze the collected data to highlight schools that consistently rank at the top and those that lag behind. Investigate quantitative indicators such as funding levels, teacher qualifications, academic programs, extracurricular offerings, and student support services. Supplement with qualitative data including parent and student testimonials, school culture, and administrative leadership quality sourced from surveys and local reports. Explore patterns, common themes, and drivers behind school success or challenges.\"\n",
      "        },\n",
      "        {\n",
      "            \"title\": \"Explore Socioeconomic, Demographic, and Policy Factors Influencing School Performance\",\n",
      "            \"description\": \"Research and compile data on community socioeconomic status, neighborhood demographics, funding disparities, district policies, and local initiatives impacting schools' performance in the Seattle metro. Examine correlations between these factors and school outcomes. Include stakeholder perspectives from educators, families, and policymakers through interviews or published statements. Address risks and limitations affecting schools' ability to improve or maintain performance.\"\n",
      "        },\n",
      "        {\n",
      "            \"title\": \"Compare Public vs Private School Options and Their Unique Strengths Across Key Seattle Metro Areas\",\n",
      "            \"description\": \"Collect detailed profiles of private schools in key Seattle metro neighborhoods including tuition costs, admission criteria, school size, curriculum focus, extracurricular opportunities, and performance metrics. Compare these with nearby public schools on academic outcomes and other relevant factors. Include data on accessibility, diversity, and community reputation. Identify which private and public schools stand out in different categories and regions for comprehensive comparison.\"\n",
      "        },\n",
      "        {\n",
      "            \"title\": \"Develop Criteria and Guidance for Families Evaluating School Choices in the Seattle Metro\",\n",
      "            \"description\": \"Synthesize all collected data and analyses to create clear, actionable evaluation criteria for families considering schools in Seattle metro. Include factors such as academic performance, school culture, extracurricular activities, location, cost (for private schools), and alignment with family values. Identify decision-making frameworks, resources for school visits or tours, and how to weigh trade-offs. Provide insights into navigating enrollment processes and available support services for families.\"\n",
      "        }\n",
      "    ]\n",
      "}\n",
      "searching for recent public and private school rankings Seattle metro region 2024\n",
      "searching for Seattle metro region school standardized test scores recent\n",
      "searching for Seattle metro region school graduation rates 2024\n",
      "searching for Seattle metro region school college readiness data\n",
      "searching for Seattle metro region school student-teacher ratios\n",
      "searching for Seattle metro region school demographic breakdowns\n",
      "searching for Seattle metro region historical school ranking data last 10 years\n",
      "searching for Seattle metro region school rankings GreatSchools Niche U.S. News 2024\n",
      "searching for high performing schools in Seattle metro area 2025 academic rankings\n",
      "searching for underperforming schools in Seattle metro area 2025 academic rankings\n",
      "searching for funding levels teacher qualifications academic programs extracurricular offerings student support services Seattle metro schools\n",
      "searching for parent and student testimonials school culture administrative leadership quality surveys Seattle metro area schools\n",
      "searching for common factors influencing success and challenges of schools Seattle metro area\n",
      "searching for socioeconomic factors affecting school performance Seattle metro\n",
      "searching for demographic impact on school performance Seattle metro\n",
      "searching for school funding disparities Seattle metro area\n",
      "searching for district policies influencing school outcomes Seattle\n",
      "searching for local initiatives improving schools Seattle metro\n",
      "searching for educator family policymaker perspectives on Seattle school performance\n",
      "searching for risks and limitations to improving school performance Seattle metro\n",
      "searching for Profiles of private schools in Seattle metro area neighborhoods including tuition, admission, size, curriculum, extracurriculars, and performance\n",
      "searching for Academic outcomes and performance comparison of private and public schools in Seattle metro area\n",
      "searching for Accessibility, diversity, and community reputation of public and private schools in Seattle metro area\n",
      "searching for Standout private and public schools in different Seattle metro neighborhoods by category and performance\n",
      "searching for criteria for evaluating school choices for families in Seattle metro area\n",
      "searching for decision-making frameworks for selecting schools for children\n",
      "searching for resources for school visits and tours in Seattle metro schools\n",
      "searching for how to weigh trade-offs for families choosing schools\n",
      "searching for navigating enrollment processes for Seattle metro schools\n",
      "searching for support services for families choosing schools in Seattle area\n",
      "searching for school choice factors academic performance culture extracurricular location cost alignment with family values\n",
      "==================================\u001b[1m Ai Message \u001b[0m==================================\n",
      "Name: planner\n",
      "\n",
      "{\n",
      "    \"thought\": \"The user wants a detailed research plan to understand school rankings in the broader Seattle metro region, identify standout and underperforming schools, analyze common factors influencing performance, and provide guidance for families evaluating school options, including private schools in key metro areas.\",\n",
      "    \"title\": \"Research Plan for Seattle Metro Region School Rankings, Performance Drivers, and Family Evaluation Guidance\",\n",
      "    \"steps\": [\n",
      "        {\n",
      "            \"title\": \"Collect Comprehensive Data on School Rankings Across the Seattle Metro Region\",\n",
      "            \"description\": \"Gather recent quantitative data on public and private school rankings for all schools in the Seattle metro region from multiple reputable sources such as state education departments, GreatSchools, Niche, U.S. News & World Report, and local education agencies. Include standardized test scores, graduation rates, college readiness, student-teacher ratios, and demographic breakdowns. Collect historical ranking data for trend analysis over the past 5-10 years.\"\n",
      "        },\n",
      "        {\n",
      "            \"title\": \"Identify High-Performing and Underperforming Schools with Qualitative and Quantitative Analysis\",\n",
      "            \"description\": \"Analyze the collected data to highlight schools that consistently rank at the top and those that lag behind. Investigate quantitative indicators such as funding levels, teacher qualifications, academic programs, extracurricular offerings, and student support services. Supplement with qualitative data including parent and student testimonials, school culture, and administrative leadership quality sourced from surveys and local reports. Explore patterns, common themes, and drivers behind school success or challenges.\"\n",
      "        },\n",
      "        {\n",
      "            \"title\": \"Explore Socioeconomic, Demographic, and Policy Factors Influencing School Performance\",\n",
      "            \"description\": \"Research and compile data on community socioeconomic status, neighborhood demographics, funding disparities, district policies, and local initiatives impacting schools' performance in the Seattle metro. Examine correlations between these factors and school outcomes. Include stakeholder perspectives from educators, families, and policymakers through interviews or published statements. Address risks and limitations affecting schools' ability to improve or maintain performance.\"\n",
      "        },\n",
      "        {\n",
      "            \"title\": \"Compare Public vs Private School Options and Their Unique Strengths Across Key Seattle Metro Areas\",\n",
      "            \"description\": \"Collect detailed profiles of private schools in key Seattle metro neighborhoods including tuition costs, admission criteria, school size, curriculum focus, extracurricular opportunities, and performance metrics. Compare these with nearby public schools on academic outcomes and other relevant factors. Include data on accessibility, diversity, and community reputation. Identify which private and public schools stand out in different categories and regions for comprehensive comparison.\"\n",
      "        },\n",
      "        {\n",
      "            \"title\": \"Develop Criteria and Guidance for Families Evaluating School Choices in the Seattle Metro\",\n",
      "            \"description\": \"Synthesize all collected data and analyses to create clear, actionable evaluation criteria for families considering schools in Seattle metro. Include factors such as academic performance, school culture, extracurricular activities, location, cost (for private schools), and alignment with family values. Identify decision-making frameworks, resources for school visits or tours, and how to weigh trade-offs. Provide insights into navigating enrollment processes and available support services for families.\"\n",
      "        }\n",
      "    ]\n",
      "}\n",
      "==================================\u001b[1m Ai Message \u001b[0m==================================\n",
      "Name: planner\n",
      "\n",
      "{\n",
      "    \"thought\": \"The user wants a detailed research plan to understand school rankings in the broader Seattle metro region, identify standout and underperforming schools, analyze common factors influencing performance, and provide guidance for families evaluating school options, including private schools in key metro areas.\",\n",
      "    \"title\": \"Research Plan for Seattle Metro Region School Rankings, Performance Drivers, and Family Evaluation Guidance\",\n",
      "    \"steps\": [\n",
      "        {\n",
      "            \"title\": \"Collect Comprehensive Data on School Rankings Across the Seattle Metro Region\",\n",
      "            \"description\": \"Gather recent quantitative data on public and private school rankings for all schools in the Seattle metro region from multiple reputable sources such as state education departments, GreatSchools, Niche, U.S. News & World Report, and local education agencies. Include standardized test scores, graduation rates, college readiness, student-teacher ratios, and demographic breakdowns. Collect historical ranking data for trend analysis over the past 5-10 years.\"\n",
      "        },\n",
      "        {\n",
      "            \"title\": \"Identify High-Performing and Underperforming Schools with Qualitative and Quantitative Analysis\",\n",
      "            \"description\": \"Analyze the collected data to highlight schools that consistently rank at the top and those that lag behind. Investigate quantitative indicators such as funding levels, teacher qualifications, academic programs, extracurricular offerings, and student support services. Supplement with qualitative data including parent and student testimonials, school culture, and administrative leadership quality sourced from surveys and local reports. Explore patterns, common themes, and drivers behind school success or challenges.\"\n",
      "        },\n",
      "        {\n",
      "            \"title\": \"Explore Socioeconomic, Demographic, and Policy Factors Influencing School Performance\",\n",
      "            \"description\": \"Research and compile data on community socioeconomic status, neighborhood demographics, funding disparities, district policies, and local initiatives impacting schools' performance in the Seattle metro. Examine correlations between these factors and school outcomes. Include stakeholder perspectives from educators, families, and policymakers through interviews or published statements. Address risks and limitations affecting schools' ability to improve or maintain performance.\"\n",
      "        },\n",
      "        {\n",
      "            \"title\": \"Compare Public vs Private School Options and Their Unique Strengths Across Key Seattle Metro Areas\",\n",
      "            \"description\": \"Collect detailed profiles of private schools in key Seattle metro neighborhoods including tuition costs, admission criteria, school size, curriculum focus, extracurricular opportunities, and performance metrics. Compare these with nearby public schools on academic outcomes and other relevant factors. Include data on accessibility, diversity, and community reputation. Identify which private and public schools stand out in different categories and regions for comprehensive comparison.\"\n",
      "        },\n",
      "        {\n",
      "            \"title\": \"Develop Criteria and Guidance for Families Evaluating School Choices in the Seattle Metro\",\n",
      "            \"description\": \"Synthesize all collected data and analyses to create clear, actionable evaluation criteria for families considering schools in Seattle metro. Include factors such as academic performance, school culture, extracurricular activities, location, cost (for private schools), and alignment with family values. Identify decision-making frameworks, resources for school visits or tours, and how to weigh trade-offs. Provide insights into navigating enrollment processes and available support services for families.\"\n",
      "        }\n",
      "    ]\n",
      "}\n"
     ]
    }
   ],
   "source": [
    "from langgraph.checkpoint.memory import MemorySaver\n",
    "memory = MemorySaver()\n",
    "\n",
    "graph = StateGraph(State)\n",
    "\n",
    "# Add nodes\n",
    "graph.add_node(\"planner\", planner_node)\n",
    "graph.add_node(\"research_coordinator\", research_coordinator_node)\n",
    "graph.add_node(\"researcher\",research_node)\n",
    "graph.add_node(\"collector\",collection_node)\n",
    "graph.set_entry_point(\"planner\")\n",
    "graph.add_edge(\"research_coordinator\", \"researcher\")\n",
    "graph.add_edge(\"researcher\", \"collector\")\n",
    "graph.add_edge(\"collector\", END)  # Option in the future, to add another step and filter the documents retrieved using rerhank before writing the report\n",
    "\n",
    "agent = graph.compile(checkpointer=memory)\n",
    "\n",
    "async for s in agent.astream(input=initial_state, config=config, stream_mode=\"values\"):\n",
    "    message = s[\"messages\"][-1]\n",
    "    if isinstance(message, tuple):\n",
    "        print(message)\n",
    "    else:\n",
    "        message.pretty_print()"
   ]
  },
  {
   "cell_type": "code",
   "execution_count": 45,
   "metadata": {},
   "outputs": [
    {
     "data": {
      "text/plain": [
       "{'current_plan', 'messages', 'observations', 'queries', 'resources'}"
      ]
     },
     "execution_count": 45,
     "metadata": {},
     "output_type": "execute_result"
    }
   ],
   "source": [
    "snapshot = agent.get_state(config)\n",
    "{k for k, v in snapshot.values.items()}"
   ]
  },
  {
   "cell_type": "code",
   "execution_count": 48,
   "metadata": {
    "scrolled": true
   },
   "outputs": [
    {
     "data": {
      "text/plain": [
       "[{'results': [{'url': 'https://www.niche.com/k12/search/best-public-high-schools/m/seattle-metro-area/',\n",
       "    'raw_content': '2025 Best Public High Schools in the Seattle Area - Niche\\n\\n===============\\n\\n[Skip to Main Content](https://www.niche.com/k12/search/best-public-high-schools/m/seattle-metro-area/#maincontent)\\n\\n[](https://www.niche.com/?ref=k12 \"Niche\")\\n\\nK-12 Schools Seattle Area\\n\\nProvides auto-suggestions when entering text\\n\\nFind a school or district ...\\n\\nProvides auto-suggestions when entering text\\n\\nSearch in a district or a location ...\\n\\nLog In Sign Up\\n\\n*   [School Search](https://www.niche.com/k12/search/best-schools/m/seattle-metro-area/)\\n*   [School Rankings](https://www.niche.com/k12/rankings/)\\n*   [Schools Near You](https://www.niche.com/k12/schools-near-you/)\\n\\n[Write a review](https://www.niche.com/survey/hub/)\\n\\n[K-12 SCHOOLS](https://www.niche.com/k12/search/best-schools/m/seattle-metro-area/)\\n\\n*   [Review Your School](https://www.niche.com/k12/survey/)\\n*   [Schools Near You](https://www.niche.com/k12/schools-near-you/)\\n*   [Compare Schools](https://www.niche.com/k12/compare/)\\n*   [K-12 Quiz](https://www.niche.com/about/k12-quiz/)\\n*   [School Search](https://www.niche.com/k12/search/best-schools/m/seattle-metro-area/)\\n*   [District Search](https://www.niche.com/k12/search/best-school-districts/m/seattle-metro-area/)\\n*   [School Rankings](https://www.niche.com/k12/rankings/)\\n*   [Parent Resources](https://www.niche.com/blog/topics/parent-resources/?ref=megamenu)\\n\\n[COLLEGES](https://www.niche.com/colleges/search/best-colleges/m/seattle-metro-area/)\\n\\n*   [Direct Admissions](https://www.niche.com/about/direct-admissions/)\\n*   [Review Your College](https://www.niche.com/colleges/survey/)\\n*   [College Quiz](https://www.niche.com/colleges/college-quiz/)\\n*   [Admissions Calculator](https://www.niche.com/colleges/admissions-calculator/)\\n*   [Compare Colleges](https://www.niche.com/colleges/compare/)\\n*   [Scholarships & Financial Aid](https://www.niche.com/colleges/scholarships/)\\n*   [$2,000 No Essay Scholarship](https://www.niche.com/colleges/scholarships/no-essay-scholarship/)\\n*   [College Search](https://www.niche.com/colleges/search/best-colleges/m/seattle-metro-area/)\\n*   [College Rankings](https://www.niche.com/colleges/rankings/)\\n*   [Student Loans](https://niche.sparrowfi.com/landing)\\n*   [Guide to College Majors](https://www.niche.com/colleges/topic/hub/majors/)\\n\\n[GRADUATE SCHOOLS](https://www.niche.com/graduate-schools/search/best-graduate-schools/m/seattle-metro-area/)\\n\\n*   [Review Your Grad School](https://www.niche.com/graduate-schools/survey/)\\n*   [$1,000 Graduate Survey Scholarship](https://www.niche.com/graduate-schools/survey/graduate-school-survey-scholarship/)\\n*   [Grad School Search](https://www.niche.com/graduate-schools/search/best-graduate-schools/m/seattle-metro-area/)\\n*   [Graduate Programs](https://www.niche.com/graduate-schools/programs/)\\n*   [Best MBA Programs](https://www.niche.com/graduate-schools/search/best-masters-in-business-programs/)\\n\\n[PLACES TO LIVE](https://www.niche.com/places-to-live/search/best-places-to-live/m/seattle-metro-area/)\\n\\n*   [Review Your Area](https://www.niche.com/places-to-live/survey/)\\n*   [Find Places to Live](https://www.niche.com/places-to-live/search/best-places-to-live/m/seattle-metro-area/)\\n*   [Rankings](https://www.niche.com/places-to-live/rankings/)\\n*   [Home Buying Tips](https://www.niche.com/blog/topics/home-buying-tips/?ref=megamenu)\\n\\n2025 Best Public High Schools in the Seattle Area\\n=================================================\\n\\nThe 2025 Best Public High Schools ranking is based on rigorous analysis of key statistics and millions of reviews from students and parents using data from the U.S. Department of Education. Ranking factors include state test scores, college readiness, graduation rates, teacher quality, and high school ratings. SAT/ACT scores have been removed from this year\\'s rankings to reflect a general de-emphasis on test scores in the college admissions process.[Read more on how this ranking was calculated.](https://www.niche.com/about/methodology/best-public-high-schools/)\\n\\n[Where Niche Grades come from](https://www.niche.com/about/where-niche-grades-come-from/) and [how Niche calculates rankings](https://www.niche.com/k12/rankings/methodology/).\\n\\n2025 Best Public High Schools in the Seattle Area\\n=================================================\\n\\nThe 2025 Best Public High Schools ranking is based on rigorous analysis of key statistics and millions of reviews from students and parents using data from the U.S. Department of Education. Ranking factors include state test scores, college readiness, graduation rates, teacher quality, and high school ratings. SAT/ACT scores have been removed from this year\\'s rankings to reflect a general de-emphasis on test scores in the college admissions process.[Read more on how this ranking was calculated.](https://www.niche.com/about/methodology/best-public-high-schools/)\\n\\n[Where Niche Grades come from](https://www.niche.com/about/where-niche-grades-come-from/) and [how Niche calculates rankings](https://www.niche.com/k12/rankings/methodology/).\\n\\nBest schools\\n*   [Most diverse](https://www.niche.com/k12/search/most-diverse-schools/)\\n*   [Best teachers](https://www.niche.com/k12/search/best-teachers/)\\n*   [College prep](https://www.niche.com/k12/search/college-prep/)\\n*   [Largest](https://www.niche.com/k12/search/largest-schools/)\\n*   [Niche standout schools](https://www.niche.com/k12/search/niche-standout-schools/)\\n\\nMore\\n\\n*   [Best schools](https://www.niche.com/k12/search/best-schools/)\\n*   [Most diverse](https://www.niche.com/k12/search/most-diverse-schools/)\\n*   [Best teachers](https://www.niche.com/k12/search/best-teachers/)\\n\\n*   [College prep](https://www.niche.com/k12/search/college-prep/)\\n*   [Largest](https://www.niche.com/k12/search/largest-schools/)\\n*   [Best for STEM](https://www.niche.com/k12/search/best-schools-for-stem/)\\n\\n*   [Niche standout schools](https://www.niche.com/k12/search/niche-standout-schools/)\\n*   [Best for the arts](https://www.niche.com/k12/search/best-schools-for-the-arts/)\\n\\n*   [Best for athletes](https://www.niche.com/k12/search/best-schools-for-sports/)\\n*   [Best districts](https://www.niche.com/k12/search/best-school-districts/)\\n\\nView on Map\\n\\nSearch type\\n\\nSchools Districts \\n\\nGrade level\\n\\nClear filter\\n\\n- [x] Pre-K \\n\\n- [x] Elementary \\n\\n- [x] Middle \\n\\n- [x] High school \\n\\n- [x] K-8 only \\n\\n- [x] K-12 only \\n\\nHighest grade offered\\n\\nSelect a grade...\\n\\nSchool type\\n\\n- [x] Public \\n\\n- [x] Traditional \\n\\n- [x] Charter \\n\\n- [x] Magnet \\n\\n- [x] Private \\n\\nReligion\\n\\n- [x] Catholic \\n\\n- [x] Christian \\n\\n- [x] Jewish \\n\\n- [x] Islamic \\n\\nBoarding status\\n\\n- [x] Offers boarding \\n\\nCoed status\\n\\n- [x] \\n\\nCoed\\n\\n \\n\\n- [x] \\n\\nAll-girls\\n\\n \\n\\n- [x] \\n\\nAll-boys\\n\\n \\n\\nSpecialty\\n\\n- [x] Online \\n\\n- [x] Special education \\n\\n- [x] Montessori \\n\\n- [x] Therapeutic \\n\\nTuition\\n\\nSelect a value$0\\n\\nAcademics\\n\\n- [x] AP program \\n\\n- [x] IB program \\n\\n- [x] Gifted/talented program \\n\\nStudent-teacher ratio\\n\\nSelect a value 0:1\\n\\nNiche Grades\\n\\nAcademics\\n\\n- [x] \\n\\nA\\n\\n - [x] \\n\\nB\\n\\n - [x] \\n\\nC\\n\\n - [x] \\n\\nD\\n\\n \\n\\nTeachers\\n\\n- [x] \\n\\nA\\n\\n - [x] \\n\\nB\\n\\n - [x] \\n\\nC\\n\\n - [x] \\n\\nD\\n\\n \\n\\nDiversity\\n\\n- [x] \\n\\nA\\n\\n - [x] \\n\\nB\\n\\n - [x] \\n\\nC\\n\\n - [x] \\n\\nD\\n\\n \\n\\nSports\\n\\n- [x] \\n\\nA\\n\\n - [x] \\n\\nB\\n\\n - [x] \\n\\nC\\n\\n - [x] \\n\\nD\\n\\n \\n\\nOrganization\\n\\nSelect one...\\n\\nCancel Apply\\n\\nView on Map\\n\\nFilter\\n\\n2\\n\\nSeattle Area\\n\\nIncludes High school\\n\\nPublic, Charter\\n\\nPublic, Magnet\\n\\n1-25 of 229 results\\n\\n1.   \\n[#1 Best Public High Schools in Seattle Area Tesla STEM High School ---------------------- * Lake Washington School District, WA * 9-12 * Rating 4.23 out of 5 118 reviews **Senior:**I like Tesla STEM because I get the opportunity to take challenging classes with passionate teachers, and develop an intrinsic interest and motivation for learning. I wish there were more creative outlets, as the school is very STEM heavy (maybe shift to STEAM curricula).... Read 118 reviews * grade A+ Overall Niche Grade * Students 601 * Student-teacher ratio 21:1 Tesla STEM High School ---------------------- #1 Best Public High Schools in Seattle Area. Lake Washington School District, WA, 9-12. 118 Niche users give it an average review of 4.2 stars. Featured Review: Senior says I like Tesla STEM because I get the opportunity to take challenging classes with passionate teachers, and develop an intrinsic interest and motivation for learning. I wish there were more creative... Read 118 reviews. Overall Niche Grade: A+, Students: 601, Student-Teacher Ratio: 21 to 1,](https://www.niche.com/k12/tesla-stem-high-school-redmond-wa/)\\n\\n[View nearby homes](https://www.homes.com/redmond-wa/tesla-stem-high-school/s-xwyqr1r2bh7vp/?utm_source=niche&utm_medium=referral&utm_campaign=niche_reviews)\\n\\nAdd to List\\n\\n2.   \\n[#2 Best Public High Schools in Seattle Area Newport High School ------------------- * Bellevue School District, WA * 9-12 * Rating 3.83 out of 5 390 reviews **Junior:**Ever since I\\'ve stepped foot at Newport, I could tell the tough academic competition that I was around. Everyone takes school very seriously which I admire, but also get intimidated of at times as I realize that I\\'m not as unique as I might think. Overall, my experience has been great whether it\\'s getting to know my amazing teachers or being part of the supportive golf team where I know will always make me feel better after a tough day. Not only are the people great, but there are remodels and renovations to the school that are making it look so good! If I could ask for a change though, I would ask for more diversity and appreciation of other cultures because I feel like Newport does lack some diversity.... Read 390 reviews * grade A+ Overall Niche Grade * Students 1,844 * Student-teacher ratio 21:1 Newport High School ------------------- #2 Best Public High Schools in Seattle Area. Blue checkmark. Bellevue School District, WA, 9-12. 390 Niche users give it an average review of 3.8 stars. Featured Review: Junior says Ever since I\\'ve stepped foot at Newport, I could tell the tough academic competition that I was around. Everyone takes school very seriously which I admire, but also get intimidated of at times as I... Read 390 reviews. Overall Niche Grade: A+, Students: 1,844, Student-Teacher Ratio: 21 to 1,](https://www.niche.com/k12/newport-high-school-bellevue-wa/)\\n\\n[View nearby homes](https://www.homes.com/bellevue-wa/newport-senior-high-school/s-qxd03d1f8rf1t/?utm_source=niche&utm_medium=referral&utm_campaign=niche_reviews)[Virtual tour](https://bsd405.org/nhs/about/)\\n\\nAdd to List\\n\\n3.   \\n[#3 Best Public High Schools in Seattle Area International School -------------------- * Bellevue School District, WA * 6-12 * Rating 3.97 out of 5 97 reviews **Senior:**I believe that international school provides their students with a strong curriculum, with core subjects and with teaching that prepares you for college. Taking the classes and bonding with teachers has made me felt more prepared for college throughout the years. I believe that our small school provides students with a chance to connect with the peers on a closer level and have meaningful relationships with their teachers!... Read 97 reviews * grade A+ Overall Niche Grade * Students 597 * Student-teacher ratio 20:1 International School -------------------- #3 Best Public High Schools in Seattle Area. Blue checkmark. Bellevue School District, WA, 6-12. 97 Niche users give it an average review of 4 stars. Featured Review: Senior says I believe that international school provides their students with a strong curriculum, with core subjects and with teaching that prepares you for college. Taking the classes and bonding with teachers... Read 97 reviews. Overall Niche Grade: A+, Students: 597, Student-Teacher Ratio: 20 to 1,](https://www.niche.com/k12/international-school-bellevue-wa/)\\n\\n[View nearby homes](https://www.homes.com/bellevue-wa/international-school/s-2ydqymh3g5s37/?utm_source=niche&utm_medium=referral&utm_campaign=niche_reviews)[Virtual tour](https://bsd405.org/international/about/)\\n\\nAdd to List\\n\\n4.   \\nAdd to List \\n\\n[Sponsored![Image 1](https://d13b2ieg84qqce.cloudfront.net/e3adc18176de9774a6ffdc8b7567e66e1bf60e10)Private School The International School of Minnesota * Private School * EDEN PRAIRIE, MN * PK, K-12 * Rating 4.46 out of 5 97](https://www.niche.com/k12/the-international-school-of-minnesota-eden-prairie-mn/)\\n\\nAdd to List\\n\\n[Sponsored![Image 2](https://d13b2ieg84qqce.cloudfront.net/d04027283e4736bca67060512e37c3a2ae19aa13)Catholic School Hill-Murray School * Private School * MAPLEWOOD, MN * 6-12 * Rating 4.32 out of 5 311](https://www.niche.com/k12/hill-murray-school-maplewood-mn/)\\n\\nAdd to List\\n\\n[Sponsored![Image 3](https://d13b2ieg84qqce.cloudfront.net/d79b2344dc27d8e109dac1315943b579edc72510)School District Mercer Island School District * School District * MERCER ISLAND, WA * Rating 4.26 out of 5 50](https://www.niche.com/k12/d/mercer-island-school-district-wa/)\\n\\n5.   \\n[#4 Best Public High Schools in Seattle Area International Community School ------------------------------ * Lake Washington School District, WA * 6-12 * Rating 4 out of 5 100 reviews **Sophomore:**I would say that ICS is overall a fairly decent school. If you theoretically want a much smaller school environment, with more interaction, you will get that here. The resources are quite excellent in effect. The only thing is that ICS is quite competitive, and the teachers are typically very iffy. Many good ones, but also a couple terribl eones... Read 100 reviews * grade A+ Overall Niche Grade * Students 406 * Student-teacher ratio 18:1 International Community School ------------------------------ #4 Best Public High Schools in Seattle Area. Lake Washington School District, WA, 6-12. 100 Niche users give it an average review of 4 stars. Featured Review: Sophomore says I would say that ICS is overall a fairly decent school. If you theoretically want a much smaller school environment, with more interaction, you will get that here. The resources are quite excellent... Read 100 reviews. Overall Niche Grade: A+, Students: 406, Student-Teacher Ratio: 18 to 1,](https://www.niche.com/k12/international-community-school-kirkland-wa/)\\n\\n[View nearby homes](https://www.homes.com/kirkland-wa/international-community-school/s-bycrj3ce10fv7/?utm_source=niche&utm_medium=referral&utm_campaign=niche_reviews)\\n\\nAdd to List\\n\\n6.   \\n[#5 Best Public High Schools in Seattle Area Eastlake High School -------------------- * Lake Washington School District, WA * 9-12 * Rating 3.91 out of 5 538 reviews **Junior:**Eastlake is a very safe school, and for that I am grateful to attend a school that is knee-deep in peer/teacher support, diversity, and open conversation. Everyone is welcome. If there is one thing to change, however, it would be my experience in the arts. Theatre is truly something that has changed my life and performing at Eastlake in its many shows is a part of my daily life, but our school treats our arts departments with relatively great neglect in comparison with other extracurriculars such as sports - like football. This year, even, teachers from the arts department in our school are being fired and clubs, such as Choir Club, are being shut down without hesitation. I believe the arts, such as theatre, needs the respect it deserves and this is one thing I want to see change at Eastlake.... Read 538 reviews * grade A+ Overall Niche Grade * Students 2,367 * Student-teacher ratio 21:1 Eastlake High School -------------------- #5 Best Public High Schools in Seattle Area. Lake Washington School District, WA, 9-12. 538 Niche users give it an average review of 3.9 stars. Featured Review: Junior says Eastlake is a very safe school, and for that I am grateful to attend a school that is knee-deep in peer/teacher support, diversity, and open conversation. Everyone is welcome. If there is one thing... Read 538 reviews. Overall Niche Grade: A+, Students: 2,367, Student-Teacher Ratio: 21 to 1,](https://www.niche.com/k12/eastlake-high-school-sammamish-wa/)\\n\\n[View nearby homes](https://www.homes.com/sammamish-wa/eastlake-high-school/s-h11838hd4dzz2/?utm_source=niche&utm_medium=referral&utm_campaign=niche_reviews)\\n\\nAdd to List\\n\\n7.   \\n[#6 Best Public High Schools in Seattle Area Raisbeck Aviation High School ----------------------------- * Highline School District, WA * 9-12 * Rating 4.05 out of 5 176 reviews **Sophomore:**There is nothing more inspiring than not yet fulfilling your dream goals in life. As an upcoming junior at Raisbeck Aviation High School, my journey has been nothing but encouraging by shaping my aspirations into something tangible, and something close to my ideal reality. Just like a matcha latte, in a community with plenty of sweet opportunities, I have faced numerous of bitter challenges such as my growing fear of failing academically, adapting to high expectations for assignments, etc. However, these obstacles fueled my determination to succeed. My passion for learning and commitment to helping others have been my guiding forces in my life. Despite being a small school of roughly 400 attendees, I have never felt closer to home with the people I am always around. By pursuing higher education, I aim to not only uplift myself but also inspire others around me. The opportunity to grow as a person has never been so bright for me in a school I proudly attend each and every day.... Read 176 reviews * grade A+ Overall Niche Grade * Students 406 * Student-teacher ratio 20:1 Raisbeck Aviation High School ----------------------------- #6 Best Public High Schools in Seattle Area. Highline School District, WA, 9-12. 176 Niche users give it an average review of 4 stars. Featured Review: Sophomore says There is nothing more inspiring than not yet fulfilling your dream goals in life. As an upcoming junior at Raisbeck Aviation High School, my journey has been nothing but encouraging by shaping my... Read 176 reviews. Overall Niche Grade: A+, Students: 406, Student-Teacher Ratio: 20 to 1,](https://www.niche.com/k12/raisbeck-aviation-high-school-tukwila-wa/)\\n\\n[View nearby homes](https://www.homes.com/tukwila-wa/aviation-high-school/s-eycgs0gsqt45j/?utm_source=niche&utm_medium=referral&utm_campaign=niche_reviews)\\n\\nAdd to List\\n\\n8.    \\n9.    \\n10.   \\n[#7 Best Public High Schools in Seattle Area Mercer Island High School ------------------------- * Mercer Island School District, WA * 9-12 * Rating 3.79 out of 5 257 reviews **Alum:**Mercer Island High School sets students up for academic success — most people there are high-achievers, and the average GPA is probably around a 3.7. The academics are strong, and the pressure to succeed is real. But one big downside is how closed-off the school has been. Until this year, you had to live on Mercer Island to attend, which led to a lack of diversity and culture. As someone who moved from Austria and has switched schools before, I’m pretty social — but even I found it hard to fit in at first. I can\\'t imagine how tough it’d be for someone less outgoing. I\\'m grateful for the education, but I do wish I had gone to a different school earlier, maybe in Seattle, to experience more fun and balance. Mercer Island focuses heavily on grades and prestige — sometimes it feels like it’s all about making your rich parents proud.... Read 257 reviews * grade A+ Overall Niche Grade * Students 1,465 * Student-teacher ratio 20:1 Mercer Island High School ------------------------- #7 Best Public High Schools in Seattle Area. Blue checkmark. Mercer Island School District, WA, 9-12. 257 Niche users give it an average review of 3.8 stars. Featured Review: Alum says Mercer Island High School sets students up for academic success — most people there are high-achievers, and the average GPA is probably around a 3.7. The academics are strong, and the pressure to... Read 257 reviews. Overall Niche Grade: A+, Students: 1,465, Student-Teacher Ratio: 20 to 1,](https://www.niche.com/k12/mercer-island-high-school-mercer-island-wa/)\\n\\n[View nearby homes](https://www.homes.com/mercer-island-wa/mercer-island-high-school/s-ct9kmb3n7wj0y/?utm_source=niche&utm_medium=referral&utm_campaign=niche_reviews)[Virtual tour](https://mihs.mercerislandschools.org/)\\n\\nAdd to List\\n\\n11.   \\n[#8 Best Public High Schools in Seattle Area Redmond High School ------------------- * Lake Washington School District, WA * 9-12 * Rating 3.92 out of 5 491 reviews **Senior:**I only went to this school for one year (my senior year) and the administration, counselors, and teachers were some of the most kind and understanding group of educators that I’ve ever had the pleasure of knowing. I truly enjoyed coming to school each day and I felt like I was genuinely learning rather than just wasting my day being taught things I already knew. It was challenging, but in a good way. The only critique I may have is that the school seems to be very worried about lawsuits and getting sued, so they often make odd decisions that don’t put the children’s best interest at mind. Other than that, it was a phenomenal experience and very enjoyable. Glad to say I got to graduate from this school.... Read 491 reviews * grade A+ Overall Niche Grade * Students 2,275 * Student-teacher ratio 21:1 Redmond High School ------------------- #8 Best Public High Schools in Seattle Area. Lake Washington School District, WA, 9-12. 491 Niche users give it an average review of 3.9 stars. Featured Review: Senior says I only went to this school for one year (my senior year) and the administration, counselors, and teachers were some of the most kind and understanding group of educators that I’ve ever had the... Read 491 reviews. Overall Niche Grade: A+, Students: 2,275, Student-Teacher Ratio: 21 to 1,](https://www.niche.com/k12/redmond-high-school-redmond-wa/)\\n\\n[View nearby homes](https://www.homes.com/redmond-wa/redmond-high-school/s-0fp2qkm7s4rff/?utm_source=niche&utm_medium=referral&utm_campaign=niche_reviews)\\n\\nAdd to List\\n\\n12.   \\n[#9 Best Public High Schools in Seattle Area Woodinville High School ----------------------- * Northshore School District, WA * 9-12 * Rating 3.94 out of 5 379 reviews **Senior:**Since I’ve been a freshman at Woodinville High School, I’ve always felt a huge divide in the diversity here. The ratio from colored to white has grown throughout my freshman to senior year, but I still feel like the white culture has a huge influence in sports and activities. The teachers and academics are good, with some standout teachers who really do care, and the facilities are good compared to what I’ve heard of other schools. The college readiness has been not the most clear, but they make sure you get everything done in time. As a colored person, I’ve felt included through my small group of friends, and safety has never been an issue here. The culture to for school spirit here is pretty big, which definitely tries to make everyone feel like they’re one family.... Read 379 reviews * grade A+ Overall Niche Grade * Students 1,664 * Student-teacher ratio 21:1 Woodinville High School ----------------------- #9 Best Public High Schools in Seattle Area. Northshore School District, WA, 9-12. 379 Niche users give it an average review of 3.9 stars. Featured Review: Senior says Since I’ve been a freshman at Woodinville High School, I’ve always felt a huge divide in the diversity here. The ratio from colored to white has grown throughout my freshman to senior year, but I... Read 379 reviews. Overall Niche Grade: A+, Students: 1,664, Student-Teacher Ratio: 21 to 1,](https://www.niche.com/k12/woodinville-high-school-woodinville-wa/)\\n\\n[View nearby homes](https://www.homes.com/woodinville-wa/woodinville-high-school/s-0drsgnn344zle/?utm_source=niche&utm_medium=referral&utm_campaign=niche_reviews)\\n\\nAdd to List\\n\\n13.   \\n    *   [2025 Best Public Middle Schools](https://www.niche.com/k12/search/best-public-middle-schools/m/seattle-metro-area/)\\n    *   [2025 High Schools with the Best Teachers](https://www.niche.com/k12/search/best-teachers-public-high-schools/m/seattle-metro-area/)\\n    *   [2025 Best Public High Schools for STEM](https://www.niche.com/k12/search/best-public-high-schools-for-stem/m/seattle-metro-area/)\\n\\n14.   \\n[#10 Best Public High Schools in Seattle Area Bellevue High School -------------------- * Bellevue School District, WA * 9-12 * Rating 3.96 out of 5 227 reviews **Junior:**It has been 3 years now since my first day stepping into Bellevue High School as a freshman. I was nervous, overwhelmed, and apprehensive of the new environment, but the school and its staff quickly put those worries to rest. Every class that I\\'ve been a part of has had a very realistic and accessible path to success as well as a teacher that was willing to help me get there. Of course, I didn\\'t always get perfect scores but I truly believe that those struggles came from mistakes on my part, with the teachers consistently offering ways to learn from those short comings. Although I love the academic aspect of my school, I think that our culture lacks in personability and welcomeness. Most students are polite, but not many are caring. If I could see any change, I\\'d like to see my peers be more mindful of each other and work in building community, as much as they do in their personal academics.... Read 227 reviews * grade A+ Overall Niche Grade * Students 1,634 * Student-teacher ratio 1634:1 Bellevue High School -------------------- #10 Best Public High Schools in Seattle Area. Blue checkmark. Bellevue School District, WA, 9-12. 227 Niche users give it an average review of 4 stars. Featured Review: Junior says It has been 3 years now since my first day stepping into Bellevue High School as a freshman. I was nervous, overwhelmed, and apprehensive of the new environment, but the school and its staff quickly... Read 227 reviews. Overall Niche Grade: A+, Students: 1,634, Student-Teacher Ratio: 1634 to 1,](https://www.niche.com/k12/bellevue-high-school-bellevue-wa/)\\n\\n[View nearby homes](https://www.homes.com/bellevue-wa/bellevue-high-school/s-fyrpv1wvp92kf/?utm_source=niche&utm_medium=referral&utm_campaign=niche_reviews)[Virtual tour](https://bellevuehigh.bsd405.org/)\\n\\nAdd to List\\n\\n15.   \\n[#11 Best Public High Schools in Seattle Area Skyline High School ------------------- * Issaquah School District, WA * 9-12 * Rating 3.72 out of 5 540 reviews **Sophomore:**Skyline High School is a wonderful school with amazing teachers and staff. The best part of my freshman year was taking part in DECA, which is highly valued as well as is an important part of our school\\'s culture. The DECA teachers we had this year made the entire experience so fun and memorable. A bad experience I had was with one particular teacher, who had stated that she wanted to purposely make students fail calling a \"C\" a very good grade we should all strive for. Nevertheless, I got through the class with an A, even though it was pretty challenging to do so.... Read 540 reviews * grade A+ Overall Niche Grade * Students 2,193 * Student-teacher ratio 23:1 Skyline High School ------------------- #11 Best Public High Schools in Seattle Area. Blue checkmark. Issaquah School District, WA, 9-12. 540 Niche users give it an average review of 3.7 stars. Featured Review: Sophomore says Skyline High School is a wonderful school with amazing teachers and staff. The best part of my freshman year was taking part in DECA, which is highly valued as well as is an important part of our... Read 540 reviews. Overall Niche Grade: A+, Students: 2,193, Student-Teacher Ratio: 23 to 1,](https://www.niche.com/k12/skyline-high-school-sammamish-wa/)\\n\\n[View nearby homes](https://www.homes.com/sammamish-wa/skyline-high-school/s-cgz1f0vdxc62m/?utm_source=niche&utm_medium=referral&utm_campaign=niche_reviews)\\n\\nAdd to List\\n\\n16.   \\n[#12 Best Public High Schools in Seattle Area Issaquah High School -------------------- * Issaquah School District, WA * 9-12 * Rating 3.95 out of 5 415 reviews **Senior:**IHS is extremely STEM-focused, but sometimes to a fault. As a student not studying STEM, I found better college readiness for my field by doing dual enrollment at a local community college. Arts programs sometimes underfunded. But overall, relatively safe, with a welcoming community.... Read 415 reviews * grade A+ Overall Niche Grade * Students 2,452 * Student-teacher ratio 23:1 Issaquah High School -------------------- #12 Best Public High Schools in Seattle Area. Blue checkmark. Issaquah School District, WA, 9-12. 415 Niche users give it an average review of 4 stars. Featured Review: Senior says IHS is extremely STEM-focused, but sometimes to a fault. As a student not studying STEM, I found better college readiness for my field by doing dual enrollment at a local community college. Arts... Read 415 reviews. Overall Niche Grade: A+, Students: 2,452, Student-Teacher Ratio: 23 to 1,](https://www.niche.com/k12/issaquah-high-school-issaquah-wa/)\\n\\n[View nearby homes](https://www.homes.com/issaquah-wa/issaquah-high-school/s-g92j5537pn85r/?utm_source=niche&utm_medium=referral&utm_campaign=niche_reviews)\\n\\nAdd to List\\n\\n17.    \\n18.    \\n19.   \\n[#13 Best Public High Schools in Seattle Area North Creek High School ----------------------- * Northshore School District, WA * 9-12 * Rating 3.89 out of 5 101 reviews **Senior:**North Creek High School is a fairly new state of the art school with modern architecture and incredible diversity. The teachers and other staff members are extremely kind and helpful, always putting the students education first. Throughout my time at North Creek I have felt a part of a larger community, knowing that I had many people around that I could rely on to keep me safe and optimistic for the future.... Read 101 reviews * grade A+ Overall Niche Grade * Students 1,917 * Student-teacher ratio 21:1 North Creek High School ----------------------- #13 Best Public High Schools in Seattle Area. Northshore School District, WA, 9-12. 101 Niche users give it an average review of 3.9 stars. Featured Review: Senior says North Creek High School is a fairly new state of the art school with modern architecture and incredible diversity. The teachers and other staff members are extremely kind and helpful, always putting... Read 101 reviews. Overall Niche Grade: A+, Students: 1,917, Student-Teacher Ratio: 21 to 1,](https://www.niche.com/k12/north-creek-high-school-bothell-wa/)\\n\\n[View nearby homes](https://www.homes.com/bothell-wa/north-creek-high-school/s-np6jvy2rccc3r/?utm_source=niche&utm_medium=referral&utm_campaign=niche_reviews)\\n\\nAdd to List\\n\\n20.   \\n[#14 Best Public High Schools in Seattle Area Interlake High School --------------------- * Bellevue School District, WA * 9-12 * Rating 3.84 out of 5 438 reviews **Senior:**Teachers are supportive and knowledgeable. The courses there definitely challenge the student but I think it is worth it since I have seen so much growth in my skills such as multitasking and organization as well as learn so many new things. The International Baccalaureate program is so unique and such a cool opportunity Interlake offers that helps create well rounded students in research and writing. I hope to see changes in the school lunch and a better integration between advanced learning and general education students.... Read 438 reviews * grade A Overall Niche Grade * Students 1,604 * Student-teacher ratio 1604:1 Interlake High School --------------------- #14 Best Public High Schools in Seattle Area. Blue checkmark. Bellevue School District, WA, 9-12. 438 Niche users give it an average review of 3.8 stars. Featured Review: Senior says Teachers are supportive and knowledgeable. The courses there definitely challenge the student but I think it is worth it since I have seen so much growth in my skills such as multitasking and... Read 438 reviews. Overall Niche Grade: A, Students: 1,604, Student-Teacher Ratio: 1604 to 1,](https://www.niche.com/k12/interlake-high-school-bellevue-wa/)\\n\\n[View nearby homes](https://www.homes.com/bellevue-wa/interlake-senior-high-school/s-c2kth885w3b3s/?utm_source=niche&utm_medium=referral&utm_campaign=niche_reviews)[Virtual tour](https://bsd405.org/interlake/about/)\\n\\nAdd to List\\n\\n21.   \\n[#15 Best Public High Schools in Seattle Area Sammamish High School --------------------- * Bellevue School District, WA * 9-12 * Rating 3.88 out of 5 265 reviews **Alum:**Proud alum from class of 2015! Before I committed to SHS I was accepted into two local prep schools. While my freshman year was good, I still battled with thoughts of \"what if I had gone to the prep schools?\" By the time Sophomore year rolled around I was committed to SHS in full and cherishing every moment therein. I never realized that turning down sought after prep schools would be such a great decision, but I am so glad I went to SHS instead. This school has shaped me into the person I am today and I can\\'t think of any better high school. Or school for that matter. I\\'m excited for my 10 year reunion and how this school\\'s legacy will continue to live on in my heart and mind.... Read 265 reviews * grade A Overall Niche Grade * Students 1,332 * Student-teacher ratio 22:1 Sammamish High School --------------------- #15 Best Public High Schools in Seattle Area. Blue checkmark. Bellevue School District, WA, 9-12. 265 Niche users give it an average review of 3.9 stars. Featured Review: Alum says Proud alum from class of 2015! Before I committed to SHS I was accepted into two local prep schools. While my freshman year was good, I still battled with thoughts of \"what if I had gone to the prep... Read 265 reviews. Overall Niche Grade: A, Students: 1,332, Student-Teacher Ratio: 22 to 1,](https://www.niche.com/k12/sammamish-high-school-bellevue-wa/)\\n\\n[View nearby homes](https://www.homes.com/bellevue-wa/sammamish-senior-high-school/s-kte95e7gmpwj1/?utm_source=niche&utm_medium=referral&utm_campaign=niche_reviews)[Virtual tour](https://bsd405.org/sammamish/about/)\\n\\nAdd to List\\n\\n22.   \\n[#16 Best Public High Schools in Seattle Area Lake Washington High School --------------------------- * Lake Washington School District, WA * 9-12 * Rating 3.72 out of 5 225 reviews **Senior:**I think that it is a good school, with lots of good people. The only issue is that once I started running start full-time, I felt less connected to the high school and more to the college and my peers there. All the senior events that happen during their school day, I can\\'t participate in because it is at a time where I am in class at the college. I feel a little left out. The ratings I\\'ve done I decided to base of my two years there as a full-time high school student rather than these past two years as a full-time running start one.... Read 225 reviews * grade A Overall Niche Grade * Students 2,037 * Student-teacher ratio 21:1 Lake Washington High School --------------------------- #16 Best Public High Schools in Seattle Area. Lake Washington School District, WA, 9-12. 225 Niche users give it an average review of 3.7 stars. Featured Review: Senior says I think that it is a good school, with lots of good people. The only issue is that once I started running start full-time, I felt less connected to the high school and more to the college and my... Read 225 reviews. Overall Niche Grade: A, Students: 2,037, Student-Teacher Ratio: 21 to 1,](https://www.niche.com/k12/lake-washington-high-school-kirkland-wa/)\\n\\n[View nearby homes](https://www.homes.com/kirkland-wa/lake-washington-high-school/s-xhg4c1etl231n/?utm_source=niche&utm_medium=referral&utm_campaign=niche_reviews)\\n\\nAdd to List\\n\\n23.   \\n[#17 Best Public High Schools in Seattle Area Liberty Senior High School -------------------------- * Issaquah School District, WA * 9-12 * Rating 3.88 out of 5 348 reviews **Junior:**The best part about this school is the wide range of available classes that meet just about any interest one may have. Additionally, the school has a College and Career Center to help students looking for help in their lives beyond high school. Generally speaking, the teachers are effective and contribute to a good school environment. Unfortunately, there have been problem teachers that, despite multiple complaints, remain at the school due to slow administrative action. Luckily, students generally have the option to transfer to a different class. Another problem, though, is that the school is not consistent in providing feminine hygiene products in every bathroom, especially throughout the day. Some bathrooms are bare and others are stocked with one but not the other. Finally, I do wish the school provided more updates and notifications on things like the SAT and other college preparedness topics. It\\'s a bit difficult to organize such information as an outsider to how colleges work.... Read 348 reviews * grade A Overall Niche Grade * Students 1,530 * Student-teacher ratio 23:1 Liberty Senior High School -------------------------- #17 Best Public High Schools in Seattle Area. Blue checkmark. Issaquah School District, WA, 9-12. 348 Niche users give it an average review of 3.9 stars. Featured Review: Junior says The best part about this school is the wide range of available classes that meet just about any interest one may have. Additionally, the school has a College and Career Center to help students... Read 348 reviews. Overall Niche Grade: A, Students: 1,530, Student-Teacher Ratio: 23 to 1,](https://www.niche.com/k12/liberty-senior-high-school-renton-wa/)\\n\\n[View nearby homes](https://www.homes.com/renton-wa/liberty-sr-high-school/s-bp0x7654rsv37/?utm_source=niche&utm_medium=referral&utm_campaign=niche_reviews)\\n\\nAdd to List\\n\\n24.    \\n25.    \\n26.   \\n[#18 Best Public High Schools in Seattle Area Roosevelt High School --------------------- * Seattle Public Schools, WA * 9-12 * Rating 3.89 out of 5 358 reviews **Sophomore:**In Roosevelt, the music and arts program is amazing. While the environment is competitive, the quality and dedication of teachers is extraordinary and the jazz program is one of the best in the nation. The students are super supportive and the directors, though often critical, have the most faith and passion in their students and their art. The school culture however is not as legendary. There are many cliques and students are generally passive-aggressive and mean. I would like to see more support and care within grade levels.... Read 358 reviews * grade A Overall Niche Grade * Students 1,528 * Student-teacher ratio 22:1 Roosevelt High School --------------------- #18 Best Public High Schools in Seattle Area. Seattle Public Schools, WA, 9-12. 358 Niche users give it an average review of 3.9 stars. Featured Review: Sophomore says In Roosevelt, the music and arts program is amazing. While the environment is competitive, the quality and dedication of teachers is extraordinary and the jazz program is one of the best in the... Read 358 reviews. Overall Niche Grade: A, Students: 1,528, Student-Teacher Ratio: 22 to 1,](https://www.niche.com/k12/roosevelt-high-school-seattle-wa/)\\n\\n[View nearby homes](https://www.homes.com/seattle-wa/roosevelt-high-school/s-cezhqqx8fn95m/?utm_source=niche&utm_medium=referral&utm_campaign=niche_reviews)\\n\\nAdd to List\\n\\n27.   \\n[#19 Best Public High Schools in Seattle Area Bainbridge High School ---------------------- * Bainbridge Island School District, WA * 9-12 * Rating 3.89 out of 5 277 reviews **Senior:**The best parts about Bainbridge High School is that the school has a strong focus on college preparedness and allowing students to thrive academically by having challenging courses set aside for those who wish to push themselves. I benefitted from having to opportunity to take rigorous science and math classes like AP Physics C: Mechanics, honors Geometry, and honors Algebra II. However, one of the challenges with the school district is the struggles with funding as student attendance continues to drop. Therefore, there is a shrinkage of the elective classes as there are not enough teachers nor students who are able to fill the classes. Though after Covid occurred, most high schools have been struggling with regaining student attendance numbers. A change to Bainbridge High School that I would like to see would be to increase the involvement in school clubs by having all clubs be represented on the school website and mandated to participate in club fairs.... Read 277 reviews * grade A Overall Niche Grade * Students 1,181 * Student-teacher ratio 21:1 Bainbridge High School ---------------------- #19 Best Public High Schools in Seattle Area. Blue checkmark. Bainbridge Island School District, WA, 9-12. 277 Niche users give it an average review of 3.9 stars. Featured Review: Senior says The best parts about Bainbridge High School is that the school has a strong focus on college preparedness and allowing students to thrive academically by having challenging courses set aside for... Read 277 reviews. Overall Niche Grade: A, Students: 1,181, Student-Teacher Ratio: 21 to 1,](https://www.niche.com/k12/bainbridge-high-school-bainbridge-island-wa/)\\n\\n[View nearby homes](https://www.homes.com/bainbridge-island-wa/bainbridge-high-school/s-3nsxsftxt2w9v/?utm_source=niche&utm_medium=referral&utm_campaign=niche_reviews)\\n\\nAdd to List\\n\\n28.   \\n[#20 Best Public High Schools in Seattle Area Garfield High School -------------------- * Seattle Public Schools, WA * 9-12 * Rating 3.63 out of 5 534 reviews **Junior:**It’s a great school, the teachers are friendly and the academics are very good. Although our schools recourses are very limited, many teachers are being cut and same with the schools language programs. As of right now only Spanish is offered at the school. Other than that it’s not a bad school. The safety concern Is another issue though, it’s not the school but the community as well. In the three years I have gone to Garfield two students have tragically passed away from gun violence and many on campus shootings have occurred. I love my school but there is a lot to be improved.... Read 534 reviews * grade A Overall Niche Grade * Students 1,641 * Student-teacher ratio 24:1 Garfield High School -------------------- #20 Best Public High Schools in Seattle Area. Seattle Public Schools, WA, 9-12. 534 Niche users give it an average review of 3.6 stars. Featured Review: Junior says It’s a great school, the teachers are friendly and the academics are very good. Although our schools recourses are very limited, many teachers are being cut and same with the schools language... Read 534 reviews. Overall Niche Grade: A, Students: 1,641, Student-Teacher Ratio: 24 to 1,](https://www.niche.com/k12/garfield-high-school-seattle-wa/)\\n\\n[View nearby homes](https://www.homes.com/seattle-wa/garfield-high-school/s-lfz0k48rnx3cn/?utm_source=niche&utm_medium=referral&utm_campaign=niche_reviews)\\n\\nAdd to List\\n\\n29.   \\n[#21 Best Public High Schools in Seattle Area Lincoln High School ------------------- * Seattle Public Schools, WA * 9-12 * Rating 3.95 out of 5 42 reviews **Junior:**Lincoln High School is a great school that’s got a lot of new facilities. Most of the teachers are amazing and inspiring, with only a few not being great, as every school has.... Read 42 reviews * grade A Overall Niche Grade * Students 1,697 * Student-teacher ratio 22:1 Lincoln High School ------------------- #21 Best Public High Schools in Seattle Area. Seattle Public Schools, WA, 9-12. 42 Niche users give it an average review of 4 stars. Featured Review: Junior says Lincoln High School is a great school that’s got a lot of new facilities. Most of the teachers are amazing and inspiring, with only a few not being great, as every school has. Read 42 reviews. Overall Niche Grade: A, Students: 1,697, Student-Teacher Ratio: 22 to 1,](https://www.niche.com/k12/lincoln-high-school-seattle-wa/)\\n\\n[View nearby homes](https://www.homes.com/seattle-wa/lincoln-high-school/s-mnzpvsyw7ryr9/?utm_source=niche&utm_medium=referral&utm_campaign=niche_reviews)\\n\\nAdd to List\\n\\n30.   \\n[#22 Best Public High Schools in Seattle Area Inglemoor High School --------------------- * Northshore School District, WA * 9-12 * Rating 3.79 out of 5 508 reviews **Senior:**Inglemoor has great academics, with challenging classes, qualified teachers, and lots of opportunities. There are many AP classes, the IB Diploma, and the Running Start program. Inglemoor has a pretty outdoor campus that, even in Washington\\'s cold weather, is an enjoyable aspect. Their pillars are painted by students, giving the campus more personality, there are garden beds that sprout colorful tulips in the spring, and their decorations for events always exceed standards. Most of the teachers are kind and build good relationships with students. They are active in the many clubs and extracurriculars Inglemoor has to offer, which include a newspaper, cultural clubs, clubs based on interests, and more. While no school is perfect, Inglemoor has much strength in its academics and school culture. It\\'s a well-rounded school and a good fit for most.... Read 508 reviews * grade A Overall Niche Grade * Students 1,475 * Student-teacher ratio 20:1 Inglemoor High School --------------------- #22 Best Public High Schools in Seattle Area. Northshore School District, WA, 9-12. 508 Niche users give it an average review of 3.8 stars. Featured Review: Senior says Inglemoor has great academics, with challenging classes, qualified teachers, and lots of opportunities. There are many AP classes, the IB Diploma, and the Running Start program. Read 508 reviews. Overall Niche Grade: A, Students: 1,475, Student-Teacher Ratio: 20 to 1,](https://www.niche.com/k12/inglemoor-high-school-kenmore-wa/)\\n\\n[View nearby homes](https://www.homes.com/kenmore-wa/inglemoor-high-school/s-3l4zxhp33b66m/?utm_source=niche&utm_medium=referral&utm_campaign=niche_reviews)\\n\\nAdd to List\\n\\n31.   [Review your school](https://www.niche.com/k12/survey/) \\n32.   \\n[#23 Best Public High Schools in Seattle Area Vashon Island High School ------------------------- * Vashon Island School District, WA * 9-12 * Rating 3.65 out of 5 142 reviews **Senior:**I have had a good experience overall at VHS, though I have had some issues with being bullied in the past. A couple of my favorite teachers ever are there.... Read 142 reviews * grade A Overall Niche Grade * Students 513 * Student-teacher ratio 21:1 Vashon Island High School ------------------------- #23 Best Public High Schools in Seattle Area. Blue checkmark. Vashon Island School District, WA, 9-12. 142 Niche users give it an average review of 3.7 stars. Featured Review: Senior says I have had a good experience overall at VHS, though I have had some issues with being bullied in the past. A couple of my favorite teachers ever are there. Read 142 reviews. Overall Niche Grade: A, Students: 513, Student-Teacher Ratio: 21 to 1,](https://www.niche.com/k12/vashon-island-high-school-vashon-wa/)\\n\\n[View nearby homes](https://www.homes.com/vashon-wa/vashon-island-high-school/s-2jvnkmhjkm56f/?utm_source=niche&utm_medium=referral&utm_campaign=niche_reviews)\\n\\nAdd to List\\n\\n33.   \\n[#24 Best Public High Schools in Seattle Area Kamiak High School ------------------ * Mukilteo School District, WA * 9-12 * Rating 3.72 out of 5 537 reviews **Senior:**Overall, my experience at Kamiak has been positive. The staff is friendly, there\\'s many extracurricular opportunities & available resources, & lots of rigorous and inclusive class options. It is a diverse school, and while not all are friendly, I have made many friends there. I would say that one thing that should change are some of the staff. Although there are many amazing teachers and staff at Kamiak, there are some teachers that are just insufferable. They should be looked into, and their teaching styles should be reviewed, especially if multiple students have made complaints against them. Kamiak tends to value the amount of time a teacher has worked there over the kids\\' overall experience with them, and so if there are layoffs, the new teachers are usually the first ones to go, even if they are good contributions to Kamiak. However, most of the staff and teachers at Kamiak are amazing and care about the wellbeing and education of the students there, displaying it through teaching.... Read 537 reviews * grade A Overall Niche Grade * Students 2,382 * Student-teacher ratio 25:1 Kamiak High School ------------------ #24 Best Public High Schools in Seattle Area. Blue checkmark. Mukilteo School District, WA, 9-12. 537 Niche users give it an average review of 3.7 stars. Featured Review: Senior says Overall, my experience at Kamiak has been positive. The staff is friendly, there\\'s many extracurricular opportunities & available resources, & lots of rigorous and inclusive class options. It is a... Read 537 reviews. Overall Niche Grade: A, Students: 2,382, Student-Teacher Ratio: 25 to 1,](https://www.niche.com/k12/kamiak-high-school-mukilteo-wa/)\\n\\n[View nearby homes](https://www.homes.com/mukilteo-wa/kamiak-high-school/s-tg3n2nfhm71le/?utm_source=niche&utm_medium=referral&utm_campaign=niche_reviews)\\n\\nAdd to List\\n\\n34.   \\n[#25 Best Public High Schools in Seattle Area Curtis Senior High School ------------------------- * University Place School District, WA * 10-12 * Rating 3.78 out of 5 442 reviews **Sophomore:**Curtis a wonderful school, it teaches you skills for the real world, big or small. The teacher’s are always available to help, and most of all the teachers know what they are teaching, they don’t read from a script, they teach from passion. They are always ready to defend their students and give them a chance to shine in the world... Read 442 reviews * grade A Overall Niche Grade * Students 1,303 * Student-teacher ratio 24:1 Curtis Senior High School ------------------------- #25 Best Public High Schools in Seattle Area. University Place School District, WA, 10-12. 442 Niche users give it an average review of 3.8 stars. Featured Review: Sophomore says Curtis a wonderful school, it teaches you skills for the real world, big or small. The teacher’s are always available to help, and most of all the teachers know what they are teaching, they don’t... Read 442 reviews. Overall Niche Grade: A, Students: 1,303, Student-Teacher Ratio: 24 to 1,](https://www.niche.com/k12/curtis-senior-high-school-university-place-wa/)\\n\\n[View nearby homes](https://www.homes.com/university-place-wa/curtis-senior-high-school/s-cfhtz5hnsltzz/?utm_source=niche&utm_medium=referral&utm_campaign=niche_reviews)\\n\\nAdd to List\\n\\n35.   \\nAdd to List \\n\\n[Sponsored![Image 4](blob:http://localhost/92ac07e9d0853a53a77647d2ba90cfa7)Catholic School Emerald Heights Academy * Private School * BELLEVUE, WA * PK, K-8 * Rating 5 out of 5 13](https://www.niche.com/k12/emerald-heights-academy-bellevue-wa/)\\n\\nAdd to List\\n\\n[Sponsored![Image 5](blob:http://localhost/92ac07e9d0853a53a77647d2ba90cfa7)Christian School Seattle Classical Christian School * Private School * SEATTLE, WA * PK, K-12 * Rating 4.75 out of 5 20](https://www.niche.com/k12/seattle-classical-christian-school-seattle-wa/)\\n\\nAdd to List\\n\\n[Sponsored![Image 6](blob:http://localhost/92ac07e9d0853a53a77647d2ba90cfa7)Christian School West Lutheran High School * Private School * PLYMOUTH, MN * 9-12 * Rating 4.23 out of 5 93](https://www.niche.com/k12/west-lutheran-high-school-plymouth-mn/)\\n\\n[Find schools near you Not sure what schools you are zoned for?Find out by exploring our school boundary maps. Look up public schools and districts by address or ZIP code.](https://www.niche.com/k12/schools-near-you/)\\n\\n*   [1](https://www.niche.com/k12/search/best-public-high-schools/m/seattle-metro-area/?page=1)\\n*   [2](https://www.niche.com/k12/search/best-public-high-schools/m/seattle-metro-area/?page=2)\\n*   [3](https://www.niche.com/k12/search/best-public-high-schools/m/seattle-metro-area/?page=3)\\n*   [4](https://www.niche.com/k12/search/best-public-high-schools/m/seattle-metro-area/?page=4)\\n*   [5](https://www.niche.com/k12/search/best-public-high-schools/m/seattle-metro-area/?page=5)\\n*   … \\n*   [10](https://www.niche.com/k12/search/best-public-high-schools/m/seattle-metro-area/?page=10)\\n*   [](https://www.niche.com/k12/search/best-public-high-schools/m/seattle-metro-area/?page=2)\\n\\nRedo search in this area\\n\\n1 – 25 of 229\\n\\nShowing results 1 through 25 of 229\\n\\nClose map\\n\\nFAQs\\n----\\n\\nHow many public high schools are in the Seattle Area?There are 229 public high schools in the Seattle Area. Check out their Niche profiles to find a school that best suits the needs of you and your child!\\n\\n1.   [Home](https://www.niche.com/)\\n\\n3.   [America](https://www.niche.com/k12/search/best-public-high-schools/)\\n\\n5.   2025 Best Public High Schools in Seattle Area\\n\\n[Niche](https://www.niche.com/)\\n*   [About Us](https://www.niche.com/about/)\\n*   [Niche For Schools](https://www.niche.com/about/k-12-enrollment-solutions/)\\n*   [Niche For Colleges](https://www.niche.com/about/college-enrollment-solutions/)\\n*   [Blog](https://www.niche.com/blog/)\\n*   [College Guidance](https://www.niche.com/blog//topics/college-guidance)\\n*   [Resource Center](https://niche.zendesk.com/hc/en-us)\\n*   [College Search App](https://www.niche.com/about/mobile/)\\n*   [Contact Niche](https://www.niche.com/contact/)\\n*   [Data](https://www.niche.com/about/data/)\\n*   [Careers](https://www.niche.com/about/team/)\\n*   [Partnerships](https://www.niche.com/about/partnerships/)\\n*   [Press](https://www.niche.com/about/press/)\\n*   [Do Not Sell My Personal Information](https://www.niche.com/about/ccpa-request/)\\n*   [Privacy Policy](https://www.niche.com/about/privacy/)\\n*   [User Agreement](https://www.niche.com/about/terms/)\\n*   [Web Accessibility](https://www.niche.com/about/accessibility/)\\n*   [Cookie Policy](https://www.niche.com/about/cookie-policy/)\\n*   [Sitemap](https://www.niche.com/sitemap/)\\n\\n*   [Instagram](https://www.instagram.com/nichesocial/)\\n*   [Facebook](https://www.facebook.com/nichesocial)\\n*   [Twitter](https://twitter.com/nichesocial)\\n*   [Tiktok](https://www.tiktok.com/@nichesocial)\\n*   [YouTube](https://www.youtube.com/c/Nichesocial/featured)\\n\\n©2025 Niche.com Inc.\\n\\nDiscover the schools and neighborhoods that are right for you.\\n\\n*   [K-12](https://www.niche.com/k12/search/best-schools/m/seattle-metro-area/)\\n*   [Colleges](https://www.niche.com/colleges/search/best-colleges/m/seattle-metro-area/)\\n*   [Graduate Schools](https://www.niche.com/graduate-schools/search/best-graduate-schools/m/seattle-metro-area/)\\n*   [Places to Live](https://www.niche.com/places-to-live/search/best-places-to-live/m/seattle-metro-area/)\\n\\nDo you work for a school or college? [Claim Your School](https://www.niche.com/claim-your-school/)\\n\\nSchool Districts\\n*   [Best School Districts in America](https://www.niche.com/k12/search/best-school-districts/)\\n*   [Best School Districts in California](https://www.niche.com/k12/search/best-school-districts/s/california/)\\n*   [Best School Districts in Georgia](https://www.niche.com/k12/search/best-school-districts/s/georgia/)\\n*   [Best School Districts in Ohio](https://www.niche.com/k12/search/best-school-districts/s/ohio/)\\n*   [Best School Districts in Massachusetts](https://www.niche.com/k12/search/best-school-districts/s/massachusetts/)\\n*   [Best School Districts in Michigan](https://www.niche.com/k12/search/best-school-districts/s/michigan/)\\n*   [Best School Districts in Minnesota](https://www.niche.com/k12/search/best-school-districts/s/minnesota/)\\n*   [Best School Districts in New Jersey](https://www.niche.com/k12/search/best-school-districts/s/new-jersey/)\\n*   [Best School Districts in New York](https://www.niche.com/k12/search/best-school-districts/s/new-york/)\\n*   [Best School Districts in North Carolina](https://www.niche.com/k12/search/best-school-districts/s/north-carolina/)\\n*   [Best School Districts in Pennsylvania](https://www.niche.com/k12/search/best-school-districts/s/pennsylvania/)\\n*   [Best School Districts in Texas](https://www.niche.com/k12/search/best-school-districts/s/texas/)\\n*   [Best School Districts in Virginia](https://www.niche.com/k12/search/best-school-districts/s/virginia/)\\n*   [Best School Districts in Washington](https://www.niche.com/k12/search/best-school-districts/s/washington/)\\n*   [Best School Districts in Wisconsin](https://www.niche.com/k12/search/best-school-districts/s/wisconsin/)\\n\\nPublic High Schools\\n*   [Best Public High Schools](https://www.niche.com/k12/search/best-public-high-schools/)\\n*   [Best Charter High Schools](https://www.niche.com/k12/search/best-charter-high-schools/)\\n*   [Best Magnet High Schools](https://www.niche.com/k12/search/best-magnet-high-schools/)\\n*   [Adlai E. Stevenson High School](https://www.niche.com/k12/adlai-e-stevenson-high-school-lincolnshire-il/)\\n*   [Carmel High School](https://www.niche.com/k12/carmel-high-school-carmel-in/)\\n*   [Cypress Bay High School](https://www.niche.com/k12/cypress-bay-high-school-weston-fl/)\\n*   [Granada Hills Charter High School](https://www.niche.com/k12/granada-hills-charter-high-school-granada-hills-ca/)\\n*   [Lane Tech College Prep High School](https://www.niche.com/k12/lane-tech-college-prep-high-school-chicago-il/)\\n*   [Polytechnic High School](https://www.niche.com/k12/polytechnic-high-school-long-beach-ca/)\\n*   [Poolesville High School](https://www.niche.com/k12/poolesville-high-school-poolesville-md/)\\n*   [Saratoga High School](https://www.niche.com/k12/saratoga-high-school-saratoga-ca/)\\n*   [Seven Lakes High School](https://www.niche.com/k12/seven-lakes-high-school-katy-tx/)\\n*   [Skyline High School](https://www.niche.com/k12/skyline-high-school-dallas-tx/)\\n*   [Stuyvesant High School](https://www.niche.com/k12/stuyvesant-high-school-new-york-ny/)\\n*   [Westlake High School](https://www.niche.com/k12/westlake-high-school-austin-tx/)\\n\\nPrivate High Schools\\n*   [Best Private High Schools](https://www.niche.com/k12/search/best-private-high-schools/)\\n*   [Best Catholic High Schools](https://www.niche.com/k12/search/best-catholic-high-schools/)\\n*   [Dalton School](https://www.niche.com/k12/dalton-school-manhattan-ny/)\\n*   [Germantown Friends School](https://www.niche.com/k12/germantown-friends-school-philadelphia-pa/)\\n*   [Horace Mann School](https://www.niche.com/k12/horace-mann-school-the-bronx-ny/)\\n*   [Menlo School](https://www.niche.com/k12/menlo-school-atherton-ca/)\\n*   [Milton Academy](https://www.niche.com/k12/milton-academy-milton-ma/)\\n*   [Phillips Exeter Academy](https://www.niche.com/k12/phillips-exeter-academy-exeter-nh/)\\n*   [Ransom Everglades School](https://www.niche.com/k12/ransom-everglades-school-miami-fl/)\\n*   [Sidwell Friends](https://www.niche.com/k12/sidwell-friends-school-washington-dc/)\\n*   [The Harker School](https://www.niche.com/k12/the-harker-school-san-jose-ca/)\\n*   [The Hotchkiss School](https://www.niche.com/k12/the-hotchkiss-school-lakeville-ct/)\\n*   [The Kinkaid School](https://www.niche.com/k12/the-kinkaid-school-piney-point-village-tx/)\\n*   [The Latin School of Chicago](https://www.niche.com/k12/the-latin-school-of-chicago-chicago-il/)\\n*   [University of Chicago Lab School](https://www.niche.com/k12/university-of-chicago-lab-school-chicago-il/)\\n\\nLearn more about our [College Search App](https://www.niche.com/about/mobile/)\\n\\n[![Image 7: Download on the App Store](https://assets.niche.com/static/app-cta/Download_on_the_App_Store_Badge.svg)](https://apps.apple.com/us/app/niche-college-search/id1356697847?itsct=apps_box_badge&amp;itscg=30200)[![Image 8: Get it on Google Play](https://assets.niche.com/static/app-cta/Get_it_on_Google_play.png)](https://play.google.com/store/apps/details?id=com.nicheinc.nichealpha&pcampaignid=web_share&pcampaignid=pcampaignidMKT-Other-global-all-co-prtnr-py-PartBadge-Mar2515-1)\\n\\nWe use cookies to improve your experience on our site and to show you personalized advertising. To find out more, read our [privacy policy](https://www.niche.com/about/privacy) and [cookie policy](https://www.niche.com/about/cookie-policy).\\n\\nOK\\n\\n![Image 10](https://bat.bing.com/action/0?ti=4027386&Ver=2&mid=9456d4fc-717f-45e0-a37d-ada05f606ab4&bo=1&sid=b231f9805c3011f0b9c4d5903fedaca9&vid=b23240f05c3011f0aadcdfb78a6ba97d&vids=1&msclkid=N&pi=918639831&lg=en-US&sw=800&sh=600&sc=24&tl=2025%20Best%20Public%20High%20Schools%20in%20the%20Seattle%20Area%20-%20Niche&kw=Seattle%20Area%20public%20schools,%20best%20public%20high%20schools,%20public%20high%20school%20rankings,%20best%20public%20schools%20in%20Seattle%20Area,%20top%20public%20high%20schools,%20public%20school%20rankings,%20public%20school%20ranking,%20good%20high%20schools&p=https%3A%2F%2Fwww.niche.com%2Fk12%2Fsearch%2Fbest-public-high-schools%2Fm%2Fseattle-metro-area%2F&r=&lt=859&evt=pageLoad&sv=1&cdb=AQAU&rn=280442)\\n',\n",
       "    'images': []}],\n",
       "  'failed_results': [],\n",
       "  'response_time': 0.04},\n",
       " {'results': [{'url': 'https://www.niche.com/k12/search/best-private-high-schools/m/seattle-metro-area/',\n",
       "    'raw_content': '2025 Best Private High Schools in the Seattle Area - Niche\\n\\n===============\\n\\n[Skip to Main Content](https://www.niche.com/k12/search/best-private-high-schools/m/seattle-metro-area/#maincontent)\\n\\n[](https://www.niche.com/?ref=k12 \"Niche\")\\n\\nK-12 Schools Seattle Area\\n\\nProvides auto-suggestions when entering text\\n\\nFind a school or district ...\\n\\nProvides auto-suggestions when entering text\\n\\nSearch in a district or a location ...\\n\\nLog In Sign Up\\n\\n*   [School Search](https://www.niche.com/k12/search/best-schools/m/seattle-metro-area/)\\n*   [School Rankings](https://www.niche.com/k12/rankings/)\\n*   [Schools Near You](https://www.niche.com/k12/schools-near-you/)\\n\\n[Write a review](https://www.niche.com/survey/hub/)\\n\\n[K-12 SCHOOLS](https://www.niche.com/k12/search/best-schools/m/seattle-metro-area/)\\n\\n*   [Review Your School](https://www.niche.com/k12/survey/)\\n*   [Schools Near You](https://www.niche.com/k12/schools-near-you/)\\n*   [Compare Schools](https://www.niche.com/k12/compare/)\\n*   [K-12 Quiz](https://www.niche.com/about/k12-quiz/)\\n*   [School Search](https://www.niche.com/k12/search/best-schools/m/seattle-metro-area/)\\n*   [District Search](https://www.niche.com/k12/search/best-school-districts/m/seattle-metro-area/)\\n*   [School Rankings](https://www.niche.com/k12/rankings/)\\n*   [Parent Resources](https://www.niche.com/blog/topics/parent-resources/?ref=megamenu)\\n\\n[COLLEGES](https://www.niche.com/colleges/search/best-colleges/m/seattle-metro-area/)\\n\\n*   [Direct Admissions](https://www.niche.com/about/direct-admissions/)\\n*   [Review Your College](https://www.niche.com/colleges/survey/)\\n*   [College Quiz](https://www.niche.com/colleges/college-quiz/)\\n*   [Admissions Calculator](https://www.niche.com/colleges/admissions-calculator/)\\n*   [Compare Colleges](https://www.niche.com/colleges/compare/)\\n*   [Scholarships & Financial Aid](https://www.niche.com/colleges/scholarships/)\\n*   [$2,000 No Essay Scholarship](https://www.niche.com/colleges/scholarships/no-essay-scholarship/)\\n*   [College Search](https://www.niche.com/colleges/search/best-colleges/m/seattle-metro-area/)\\n*   [College Rankings](https://www.niche.com/colleges/rankings/)\\n*   [Student Loans](https://niche.sparrowfi.com/landing)\\n*   [Guide to College Majors](https://www.niche.com/colleges/topic/hub/majors/)\\n\\n[GRADUATE SCHOOLS](https://www.niche.com/graduate-schools/search/best-graduate-schools/m/seattle-metro-area/)\\n\\n*   [Review Your Grad School](https://www.niche.com/graduate-schools/survey/)\\n*   [$1,000 Graduate Survey Scholarship](https://www.niche.com/graduate-schools/survey/graduate-school-survey-scholarship/)\\n*   [Grad School Search](https://www.niche.com/graduate-schools/search/best-graduate-schools/m/seattle-metro-area/)\\n*   [Graduate Programs](https://www.niche.com/graduate-schools/programs/)\\n*   [Best MBA Programs](https://www.niche.com/graduate-schools/search/best-masters-in-business-programs/)\\n\\n[PLACES TO LIVE](https://www.niche.com/places-to-live/search/best-places-to-live/m/seattle-metro-area/)\\n\\n*   [Review Your Area](https://www.niche.com/places-to-live/survey/)\\n*   [Find Places to Live](https://www.niche.com/places-to-live/search/best-places-to-live/m/seattle-metro-area/)\\n*   [Rankings](https://www.niche.com/places-to-live/rankings/)\\n*   [Home Buying Tips](https://www.niche.com/blog/topics/home-buying-tips/?ref=megamenu)\\n\\n2025 Best Private High Schools in the Seattle Area\\n==================================================\\n\\nThe 2025 Best Private High Schools ranking is based on rigorous analysis of key statistics and millions of reviews from students and parents. Ranking factors include the quality of colleges that students consider, student-teacher ratio, private school ratings, and more. SAT/ACT scores have been removed from this year\\'s rankings to reflect a general de-emphasis on test scores in the college admissions process. Data sourced from the U.S. Department of Education, Niche users, and the schools directly.[Read more on how this ranking was calculated.](https://www.niche.com/about/methodology/best-private-high-schools/)\\n\\n[Where Niche Grades come from](https://www.niche.com/about/where-niche-grades-come-from/) and [how Niche calculates rankings](https://www.niche.com/k12/rankings/methodology/).\\n\\n2025 Best Private High Schools in the Seattle Area\\n==================================================\\n\\nThe 2025 Best Private High Schools ranking is based on rigorous analysis of key statistics and millions of reviews from students and parents. Ranking factors include the quality of colleges that students consider, student-teacher ratio, private school ratings, and more. SAT/ACT scores have been removed from this year\\'s rankings to reflect a general de-emphasis on test scores in the college admissions process. Data sourced from the U.S. Department of Education, Niche users, and the schools directly.[Read more on how this ranking was calculated.](https://www.niche.com/about/methodology/best-private-high-schools/)\\n\\n[Where Niche Grades come from](https://www.niche.com/about/where-niche-grades-come-from/) and [how Niche calculates rankings](https://www.niche.com/k12/rankings/methodology/).\\n\\nBest schools\\n*   [Most diverse](https://www.niche.com/k12/search/most-diverse-schools/)\\n*   [Best teachers](https://www.niche.com/k12/search/best-teachers/)\\n*   [College prep](https://www.niche.com/k12/search/college-prep/)\\n*   [Largest](https://www.niche.com/k12/search/largest-schools/)\\n*   [Niche standout schools](https://www.niche.com/k12/search/niche-standout-schools/)\\n\\nMore\\n\\n*   [Best schools](https://www.niche.com/k12/search/best-schools/)\\n*   [Most diverse](https://www.niche.com/k12/search/most-diverse-schools/)\\n*   [Best teachers](https://www.niche.com/k12/search/best-teachers/)\\n\\n*   [College prep](https://www.niche.com/k12/search/college-prep/)\\n*   [Largest](https://www.niche.com/k12/search/largest-schools/)\\n*   [Best for STEM](https://www.niche.com/k12/search/best-schools-for-stem/)\\n\\n*   [Niche standout schools](https://www.niche.com/k12/search/niche-standout-schools/)\\n*   [Best for the arts](https://www.niche.com/k12/search/best-schools-for-the-arts/)\\n\\n*   [Best for athletes](https://www.niche.com/k12/search/best-schools-for-sports/)\\n*   [Best districts](https://www.niche.com/k12/search/best-school-districts/)\\n\\nView on Map\\n\\nSearch type\\n\\nSchools Districts \\n\\nGrade level\\n\\nClear filter\\n\\n- [x] Pre-K \\n\\n- [x] Elementary \\n\\n- [x] Middle \\n\\n- [x] High school \\n\\nHighest grade offered\\n\\nSelect a grade...\\n\\nSchool type\\n\\n- [x] Public \\n\\n- [x] Traditional \\n\\n- [x] Charter \\n\\n- [x] Magnet \\n\\n- [x] Private \\n\\nReligion\\n\\n- [x] Catholic \\n\\n- [x] Christian \\n\\n- [x] Jewish \\n\\n- [x] Islamic \\n\\nBoarding status\\n\\n- [x] Offers boarding \\n\\nCoed status\\n\\n- [x] \\n\\nCoed\\n\\n \\n\\n- [x] \\n\\nAll-girls\\n\\n \\n\\n- [x] \\n\\nAll-boys\\n\\n \\n\\nSpecialty\\n\\n- [x] Online \\n\\n- [x] Special education \\n\\n- [x] Montessori \\n\\n- [x] Therapeutic \\n\\nTuition\\n\\nSelect a value$0\\n\\nAcademics\\n\\n- [x] AP program \\n\\n- [x] IB program \\n\\n- [x] Gifted/talented program \\n\\nStudent-teacher ratio\\n\\nSelect a value 0:1\\n\\nNiche Grades\\n\\nAcademics\\n\\n- [x] \\n\\nA\\n\\n - [x] \\n\\nB\\n\\n - [x] \\n\\nC\\n\\n - [x] \\n\\nD\\n\\n \\n\\nTeachers\\n\\n- [x] \\n\\nA\\n\\n - [x] \\n\\nB\\n\\n - [x] \\n\\nC\\n\\n - [x] \\n\\nD\\n\\n \\n\\nDiversity\\n\\n- [x] \\n\\nA\\n\\n - [x] \\n\\nB\\n\\n - [x] \\n\\nC\\n\\n - [x] \\n\\nD\\n\\n \\n\\nSports\\n\\n- [x] \\n\\nA\\n\\n - [x] \\n\\nB\\n\\n - [x] \\n\\nC\\n\\n - [x] \\n\\nD\\n\\n \\n\\nOrganization\\n\\nSelect one...\\n\\nCancel Apply\\n\\nView on Map\\n\\nFilter\\n\\n2\\n\\nSeattle Area\\n\\nIncludes High school\\n\\nPrivate\\n\\n1-25 of 95 results\\n\\n1.   \\n[#1 Best Private High Schools in Seattle Area The Overlake School ------------------- * Redmond, WA * Private School * 5-12 * Rating 4.42 out of 5 103 reviews **Senior:**As an Overlake student since 6th grade (class of \\'25), I have loved my experience here overall and would recommend it to anyone looking for a college prep school in the Western Washington area. The school is strong academically and its sports teams are fine considering being a small private school. Students are generally motivated and subsequently perform well on APs and SAT/ACT tests. The facilities are constantly being improved, and the school campus is lovely. The school does struggle to keep its students from focusing solely on grades, although that is equally the fault of the college admissions system as it is the fault of the school. This school and its atmosphere would not suit a student who doesn\\'t care about their academics or one who doesn\\'t thrive in competitive environments. Also, the food is generally bad. Though that doesn\\'t take away from the school as a whole.... Read 103 reviews * grade A+ Overall Niche Grade * Students 554 * Student-teacher ratio 7:1 The Overlake School ------------------- #1 Best Private High Schools in Seattle Area. Blue checkmark. Private School, REDMOND, WA, 5-12. 103 Niche users give it an average review of 4.4 stars. Featured Review: Senior says As an Overlake student since 6th grade (class of \\'25), I have loved my experience here overall and would recommend it to anyone looking for a college prep school in the Western Washington area. The... Read 103 reviews. Overall Niche Grade: A+, Students: 554, Student-Teacher Ratio: 7 to 1,](https://www.niche.com/k12/the-overlake-school-redmond-wa/)\\n\\n[View nearby homes](https://www.homes.com/redmond-wa/the-overlake-school/s-xxkmkdk1nfmdy/?utm_source=niche&utm_medium=referral&utm_campaign=niche_reviews)\\n\\nAdd to List\\n\\n2.   \\n[#2 Best Private High Schools in Seattle Area Eastside Preparatory School --------------------------- * Kirkland, WA * Private School * 5-12 * Rating 4.65 out of 5 31 reviews **Freshman:**Amazing! Great Teachers! I love the activities and classes, great environment. I feel supported in every aspect.... Read 31 reviews * grade A+ Overall Niche Grade * Students 516 * Student-teacher ratio 10:1 Eastside Preparatory School --------------------------- #2 Best Private High Schools in Seattle Area. Blue checkmark. Private School, KIRKLAND, WA, 5-12. 31 Niche users give it an average review of 4.6 stars. Featured Review: Freshman says Amazing! Great Teachers! I love the activities and classes, great environment. I feel supported in every aspect. Read 31 reviews. Overall Niche Grade: A+, Students: 516, Student-Teacher Ratio: 10 to 1,](https://www.niche.com/k12/eastside-preparatory-school-kirkland-wa/)\\n\\n[View nearby homes](https://www.homes.com/kirkland-wa/eastside-preparatory-school/s-vv357fggkhrds/?utm_source=niche&utm_medium=referral&utm_campaign=niche_reviews)\\n\\nAdd to List\\n\\n3.   \\n[#3 Best Private High Schools in Seattle Area Lakeside School --------------- * Seattle, WA * Private School * 5-12 * Rating 4.45 out of 5 125 reviews **Parent:**My son attended Lakeside from grades 9-12 with a few other new students (most began in 5th grade). It is a warm and welcoming campus making for an easy transition. As a college prep curriculum, instructors designed thoughtful and carefully prepared instruction, assignments, and assessments which were intended not only to convey information, but also to stimulate curiosity, discussion, and understanding. My son found most all the instructors to be supportive and responsive. Ironically, despite being surrounded by many of the wealthiest families in Seattle: the community’s acceptance did much for his self confidence, which in the past, local school bullies had challenged. I did hear from a friend with a daughter that attended, girls have a different experience than boys. She felt the girls were highly competitive and her daughter experienced debilitating stress. I’m not sure if this is a universal response, or a combination of factors. But my son really thrived at Lakeside.... Read 125 reviews * grade A+ Overall Niche Grade * Students 876 * Student-teacher ratio 10:1 Lakeside School --------------- #3 Best Private High Schools in Seattle Area. Blue checkmark. Private School, SEATTLE, WA, 5-12. 125 Niche users give it an average review of 4.4 stars. Featured Review: Parent says My son attended Lakeside from grades 9-12 with a few other new students (most began in 5th grade). It is a warm and welcoming campus making for an easy transition. As a college prep curriculum,... Read 125 reviews. Overall Niche Grade: A+, Students: 876, Student-Teacher Ratio: 10 to 1,](https://www.niche.com/k12/lakeside-school-seattle-wa/)\\n\\n[View nearby homes](https://www.homes.com/seattle-wa/lakeside-school-upper-school/s-22zjy8p7t37ed/?utm_source=niche&utm_medium=referral&utm_campaign=niche_reviews)\\n\\nAdd to List\\n\\n4.   \\nAdd to List \\n\\n[Sponsored![Image 1](blob:http://localhost/92ac07e9d0853a53a77647d2ba90cfa7)Private School Xceed Preparatory Academy - Palm Beach Gardens * Private School * PALM BEACH GARDENS, FL * 6-12](https://www.niche.com/k12/xceed-preparatory-academy-palm-beach-gardens-palm-beach-gardens-fl/)\\n\\nAdd to List\\n\\n[Sponsored![Image 2](blob:http://localhost/92ac07e9d0853a53a77647d2ba90cfa7)Private School St. Thomas School * Private School * MEDINA, WA * PK, K-8 * Rating 4.83 out of 5 6](https://www.niche.com/k12/st-thomas-school-medina-wa/)\\n\\nAdd to List\\n\\n[Sponsored![Image 3](blob:http://localhost/92ac07e9d0853a53a77647d2ba90cfa7)Jewish School Jewish Day School of Seattle * Private School * BELLEVUE, WA * PK, K-8 * Rating 4.93 out of 5 15](https://www.niche.com/k12/jewish-day-school-of-seattle-bellevue-wa/)\\n\\n5.   \\n[#4 Best Private High Schools in Seattle Area Annie Wright Schools -------------------- * Tacoma, WA * Private School * PK, K-12 * Rating 4.38 out of 5 134 reviews **Parent:**I wanted a school that was like a second home/family for my student since he spends a considerable amount of time there and that is what I got. The school community is fantastic. There are also unparalleled travel opportunities at this school.... Read 134 reviews * grade A+ Overall Niche Grade * Students 899 * Student-teacher ratio 7:1 Annie Wright Schools -------------------- #4 Best Private High Schools in Seattle Area. Blue checkmark. Private School, TACOMA, WA, PK, K-12. 134 Niche users give it an average review of 4.4 stars. Featured Review: Parent says I wanted a school that was like a second home/family for my student since he spends a considerable amount of time there and that is what I got. The school community is fantastic. There are also... Read 134 reviews. Overall Niche Grade: A+, Students: 899, Student-Teacher Ratio: 7 to 1,](https://www.niche.com/k12/annie-wright-schools-tacoma-wa/)\\n\\n[View nearby homes](https://www.homes.com/tacoma-wa/annie-wright-schools-school/s-fxrm1mkj9pte4/?utm_source=niche&utm_medium=referral&utm_campaign=niche_reviews)[Virtual tour](https://vimeo.com/403777492)\\n\\nAdd to List\\n\\n6.   \\n[#5 Best Private High Schools in Seattle Area UPrep ----- * Seattle, WA * Private School * 6-12 * Rating 4.25 out of 5 83 reviews **Senior:**I feel that my experience at UPrep has set me up to be a successful person in college and throughout the rest of my life in the world. Although there is a lot of work from most of my teachers, it all pays off in the end because of the great education that UPrep has provided me throughout my years here. I also really appreciate UPrep for providing a welcoming and friendly school environment that has helped me grow not only as a student but also as a person. I have learned so much from being a student here.... Read 83 reviews * grade A+ Overall Niche Grade * Students 703 * Student-teacher ratio 8:1 UPrep ----- #5 Best Private High Schools in Seattle Area. Blue checkmark. Private School, SEATTLE, WA, 6-12. 83 Niche users give it an average review of 4.3 stars. Featured Review: Senior says I feel that my experience at UPrep has set me up to be a successful person in college and throughout the rest of my life in the world. Although there is a lot of work from most of my teachers, it all... Read 83 reviews. Overall Niche Grade: A+, Students: 703, Student-Teacher Ratio: 8 to 1,](https://www.niche.com/k12/uprep-seattle-wa/)\\n\\n[View nearby homes](https://www.homes.com/seattle-wa/university-prep-school/s-2ywe1z1tqmm2c/?utm_source=niche&utm_medium=referral&utm_campaign=niche_reviews)[Virtual tour](https://www.universityprep.org/uploaded/tour/english/index.html)\\n\\nAdd to List\\n\\n7.   \\n[#6 Best Private High Schools in Seattle Area The Bear Creek School --------------------- * Redmond, WA * Private School * PK, K-12 * Rating 4.17 out of 5 96 reviews **Senior:**I have been attending The Bear Creek School since Pre-School and have had a very unique experience as the child of faculty parents. I have always loved the school, teachers, and the academics. Bear Creek is a very academically rigorous school, but it lends itself to having teachers that build trust with the students so that students feel comfortable to ask for assistance when stuck. They are always prepared for what might come, one big example is when Covid hit, within two weeks of having to stay home, we were already in online learning. It was a struggle, but just like in-person, teachers were gracious as we were all learning to navigate together. Bear Creek has been my second home for the majority of my life, building a face and comforting community that I know that I will always be able to lean on for support even as I ready myself for the future.... Read 96 reviews * grade A+ Overall Niche Grade * Students 916 * Student-teacher ratio 13:1 The Bear Creek School --------------------- #6 Best Private High Schools in Seattle Area. Blue checkmark. Private School, REDMOND, WA, PK, K-12. 96 Niche users give it an average review of 4.2 stars. Featured Review: Senior says I have been attending The Bear Creek School since Pre-School and have had a very unique experience as the child of faculty parents. I have always loved the school, teachers, and the academics. Bear... Read 96 reviews. Overall Niche Grade: A+, Students: 916, Student-Teacher Ratio: 13 to 1,](https://www.niche.com/k12/the-bear-creek-school-redmond-wa/)\\n\\n[View nearby homes](https://www.homes.com/?utm_source=niche&utm_medium=referral&utm_campaign=niche_reviews)[Virtual tour](https://www.tbcs.org/about-us/campus-map)\\n\\nAdd to List\\n\\n8.    \\n9.    \\n10.   \\n[#7 Best Private High Schools in Seattle Area Seattle Academy --------------- * Seattle, WA * Private School * 6-12 * Rating 4.07 out of 5 129 reviews **Alum:**The best part of my experience was the strong sense of community and the passionate teachers who truly care about students’ growth, both academically and personally. However, the workload could feel overwhelming at times, especially during project-heavy periods. I would like to see more focus on mental health support and flexibility in deadlines to reduce stress.... Read 129 reviews * grade A+ Overall Niche Grade * Students 1,255 * Student-teacher ratio 5:1 Seattle Academy --------------- #7 Best Private High Schools in Seattle Area. Blue checkmark. Private School, SEATTLE, WA, 6-12. 129 Niche users give it an average review of 4.1 stars. Featured Review: Alum says The best part of my experience was the strong sense of community and the passionate teachers who truly care about students’ growth, both academically and personally. However, the workload could feel... Read 129 reviews. Overall Niche Grade: A+, Students: 1,255, Student-Teacher Ratio: 5 to 1,](https://www.niche.com/k12/seattle-academy-seattle-wa/)\\n\\n[View nearby homes](https://www.homes.com/seattle-wa/seattle-academy-school/s-8qb12teel2td3/?utm_source=niche&utm_medium=referral&utm_campaign=niche_reviews)[Virtual tour](https://www.seattleacademy.org/about-us/campus/tour/campus-map)\\n\\nAdd to List\\n\\n11.   \\n[#8 Best Private High Schools in Seattle Area Charles Wright Academy ---------------------- * Tacoma, WA * Private School * PK, K-12 * Rating 4.27 out of 5 109 reviews **Senior:**I love this school! I\\'ve been here for 8 years, and have been through the highs and lows. The change that came around this year was so relieving, and I\\'m so glad it happened. So many things have become better for the school, and I\\'m excited to see where that continues after I graduate! The best part about Charles Wright is the Winterim/May Term program where you spend a week or more in a learning opportunity either at school, local, in another state, or even international trips. I went to Japan my junior year, and Italy just a few weeks ago through this program. The worst parts were the Covid years, although our school dealt with it pretty well it was still tough. Especially with the first three years of high school being not the best environment with administration, but that has changed my senior year and is getting a lot better. One thing I would like to see change, is the continuous growth away from those stressful years the students, faculty, and other administrators had.... Read 109 reviews * grade A+ Overall Niche Grade * Students 575 * Student-teacher ratio 8:1 Charles Wright Academy ---------------------- #8 Best Private High Schools in Seattle Area. Blue checkmark. Private School, TACOMA, WA, PK, K-12. 109 Niche users give it an average review of 4.3 stars. Featured Review: Senior says I love this school! I\\'ve been here for 8 years, and have been through the highs and lows. The change that came around this year was so relieving, and I\\'m so glad it happened. So many things have... Read 109 reviews. Overall Niche Grade: A+, Students: 575, Student-Teacher Ratio: 8 to 1,](https://www.niche.com/k12/charles-wright-academy-tacoma-wa/)\\n\\n[View nearby homes](https://www.homes.com/tacoma-wa/charles-wright-academy-school/s-b385gpl5hvs3d/?utm_source=niche&utm_medium=referral&utm_campaign=niche_reviews)[Virtual tour](https://charleswright.org/admissions/visiting-admission-events/)\\n\\nAdd to List\\n\\n12.   \\n[#9 Best Private High Schools in Seattle Area The Bush School --------------- * Seattle, WA * Private School * K-12 * Rating 3.97 out of 5 111 reviews **Parent:**My son started attending Bush this year as a 9th grader, and he is having a great experience. He was able to make a nice group of friends, and I am very impressed with the outstanding quality of the teachers and all areas of curriculum, from STEM to humanities to arts. I feel my son is really learning how to think analytically and creatively. The class sizes are small, allowing for the students to really be engaged. The academic standards are very high, but the homework load is manageable, and the teachers make themselves available to provide extra support if needed. The campus is beautiful, safe, and very well-maintained. Plus, there are so many opportunities to get involved as a parent (but no pressure to do so), as well as several community-building events throughout the year. They also have a well-run ski bus program. In short, Bush is excellent school with a positive social culture and a top notch college prep program!... Read 111 reviews * grade A+ Overall Niche Grade * Students 735 * Student-teacher ratio 9:1 The Bush School --------------- #9 Best Private High Schools in Seattle Area. Blue checkmark. Private School, SEATTLE, WA, K-12. 111 Niche users give it an average review of 4 stars. Featured Review: Parent says My son started attending Bush this year as a 9th grader, and he is having a great experience. He was able to make a nice group of friends, and I am very impressed with the outstanding quality of the... Read 111 reviews. Overall Niche Grade: A+, Students: 735, Student-Teacher Ratio: 9 to 1,](https://www.niche.com/k12/the-bush-school-seattle-wa/)\\n\\n[View nearby homes](https://www.homes.com/seattle-wa/the-bush-school/s-wc6jcpj26vvbf/?utm_source=niche&utm_medium=referral&utm_campaign=niche_reviews)[Virtual tour](https://uploads.myschoolcdn.com/409/uploads/2022/bushschool2022/index.html)\\n\\nAdd to List\\n\\n13.   \\n    *   [2025 Best Boarding High Schools](https://www.niche.com/k12/search/best-boarding-high-schools/m/seattle-metro-area/)\\n    *   [2025 Best Private K-12 Schools](https://www.niche.com/k12/search/best-private-k12-schools/m/seattle-metro-area/)\\n    *   [2025 Best All-Boys High Schools](https://www.niche.com/k12/search/best-all-boys-high-schools/m/seattle-metro-area/)\\n\\n14.   \\n[#10 Best Private High Schools in Seattle Area The Northwest School -------------------- * Seattle, WA * Private School * 6-12 * Rating 4.31 out of 5 90 reviews **Parent:**My daughter attended NWS from 7th through 12th grade. She absolutely loved the school and misses it now that she\\'s in college. She grew intellectually, socially, and emotionally in awesome ways. She was very close to faculty members. She blossomed as a leader. She made great friends. She became an outstanding dancer. It was expensive to send her to private school, but I couldn\\'t be happier I made the sacrifice!... Read 90 reviews * grade A+ Overall Niche Grade * Students 452 * Student-teacher ratio 7:1 The Northwest School -------------------- #10 Best Private High Schools in Seattle Area. Blue checkmark. Private School, SEATTLE, WA, 6-12. 90 Niche users give it an average review of 4.3 stars. Featured Review: Parent says My daughter attended NWS from 7th through 12th grade. She absolutely loved the school and misses it now that she\\'s in college. She grew intellectually, socially, and emotionally in awesome ways. She... Read 90 reviews. Overall Niche Grade: A+, Students: 452, Student-Teacher Ratio: 7 to 1,](https://www.niche.com/k12/the-northwest-school-seattle-wa/)\\n\\n[View nearby homes](https://www.homes.com/seattle-wa/the-northwest-school/s-dh3y6lb4kn7d3/?utm_source=niche&utm_medium=referral&utm_campaign=niche_reviews)[Virtual tour](https://nwschooltour.org/tour/)\\n\\nAdd to List\\n\\n15.   \\n[#11 Best Private High Schools in Seattle Area Seattle Preparatory School -------------------------- * Seattle, WA * Private School * 9-12 * Rating 3.99 out of 5 116 reviews **Parent:**I had two daughters attend Seattle Prep (15 years apart). My personal experiences were quite different. The Instructors were very good. It’s impressive to meet an AP Math teacher who, after 6 weeks, can essentially guarantee your student’s test (SAT) grade. Indeed, it seemed that every instructor I met that my daughters’ had was fluent in their subjects. Unfortunately, because both girls had were fairly rote learners, I didn’t pay much attention to their teaching styles. They both enjoyed their courses, were engaged in the classroom, and involved with extracurricular. Seattle Prep is a Jesuit Catholic School, and I appreciated its strength in maintaining its core values regardless of popular opinion (& mine) . So, with my older daughter, on the anniversary of Roe vs Wade, while one “catholic” school rolled over and actually celebrated the day. Seattle Prep, however, decided to let the day pass unacknowledged. Oddly, a newsworthy event, I thought “good for them” Be true to you.... Read 116 reviews * grade A+ Overall Niche Grade * Students 720 * Student-teacher ratio 13:1 Seattle Preparatory School -------------------------- #11 Best Private High Schools in Seattle Area. Private School, SEATTLE, WA, 9-12. 116 Niche users give it an average review of 4 stars. Featured Review: Parent says I had two daughters attend Seattle Prep (15 years apart). My personal experiences were quite different. The Instructors were very good. It’s impressive to meet an AP Math teacher who, after 6 weeks,... Read 116 reviews. Overall Niche Grade: A+, Students: 720, Student-Teacher Ratio: 13 to 1,](https://www.niche.com/k12/seattle-preparatory-school-seattle-wa/)\\n\\n[View nearby homes](https://www.homes.com/seattle-wa/seattle-preparatory-school/s-90wd61hf4fymp/?utm_source=niche&utm_medium=referral&utm_campaign=niche_reviews)\\n\\nAdd to List\\n\\n16.   \\n[#12 Best Private High Schools in Seattle Area Eastside Catholic School ------------------------ * Sammamish, WA * Private School * 6-12 * Rating 3.91 out of 5 152 reviews **Middle school student:**My overall experience at Eastside Catholic has been really positive. I’ve had the chance to learn from some great teachers who are always willing to help and push me to do my best. The school has a strong sense of community, and I’ve made lasting friendships with people who are supportive and kind. There’s a good mix of classes and extracurricular activities, so I’ve been able to explore different interests and develop new skills. While the work can be challenging at times, it’s helped me grow and feel more confident in my abilities. Overall, Eastside Catholic has provided a great environment for me to learn, have fun, and prepare for the future.... Read 152 reviews * grade A+ Overall Niche Grade * Students 825 * Student-teacher ratio 9:1 Eastside Catholic School ------------------------ #12 Best Private High Schools in Seattle Area. Blue checkmark. Private School, SAMMAMISH, WA, 6-12. 152 Niche users give it an average review of 3.9 stars. Featured Review: Middle school student says My overall experience at Eastside Catholic has been really positive. I’ve had the chance to learn from some great teachers who are always willing to help and push me to do my best. The school has a... Read 152 reviews. Overall Niche Grade: A+, Students: 825, Student-Teacher Ratio: 9 to 1,](https://www.niche.com/k12/eastside-catholic-school-sammamish-wa/)\\n\\n[View nearby homes](https://www.homes.com/sammamish-wa/98074/?utm_source=niche&utm_medium=referral&utm_campaign=niche_reviews)[Virtual tour](https://www.eastsidecatholic.org/uploaded/tour/index.html)\\n\\nAdd to List\\n\\n17.    \\n18.    \\n19.   \\n[#13 Best Private High Schools in Seattle Area Forest Ridge School of the Sacred Heart --------------------------------------- * Bellevue, WA * Private School * 5-12 * Rating 3.77 out of 5 92 reviews **Works Here:**I had the privilege of working as a Science teacher at Forest Ridge school of the Sacred Heart, and it was an incredibly rewarding experience. The school fosters a positive, inclusive, and well-structured environment that supports both academic excellence and personal growth—for students and staff alike. What stood out to me the most was the school’s commitment to holistic education. The leadership team is forward-thinking, supportive, and truly invested in the development of both students and teachers. I always felt encouraged to innovate in my teaching approach and to bring real-world applications into the classroom. I’m truly grateful for the time I spent at Forest Ridge school of the Sacred Heart. It helped me grow not only as a teacher but also as a learner. I would highly recommend this school to educators looking for a nurturing and progressive teaching environment.... Read 92 reviews * grade A+ Overall Niche Grade * Students 300 * Student-teacher ratio 5:1 Forest Ridge School of the Sacred Heart --------------------------------------- #13 Best Private High Schools in Seattle Area. Blue checkmark. Private School, BELLEVUE, WA, 5-12. 92 Niche users give it an average review of 3.8 stars. Featured Review: Works Here says I had the privilege of working as a Science teacher at Forest Ridge school of the Sacred Heart, and it was an incredibly rewarding experience. The school fosters a positive, inclusive, and... Read 92 reviews. Overall Niche Grade: A+, Students: 300, Student-Teacher Ratio: 5 to 1,](https://www.niche.com/k12/forest-ridge-school-of-the-sacred-heart-bellevue-wa/)\\n\\n[View nearby homes](https://www.homes.com/bellevue-wa/forest-ridge-school-of-the-sacred-heart-school/s-ldxzbme8tm3rn/?utm_source=niche&utm_medium=referral&utm_campaign=niche_reviews)\\n\\nAdd to List\\n\\n20.   \\n[#14 Best Private High Schools in Seattle Area Washington Preparatory School ----------------------------- * Bothell, WA * Private School * 6-12 * Rating 4.72 out of 5 64 reviews **Freshman:**As a student at Waprep, I’ve been really impressed by how balanced the school is. It’s known for its strong STEM program—which is totally true, especially the math and science classes—but I’ve also been surprised by how good the literature and art courses are. The teachers really know how to make each subject interesting, and they’re super approachable. The small class sizes mean you actually get to know your teachers and they know you too, which makes a huge difference. I feel like I’m growing in every area here, not just academics but also confidence.... Read 64 reviews * grade A+ Overall Niche Grade * Students 70 * Student-teacher ratio 5:1 Washington Preparatory School ----------------------------- #14 Best Private High Schools in Seattle Area. Blue checkmark. Private School, BOTHELL, WA, 6-12. 64 Niche users give it an average review of 4.7 stars. Featured Review: Freshman says As a student at Waprep, I’ve been really impressed by how balanced the school is. It’s known for its strong STEM program—which is totally true, especially the math and science classes—but I’ve also... Read 64 reviews. Overall Niche Grade: A+, Students: 70, Student-Teacher Ratio: 5 to 1,](https://www.niche.com/k12/washington-preparatory-school-bothell-wa/)\\n\\n[View nearby homes](https://www.homes.com/bothell-wa/washington-preparatory-school/s-dwdhzt955yr14/?utm_source=niche&utm_medium=referral&utm_campaign=niche_reviews)\\n\\nAdd to List\\n\\n21.   \\n[#15 Best Private High Schools in Seattle Area Northwest Yeshiva High School ----------------------------- * Mercer Island, WA * Private School * 9-12 * Rating 4.14 out of 5 22 reviews **Senior:**I really enjoy NYHS. It has taught me well, as well as helped me make life-long friends. I love the small school size since it shows how close everyone is together, from freshmen and sophmores hanging out to sophmores with seniors. It is a very family like community with wonderful academics and rigorous classes. What I would change about it if I had to would be the diversity. I do wish there were more students who weren\\'t white or there were more cultures at school.... Read 22 reviews * grade A+ Overall Niche Grade * Students 65 * Student-teacher ratio 3:1 Northwest Yeshiva High School ----------------------------- #15 Best Private High Schools in Seattle Area. Blue checkmark. Private School, MERCER ISLAND, WA, 9-12. 22 Niche users give it an average review of 4.1 stars. Featured Review: Senior says I really enjoy NYHS. It has taught me well, as well as helped me make life-long friends. I love the small school size since it shows how close everyone is together, from freshmen and sophmores... Read 22 reviews. Overall Niche Grade: A+, Students: 65, Student-Teacher Ratio: 3 to 1,](https://www.niche.com/k12/northwest-yeshiva-high-school-mercer-island-wa/)\\n\\n[View nearby homes](https://www.homes.com/mercer-island-wa/northwest-yeshiva-high-school/s-bvx7yvb6f6b2d/?utm_source=niche&utm_medium=referral&utm_campaign=niche_reviews)\\n\\nAdd to List\\n\\n22.   \\n[#16 Best Private High Schools in Seattle Area Bishop Blanchet High School --------------------------- * Seattle, WA * Private School * 9-12 * Rating 3.9 out of 5 234 reviews **Junior:**Blanchet is a school with an invaluable community, where everyone has and will find thier place. Considering this, there are many different groups and opportunities for people to meet, work, and connect with others who have different interests or values, and broaden your horizons. Despite the vast opportunities and different things to persue, blanchet is a community that lacks diversity, as it is predominantly by affluent white students. While this is a drawback, it does not mean that those who do not fit the standard bill are exluded in the slightest; it just simply may be something that people are or are not looking for in thier highschool experience. Even though it is not a pressing issue for the community as it does not seem to harm anyone, it is definetly something that could change towards having a more diverse student body.... Read 234 reviews * grade A+ Overall Niche Grade * Students 854 * Student-teacher ratio 13:1 Bishop Blanchet High School --------------------------- #16 Best Private High Schools in Seattle Area. Blue checkmark. Private School, SEATTLE, WA, 9-12. 234 Niche users give it an average review of 3.9 stars. Featured Review: Junior says Blanchet is a school with an invaluable community, where everyone has and will find thier place. Considering this, there are many different groups and opportunities for people to meet, work, and... Read 234 reviews. Overall Niche Grade: A+, Students: 854, Student-Teacher Ratio: 13 to 1,](https://www.niche.com/k12/bishop-blanchet-high-school-seattle-wa/)\\n\\n[View nearby homes](https://www.homes.com/seattle-wa/bishop-blanchet-high-school/s-x1gq2flspnb3y/?utm_source=niche&utm_medium=referral&utm_campaign=niche_reviews)\\n\\nAdd to List\\n\\n23.   \\n[#17 Best Private High Schools in Seattle Area Hyla School ----------- * Bainbridge Island, WA * Private School * 6-12 * Rating 5 out of 5 11 reviews **Parent:**Our two children went through the middle school program and one was in the inaugural graduating class in the upper school. We also currently have a student at the upper school. Hyla has been an amazing experience for both of my kids. With the culture of a supportive environment of teachers and social emotional learning, my kids were able to spend their middle school years encouraged to truly be the person they are while being challenged academically. Both graduated 8th grade having blossomed into confident and assured versions of themselves. In the upper school, my kids continued (and continue) to be challenged and stretched through deep experiential learning opportunities that included (but were not limited to) civics lessons in Washington DC, and civil rights education in Selma, Alabama. These experiences were instrumental to preparing my student for college, by stretching her beyond her comfort zones, navigating outside of her home, and collaborating with peers. We love Hyla.... Read 11 reviews * grade A+ Overall Niche Grade * Students 94 * Student-teacher ratio 8:1 Hyla School ----------- #17 Best Private High Schools in Seattle Area. Blue checkmark. Private School, BAINBRIDGE ISLAND, WA, 6-12. 11 Niche users give it an average review of 5 stars. Featured Review: Parent says Our two children went through the middle school program and one was in the inaugural graduating class in the upper school. We also currently have a student at the upper school. Hyla has been an... Read 11 reviews. Overall Niche Grade: A+, Students: 94, Student-Teacher Ratio: 8 to 1,](https://www.niche.com/k12/hyla-school-bainbridge-island-wa/)\\n\\n[View nearby homes](https://www.homes.com/bainbridge-island-wa/hyla-middle-school/s-l3dgc4g9jnnqs/?utm_source=niche&utm_medium=referral&utm_campaign=niche_reviews)[Virtual tour](https://hylaschool.org/admissions-overview/)\\n\\nAdd to List\\n\\n24.    \\n25.    \\n26.   \\n[#18 Best Private High Schools in Seattle Area West Sound Academy ------------------ * Poulsbo, WA * Private School * 6-12 * Rating 4.63 out of 5 24 reviews **Parent:**My children have been at WSA for four years. Academically, they have been challenged in all the ways we\\'d hoped for them to be challenged, and we didn\\'t feel they could be in our local public schools or the other local private schools. Because of the education at WSA, they are confident, critical thinkers. The unique music program creates a truly authentic love of music and performance even for kids who don\\'t think music is their thing. The relationships between faculty and students are special, and my eldest has thrived with the close relationships he\\'s made with teachers. If you want to make sure your student isn\\'t just another kid in the crowd of students, this is the school for you.... Read 24 reviews * grade A+ Overall Niche Grade * Students 87 * Student-teacher ratio 8:1 West Sound Academy ------------------ #18 Best Private High Schools in Seattle Area. Blue checkmark. Private School, POULSBO, WA, 6-12. 24 Niche users give it an average review of 4.6 stars. Featured Review: Parent says My children have been at WSA for four years. Academically, they have been challenged in all the ways we\\'d hoped for them to be challenged, and we didn\\'t feel they could be in our local public schools... Read 24 reviews. Overall Niche Grade: A+, Students: 87, Student-Teacher Ratio: 8 to 1,](https://www.niche.com/k12/west-sound-academy-poulsbo-wa/)\\n\\n[View nearby homes](https://www.homes.com/poulsbo-wa/west-sound-academy-school/s-x860sdfxyc9kl/?utm_source=niche&utm_medium=referral&utm_campaign=niche_reviews)[Virtual tour](https://youtu.be/UquAcH8YnaQ)\\n\\nAdd to List\\n\\n27.   \\n[#19 Best Private High Schools in Seattle Area Holy Names Academy ------------------ * Seattle, WA * Private School * 9-12 * Rating 4.18 out of 5 281 reviews **Parent:**Holy Names Academy has provided an academically rigorous curriculum which has prepared my senior for college. 90% of the 2025 graduating class has received honors accolades and the school is in the top 10% on WA state for outstanding academic achievement. The all-girl environment is supportive and allows students who are serious about their studies to focus on developing their talents, skills, and knowledge. Our experience with Holy Names Academy has been wonderful.... Read 281 reviews * grade A+ Overall Niche Grade * Students 570 * Student-teacher ratio 14:1 Holy Names Academy ------------------ #19 Best Private High Schools in Seattle Area. Blue checkmark. Private School, SEATTLE, WA, 9-12. 281 Niche users give it an average review of 4.2 stars. Featured Review: Parent says Holy Names Academy has provided an academically rigorous curriculum which has prepared my senior for college. 90% of the 2025 graduating class has received honors accolades and the school is in the... Read 281 reviews. Overall Niche Grade: A+, Students: 570, Student-Teacher Ratio: 14 to 1,](https://www.niche.com/k12/holy-names-academy-seattle-wa/)\\n\\n[View nearby homes](https://www.homes.com/seattle-wa/holy-names-academy-school/s-em4ce8g0jsg1y/?utm_source=niche&utm_medium=referral&utm_campaign=niche_reviews)[Virtual tour](https://www.youtube.com/watch?v=wv7tzH3weug)\\n\\nAdd to List\\n\\n28.   \\n[#20 Best Private High Schools in Seattle Area Bellarmine Preparatory School ----------------------------- * Tacoma, WA * Private School * 9-12 * Rating 4.17 out of 5 231 reviews **Junior:**My time at Bellarmine Preparatory School has been a mix of good, okay, and challenging experiences. I\\'ve had great opportunities through clubs like robotics, MUN, which helped me grow as a leader and team member. The campus is beautiful and the community can be supportive. However, the academic pressure is real, and it can be overwhelming to juggle classes and extracurriculars. Some teachers are helpful and approachable, but others can be difficult to reach or seem unwilling to offer extra support when students are struggling. It sometimes feels like you\\'re expected to figure things out on your own. I also think the school could do more to support mental health and create a more inclusive environment. Overall, Bellarmine has helped me grow, but there are definitely areas where the school could listen more to students and make meaningful changes... Read 231 reviews * grade A+ Overall Niche Grade * Students 897 * Student-teacher ratio 18:1 Bellarmine Preparatory School ----------------------------- #20 Best Private High Schools in Seattle Area. Blue checkmark. Private School, TACOMA, WA, 9-12. 231 Niche users give it an average review of 4.2 stars. Featured Review: Junior says My time at Bellarmine Preparatory School has been a mix of good, okay, and challenging experiences. I\\'ve had great opportunities through clubs like robotics, MUN, which helped me grow as a leader and... Read 231 reviews. Overall Niche Grade: A+, Students: 897, Student-Teacher Ratio: 18 to 1,](https://www.niche.com/k12/bellarmine-preparatory-school-tacoma-wa/)\\n\\n[View nearby homes](https://www.homes.com/tacoma-wa/bellarmine-preparatory-school/s-gxc4g23zxseeh/?utm_source=niche&utm_medium=referral&utm_campaign=niche_reviews)[Virtual tour](https://www.massinteract.com/bellarmine-preparatory-school/)\\n\\nAdd to List\\n\\n29.   \\n[#21 Best Private High Schools in Seattle Area Archbishop Murphy High School ----------------------------- * Everett, WA * Private School * 9-12 * Rating 4.13 out of 5 100 reviews **Freshman:**I am currently in my Freshman year of AMHS or Archbishop Murphy High-school and I currently have been really enjoying the school. I believe the academics are top-tier and there are numerous resources to aid students in learning. I do believe the school could improve in overall organization of events, clubs, activities, student government, etc. I hope this school continues to build and improve!... Read 100 reviews * grade A Overall Niche Grade * Students 432 * Student-teacher ratio 10:1 Archbishop Murphy High School ----------------------------- #21 Best Private High Schools in Seattle Area. Blue checkmark. Private School, EVERETT, WA, 9-12. 100 Niche users give it an average review of 4.1 stars. Featured Review: Freshman says I am currently in my Freshman year of AMHS or Archbishop Murphy High-school and I currently have been really enjoying the school. I believe the academics are top-tier and there are numerous resources... Read 100 reviews. Overall Niche Grade: A, Students: 432, Student-Teacher Ratio: 10 to 1,](https://www.niche.com/k12/archbishop-murphy-high-school-everett-wa/)\\n\\n[View nearby homes](https://www.homes.com/everett-wa/archbishop-murphy-high-school/s-sbt599w4nyqst/?utm_source=niche&utm_medium=referral&utm_campaign=niche_reviews)[Virtual tour](https://www.youtube.com/watch?v=GiS5-ivPSN0&t=2s)\\n\\nAdd to List\\n\\n30.   \\n[#22 Best Private High Schools in Seattle Area Pacific Christian Academy ------------------------- * Federal Way, WA * Private School * PK, K-12 * Rating 3.7 out of 5 33 reviews **Parent:**Pacific Christian Academy has been a life changing experience for my family and me. During the pandemic when all of the schools shut down, we were left to homeschool our children. Until we found out that Pacific Christian Academy was to remain open. We quickly enrolled our children, and we couldn\\'t be happier. Our daughter had anxiety and would cry at every single drop off, but the pre-kindergarten teacher was so patient and kind to our daughter. She worked with us to provide the right tools during drop offs to make it less traumatic. I love that the teachers pray for each child if they got hurt. I love the value that Pacific Christian Academy upholds. I have no doubt that my children will continue to grow in their faith. Thank you, Pacific Christian Academy, for providing our children with the bible-based tools to overcome any challenges they might face in the \"real world.\"... Read 33 reviews * grade A Overall Niche Grade * Students 325 * Student-teacher ratio 13:1 Pacific Christian Academy ------------------------- #22 Best Private High Schools in Seattle Area. Blue checkmark. Private School, FEDERAL WAY, WA, PK, K-12. 33 Niche users give it an average review of 3.7 stars. Featured Review: Parent says Pacific Christian Academy has been a life changing experience for my family and me. During the pandemic when all of the schools shut down, we were left to homeschool our children. Until we found out... Read 33 reviews. Overall Niche Grade: A, Students: 325, Student-Teacher Ratio: 13 to 1,](https://www.niche.com/k12/pacific-christian-academy-federal-way-wa/)\\n\\n[View nearby homes](https://www.homes.com/federal-way-wa/98003/?utm_source=niche&utm_medium=referral&utm_campaign=niche_reviews)[Virtual tour](https://youtu.be/0Y7XwFucfn0)\\n\\nAdd to List\\n\\n31.   [Review your school](https://www.niche.com/k12/survey/) \\n32.   \\n[#23 Best Private High Schools in Seattle Area King\\'s Schools -------------- * Seattle, WA * Private School * PK, K-12 * Rating 4 out of 5 176 reviews **Parent:**King\\'s Schools provides an excellent environment for Christ-centered discipleship that is actively modeled by the teachers and staff, inspiring students to treat their peers with honor, respect, and encouragement. The mission to build resilient disciples for Christ comes with all the academic, athletic, artistic, and other rigors any top-tier school would offer; shaping the foundational aspects of character while encouraging and empowering the next generation to thrive in the unique calling they each carry. The staff take the time to know each individual student - their nuances, struggles, strengths and weaknesses - and coaches them as needed to instill courage in overcoming the challenges that build confidence and identity grounded in God\\'s love.... Read 176 reviews * grade A Overall Niche Grade * Students 1,346 * Student-teacher ratio 16:1 King\\'s Schools -------------- #23 Best Private High Schools in Seattle Area. Blue checkmark. Private School, SEATTLE, WA, PK, K-12. 176 Niche users give it an average review of 4 stars. Featured Review: Parent says King\\'s Schools provides an excellent environment for Christ-centered discipleship that is actively modeled by the teachers and staff, inspiring students to treat their peers with honor, respect, and... Read 176 reviews. Overall Niche Grade: A, Students: 1,346, Student-Teacher Ratio: 16 to 1,](https://www.niche.com/k12/kings-schools-seattle-wa/)\\n\\n[View nearby homes](https://www.homes.com/shoreline-wa/kings-junior-high-school/s-5rq56hggdcm0p/?utm_source=niche&utm_medium=referral&utm_campaign=niche_reviews)[Virtual tour](https://youtu.be/Y2XEp59IOQE)\\n\\nAdd to List\\n\\n33.   \\n[#24 Best Private High Schools in Seattle Area Kennedy Catholic High School ---------------------------- * Burien, WA * Private School * 9-12 * Rating 4.01 out of 5 197 reviews **Senior:**Kennedy Catholic High School is a small, welcoming community that encourages students to grow and discover more about themselves. While it is a religious institution, it is open to students of all different types of cultures and religions. They use clubs and activities to encourage diversity, such as the culture week and the student unions. The student community is great socially. Academically, however, teachers can be difficult to work with as office hours and grading systems are a bit complicated. Some teachers don\\'t make themselves available to students during office hours or when responding to emails. The school counselors are eager to help people, while the administration likes to make it difficult to reach counselors in times of need. Overall, it feels as though when it comes to concerns from parents and students, the school widely ignores them.... Read 197 reviews * grade A Overall Niche Grade * Students 861 * Student-teacher ratio 13:1 Kennedy Catholic High School ---------------------------- #24 Best Private High Schools in Seattle Area. Blue checkmark. Private School, BURIEN, WA, 9-12. 197 Niche users give it an average review of 4 stars. Featured Review: Senior says Kennedy Catholic High School is a small, welcoming community that encourages students to grow and discover more about themselves. While it is a religious institution, it is open to students of all... Read 197 reviews. Overall Niche Grade: A, Students: 861, Student-Teacher Ratio: 13 to 1,](https://www.niche.com/k12/kennedy-catholic-high-school-burien-wa/)\\n\\n[View nearby homes](https://www.homes.com/burien-wa/john-f-kennedy-catholic-high-school/s-n7qcpz2t05w7x/?utm_source=niche&utm_medium=referral&utm_campaign=niche_reviews)[Virtual tour](https://www.kennedyhs.org/domestic-admissions/virtual-tour)\\n\\nAdd to List\\n\\n34.   \\n[#25 Best Private High Schools in Seattle Area Auburn Adventist Academy ------------------------ * Auburn, WA * Private School * 9-12 * Rating 3.82 out of 5 45 reviews **Senior:**Great environment academically , and one of the most diverse private high school in WA. The culture is the biggest challenge to navigate if you are not an Adventist ( I am catholic) especially for girls. Other than that, great academically , sports ( one of the best Varsity Volleyball and soccer school), and okay with clubs... Read 45 reviews * grade A Overall Niche Grade * Students 260 * Student-teacher ratio 7:1 Auburn Adventist Academy ------------------------ #25 Best Private High Schools in Seattle Area. Blue checkmark. Private School, AUBURN, WA, 9-12. 45 Niche users give it an average review of 3.8 stars. Featured Review: Senior says Great environment academically , and one of the most diverse private high school in WA. The culture is the biggest challenge to navigate if you are not an Adventist ( I am catholic) especially for... Read 45 reviews. Overall Niche Grade: A, Students: 260, Student-Teacher Ratio: 7 to 1,](https://www.niche.com/k12/auburn-adventist-academy-auburn-wa/)\\n\\n[View nearby homes](https://www.homes.com/auburn-wa/98092/?utm_source=niche&utm_medium=referral&utm_campaign=niche_reviews)[Virtual tour](https://youtu.be/R9VbTupzqYw)\\n\\nAdd to List\\n\\n35.   \\nAdd to List \\n\\n[Sponsored![Image 4](blob:http://localhost/92ac07e9d0853a53a77647d2ba90cfa7)Private School Academy at the Lakes * Private School * LAND O LAKES, FL * PK, K-12 * Rating 4.1 out of 5 52](https://www.niche.com/k12/academy-at-the-lakes-land-o-lakes-fl/)\\n\\nAdd to List\\n\\n[Sponsored![Image 5](blob:http://localhost/92ac07e9d0853a53a77647d2ba90cfa7)Private School Riviera Schools * Private School * MIAMI, FL * PK, K-12 * Rating 3.88 out of 5 89](https://www.niche.com/k12/riviera-schools-miami-fl/)\\n\\nAdd to List\\n\\n[Sponsored![Image 6](blob:http://localhost/92ac07e9d0853a53a77647d2ba90cfa7)Private School Fusion Academy Boca Raton * Private School * BOCA RATON, FL * 6-12 * Rating 4 out of 5 4](https://www.niche.com/k12/fusion-academy-boca-raton-boca-raton-fl/)\\n\\n[Find schools near you Not sure what schools you are zoned for?Find out by exploring our school boundary maps. Look up public schools and districts by address or ZIP code.](https://www.niche.com/k12/schools-near-you/)\\n\\n*   [1](https://www.niche.com/k12/search/best-private-high-schools/m/seattle-metro-area/?page=1)\\n*   [2](https://www.niche.com/k12/search/best-private-high-schools/m/seattle-metro-area/?page=2)\\n*   [3](https://www.niche.com/k12/search/best-private-high-schools/m/seattle-metro-area/?page=3)\\n*   [4](https://www.niche.com/k12/search/best-private-high-schools/m/seattle-metro-area/?page=4)\\n*   [](https://www.niche.com/k12/search/best-private-high-schools/m/seattle-metro-area/?page=2)\\n\\nRedo search in this area\\n\\n1 – 25 of 95\\n\\nShowing results 1 through 25 of 95\\n\\nClose map\\n\\nFAQs\\n----\\n\\nHow many private high schools are in the Seattle Area?There are 95 private high schools in the Seattle Area. Check out their Niche profiles to find a school that best suits the needs of you and your child!\\n\\n1.   [Home](https://www.niche.com/)\\n\\n3.   [America](https://www.niche.com/k12/search/best-private-high-schools/)\\n\\n5.   2025 Best Private High Schools in Seattle Area\\n\\n[Niche](https://www.niche.com/)\\n*   [About Us](https://www.niche.com/about/)\\n*   [Niche For Schools](https://www.niche.com/about/k-12-enrollment-solutions/)\\n*   [Niche For Colleges](https://www.niche.com/about/college-enrollment-solutions/)\\n*   [Blog](https://www.niche.com/blog/)\\n*   [College Guidance](https://www.niche.com/blog//topics/college-guidance)\\n*   [Resource Center](https://niche.zendesk.com/hc/en-us)\\n*   [College Search App](https://www.niche.com/about/mobile/)\\n*   [Contact Niche](https://www.niche.com/contact/)\\n*   [Data](https://www.niche.com/about/data/)\\n*   [Careers](https://www.niche.com/about/team/)\\n*   [Partnerships](https://www.niche.com/about/partnerships/)\\n*   [Press](https://www.niche.com/about/press/)\\n*   [Do Not Sell My Personal Information](https://www.niche.com/about/ccpa-request/)\\n*   [Privacy Policy](https://www.niche.com/about/privacy/)\\n*   [User Agreement](https://www.niche.com/about/terms/)\\n*   [Web Accessibility](https://www.niche.com/about/accessibility/)\\n*   [Cookie Policy](https://www.niche.com/about/cookie-policy/)\\n*   [Sitemap](https://www.niche.com/sitemap/)\\n\\n*   [Instagram](https://www.instagram.com/nichesocial/)\\n*   [Facebook](https://www.facebook.com/nichesocial)\\n*   [Twitter](https://twitter.com/nichesocial)\\n*   [Tiktok](https://www.tiktok.com/@nichesocial)\\n*   [YouTube](https://www.youtube.com/c/Nichesocial/featured)\\n\\n©2025 Niche.com Inc.\\n\\nDiscover the schools and neighborhoods that are right for you.\\n\\n*   [K-12](https://www.niche.com/k12/search/best-schools/m/seattle-metro-area/)\\n*   [Colleges](https://www.niche.com/colleges/search/best-colleges/m/seattle-metro-area/)\\n*   [Graduate Schools](https://www.niche.com/graduate-schools/search/best-graduate-schools/m/seattle-metro-area/)\\n*   [Places to Live](https://www.niche.com/places-to-live/search/best-places-to-live/m/seattle-metro-area/)\\n\\nDo you work for a school or college? [Claim Your School](https://www.niche.com/claim-your-school/)\\n\\nSchool Districts\\n*   [Best School Districts in America](https://www.niche.com/k12/search/best-school-districts/)\\n*   [Best School Districts in California](https://www.niche.com/k12/search/best-school-districts/s/california/)\\n*   [Best School Districts in Georgia](https://www.niche.com/k12/search/best-school-districts/s/georgia/)\\n*   [Best School Districts in Ohio](https://www.niche.com/k12/search/best-school-districts/s/ohio/)\\n*   [Best School Districts in Massachusetts](https://www.niche.com/k12/search/best-school-districts/s/massachusetts/)\\n*   [Best School Districts in Michigan](https://www.niche.com/k12/search/best-school-districts/s/michigan/)\\n*   [Best School Districts in Minnesota](https://www.niche.com/k12/search/best-school-districts/s/minnesota/)\\n*   [Best School Districts in New Jersey](https://www.niche.com/k12/search/best-school-districts/s/new-jersey/)\\n*   [Best School Districts in New York](https://www.niche.com/k12/search/best-school-districts/s/new-york/)\\n*   [Best School Districts in North Carolina](https://www.niche.com/k12/search/best-school-districts/s/north-carolina/)\\n*   [Best School Districts in Pennsylvania](https://www.niche.com/k12/search/best-school-districts/s/pennsylvania/)\\n*   [Best School Districts in Texas](https://www.niche.com/k12/search/best-school-districts/s/texas/)\\n*   [Best School Districts in Virginia](https://www.niche.com/k12/search/best-school-districts/s/virginia/)\\n*   [Best School Districts in Washington](https://www.niche.com/k12/search/best-school-districts/s/washington/)\\n*   [Best School Districts in Wisconsin](https://www.niche.com/k12/search/best-school-districts/s/wisconsin/)\\n\\nPublic High Schools\\n*   [Best Public High Schools](https://www.niche.com/k12/search/best-public-high-schools/)\\n*   [Best Charter High Schools](https://www.niche.com/k12/search/best-charter-high-schools/)\\n*   [Best Magnet High Schools](https://www.niche.com/k12/search/best-magnet-high-schools/)\\n*   [Adlai E. Stevenson High School](https://www.niche.com/k12/adlai-e-stevenson-high-school-lincolnshire-il/)\\n*   [Carmel High School](https://www.niche.com/k12/carmel-high-school-carmel-in/)\\n*   [Cypress Bay High School](https://www.niche.com/k12/cypress-bay-high-school-weston-fl/)\\n*   [Granada Hills Charter High School](https://www.niche.com/k12/granada-hills-charter-high-school-granada-hills-ca/)\\n*   [Lane Tech College Prep High School](https://www.niche.com/k12/lane-tech-college-prep-high-school-chicago-il/)\\n*   [Polytechnic High School](https://www.niche.com/k12/polytechnic-high-school-long-beach-ca/)\\n*   [Poolesville High School](https://www.niche.com/k12/poolesville-high-school-poolesville-md/)\\n*   [Saratoga High School](https://www.niche.com/k12/saratoga-high-school-saratoga-ca/)\\n*   [Seven Lakes High School](https://www.niche.com/k12/seven-lakes-high-school-katy-tx/)\\n*   [Skyline High School](https://www.niche.com/k12/skyline-high-school-dallas-tx/)\\n*   [Stuyvesant High School](https://www.niche.com/k12/stuyvesant-high-school-new-york-ny/)\\n*   [Westlake High School](https://www.niche.com/k12/westlake-high-school-austin-tx/)\\n\\nPrivate High Schools\\n*   [Best Private High Schools](https://www.niche.com/k12/search/best-private-high-schools/)\\n*   [Best Catholic High Schools](https://www.niche.com/k12/search/best-catholic-high-schools/)\\n*   [Dalton School](https://www.niche.com/k12/dalton-school-manhattan-ny/)\\n*   [Germantown Friends School](https://www.niche.com/k12/germantown-friends-school-philadelphia-pa/)\\n*   [Horace Mann School](https://www.niche.com/k12/horace-mann-school-the-bronx-ny/)\\n*   [Menlo School](https://www.niche.com/k12/menlo-school-atherton-ca/)\\n*   [Milton Academy](https://www.niche.com/k12/milton-academy-milton-ma/)\\n*   [Phillips Exeter Academy](https://www.niche.com/k12/phillips-exeter-academy-exeter-nh/)\\n*   [Ransom Everglades School](https://www.niche.com/k12/ransom-everglades-school-miami-fl/)\\n*   [Sidwell Friends](https://www.niche.com/k12/sidwell-friends-school-washington-dc/)\\n*   [The Harker School](https://www.niche.com/k12/the-harker-school-san-jose-ca/)\\n*   [The Hotchkiss School](https://www.niche.com/k12/the-hotchkiss-school-lakeville-ct/)\\n*   [The Kinkaid School](https://www.niche.com/k12/the-kinkaid-school-piney-point-village-tx/)\\n*   [The Latin School of Chicago](https://www.niche.com/k12/the-latin-school-of-chicago-chicago-il/)\\n*   [University of Chicago Lab School](https://www.niche.com/k12/university-of-chicago-lab-school-chicago-il/)\\n\\nLearn more about our [College Search App](https://www.niche.com/about/mobile/)\\n\\n[![Image 7: Download on the App Store](https://assets.niche.com/static/app-cta/Download_on_the_App_Store_Badge.svg)](https://apps.apple.com/us/app/niche-college-search/id1356697847?itsct=apps_box_badge&amp;itscg=30200)[![Image 8: Get it on Google Play](https://assets.niche.com/static/app-cta/Get_it_on_Google_play.png)](https://play.google.com/store/apps/details?id=com.nicheinc.nichealpha&pcampaignid=web_share&pcampaignid=pcampaignidMKT-Other-global-all-co-prtnr-py-PartBadge-Mar2515-1)\\n\\nWe use cookies to improve your experience on our site and to show you personalized advertising. To find out more, read our [privacy policy](https://www.niche.com/about/privacy) and [cookie policy](https://www.niche.com/about/cookie-policy).\\n\\nOK\\n',\n",
       "    'images': []}],\n",
       "  'failed_results': [],\n",
       "  'response_time': 0.01},\n",
       " {'results': [{'url': 'https://www.usnews.com/education/best-high-schools/washington/rankings/seattle-wa-42660',\n",
       "    'raw_content': \"Best High Schools in Seattle, WA Area - US News\\n===============\\n\\n[![Image 1: U.S. News and World Report Logo](https://www.usnews.com/static-atlas/assets/img/usn-logo-large.svg)](https://www.usnews.com/)\\n\\n[Education](https://www.usnews.com/education)\\n\\n*   [Colleges](https://www.usnews.com/best-colleges)\\n    \\n    *   [Rankings and Directories](https://www.usnews.com/best-colleges/rankings)\\n        \\n        *   [National Universities](https://www.usnews.com/best-colleges/rankings/national-universities)\\n        *   [National Liberal Arts Colleges](https://www.usnews.com/best-colleges/rankings/national-liberal-arts-colleges)\\n        *   [Regional Universities](https://www.usnews.com/best-colleges/rankings/regional-universities)\\n        *   [Regional Colleges](https://www.usnews.com/best-colleges/rankings/regional-colleges)\\n        *   [HBCUs](https://www.usnews.com/best-colleges/rankings/hbcu)\\n        *   [Community Colleges](https://www.usnews.com/education/community-colleges)\\n        *   [All Rankings](https://www.usnews.com/best-colleges/rankings)\\n    *   Tools\\n        \\n        *   [College Admissions Calculator](https://www.usnews.com/best-colleges/admissions-calculator)\\n        *   [Compare Colleges](https://www.usnews.com/best-colleges/compare)\\n        *   [College Major Quiz](https://www.usnews.com/best-colleges/college-major-quiz)\\n        *   [College Search](https://www.usnews.com/best-colleges/college-search)\\n        *   [Scholarship Search](https://www.usnews.com/education/scholarship-search)\\n    *   [Advice](https://www.usnews.com/education/best-colleges/advice)\\n        \\n        *   [College Majors](https://www.usnews.com/education/best-colleges/college-majors)\\n        *   [Finding the Right School](https://www.usnews.com/education/best-colleges/right-school)\\n        *   [Apply to College](https://www.usnews.com/education/best-colleges/apply-to-college)\\n        *   [Paying for College](https://www.usnews.com/education/best-colleges/paying-for-college)\\n        *   [Guide to Financial Aid](https://www.usnews.com/education/best-colleges/paying-for-college/articles/an-ultimate-guide-to-understanding-college-financial-aid)\\n        *   [Student Loans](https://money.usnews.com/loans/student-loans/best-private-student-loans)\\n        *   [Student Credit Cards](https://money.usnews.com/credit-cards/student)\\n        *   [All College Advice](https://www.usnews.com/education/best-colleges/advice)\\n    *   [Webinars](https://app.collegeadvisor.com/webinars?utm_source=USNews&)\\n        \\n        *   [Admissions and Applications](https://app.collegeadvisor.com/webinar/series/1?utm_source=USNews-DropDown&)\\n        *   [Financial Aid & Scholarships](https://app.collegeadvisor.com/webinar/series/2?utm_source=USNews-DropDown&)\\n        *   [Building Your Resume & Extracurriculars](https://app.collegeadvisor.com/webinar/series/4?utm_source=USNews-DropDown&)\\n        *   [College Majors](https://app.collegeadvisor.com/webinar/series/5?utm_source=USNews-DropDown&)\\n        *   [Crafting Your College List](https://app.collegeadvisor.com/webinar/series/7?utm_source=USNews-DropDown&)\\n        *   [For Parents](https://app.collegeadvisor.com/webinar/series/8?utm_source=USNews-DropDown&)\\n    \\n*   [Grad Schools](https://www.usnews.com/best-graduate-schools)\\n    \\n    *   Rankings\\n        \\n        *   [Business (MBA)](https://www.usnews.com/best-graduate-schools/top-business-schools)\\n        *   [Education](https://www.usnews.com/best-graduate-schools/top-education-schools)\\n        *   [Engineering](https://www.usnews.com/best-graduate-schools/top-engineering-schools)\\n        *   [Fine Arts](https://www.usnews.com/best-graduate-schools/top-fine-arts-schools)\\n        *   [Health](https://www.usnews.com/best-graduate-schools/top-health-schools)\\n        *   [Law](https://www.usnews.com/best-graduate-schools/top-law-schools)\\n        *   [Library Studies](https://www.usnews.com/best-graduate-schools/top-library-information-science-programs)\\n        *   [Medicine](https://www.usnews.com/best-graduate-schools/top-medical-schools)\\n        *   [Nursing](https://www.usnews.com/best-graduate-schools/top-nursing-schools)\\n        *   [Public Affairs](https://www.usnews.com/best-graduate-schools/top-public-affairs-schools)\\n        *   [Science](https://www.usnews.com/best-graduate-schools/top-science-schools)\\n        *   [Social Sciences and Humanities](https://www.usnews.com/best-graduate-schools/top-humanities-schools)\\n    *   Tools\\n        \\n        *   [Compare Graduate Schools](https://www.usnews.com/best-graduate-schools/compare)\\n        *   [Search for Graduate Schools](https://www.usnews.com/best-graduate-schools/search)\\n    *   Advice\\n        \\n        *   [Applying to Graduate School](https://www.usnews.com/education/best-graduate-schools/top-graduate-schools/applying)\\n        *   [Paying for Graduate School](https://www.usnews.com/education/best-graduate-schools/top-graduate-schools/paying)\\n        *   [About the GRE](https://www.usnews.com/education/best-graduate-schools/top-graduate-schools/gre)\\n        *   [Studying at a U.S. Grad School](https://www.usnews.com/education/best-colleges/studying-in-the-united-states/features/studying-at-a-us-graduate-school)\\n        *   [All Graduate School Advice](https://www.usnews.com/best-graduate-schools/advice)\\n    \\n*   [Online Colleges](https://www.usnews.com/education/online-education)\\n    \\n    *   [Rankings](https://www.usnews.com/education/online-education/rankings)\\n        \\n        *   [Online Bachelor's Programs](https://www.usnews.com/education/online-education/bachelors)\\n        *   [Online Master's Programs](https://www.usnews.com/education/online-education/graduate)\\n        *   [Online MBA & Grad Business Programs](https://www.usnews.com/education/online-education/mba)\\n        *   [Online Grad Nursing Programs](https://www.usnews.com/education/online-education/nursing)\\n        *   [Online Undergraduate Degrees](https://www.usnews.com/education/online-education/undergraduate-degree-profiles)\\n        *   [Online Graduate Degrees](https://www.usnews.com/education/online-education/graduate-degree-profiles)\\n        *   [See all Online College Rankings](https://www.usnews.com/education/online-education/rankings)\\n    *   Tools\\n        \\n        *   [Search for Online Programs](https://www.usnews.com/education/online-education/online-search)\\n        *   [Compare Online Programs](https://www.usnews.com/education/online-education/compare)\\n    *   [Advice](https://www.usnews.com/education/online-education/advice)\\n        \\n        *   [Paying for Online Education](https://www.usnews.com/education/online-education/features/paying-for-online-education)\\n        *   [The Short List: Online Programs](https://www.usnews.com/education/online-education/the-short-list-online-programs)\\n    \\n*   [Global Universities](https://www.usnews.com/education/best-global-universities)\\n    \\n    *   Rankings\\n        \\n        *   [Global Universities](https://www.usnews.com/education/best-global-universities/rankings)\\n        *   [Universities in Africa](https://www.usnews.com/education/best-global-universities/africa)\\n        *   [Universities in Asia](https://www.usnews.com/education/best-global-universities/asia)\\n        *   [Universities in Australia/New Zealand](https://www.usnews.com/education/best-global-universities/australia-new-zealand)\\n        *   [Universities in Europe](https://www.usnews.com/education/best-global-universities/europe)\\n        *   [Universities in Latin America](https://www.usnews.com/education/best-global-universities/latin-america)\\n        *   [Search for Global Universities](https://www.usnews.com/education/best-global-universities/search)\\n    *   Advice\\n        \\n        *   [Studying at Global Universities](https://www.usnews.com/education/best-global-universities/advice)\\n        *   [Studying at a U.S. College](https://www.usnews.com/education/best-colleges/studying-in-the-united-states)\\n        *   [Studying at a U.S. Grad School](https://www.usnews.com/education/best-colleges/studying-in-the-united-states/features/studying-at-a-us-graduate-school)\\n    \\n*   [K-12](https://www.usnews.com/education/k12)\\n    \\n    *   K-12\\n        \\n        *   [Preschools](https://www.usnews.com/education/k12/preschool)\\n        *   [Elementary Schools](https://www.usnews.com/education/k12/elementary-school)\\n        *   [Middle Schools](https://www.usnews.com/education/k12/middle-school)\\n        *   [High Schools](https://www.usnews.com/education/best-high-schools)\\n    *   Private Schools\\n        \\n        *   [Search Private Schools](https://www.usnews.com/education/k12/search?school-type=private&)\\n    *   Advice\\n        \\n        *   [High Schools Advice](https://www.usnews.com/education/best-high-schools/advice)\\n        *   [K-8](https://www.usnews.com/education/k-8/advice)\\n    \\n*   [Rankings](https://www.usnews.com/education/rankings)\\n    \\n    *   [College Rankings](https://www.usnews.com/best-colleges/rankings)\\n    *   [Graduate School Rankings](https://www.usnews.com/best-graduate-schools/rankings)\\n    *   [Online College Rankings](https://www.usnews.com/education/online-education/rankings)\\n    *   [Global University Rankings](https://www.usnews.com/education/best-global-universities/rankings)\\n    *   [High School Rankings](https://www.usnews.com/education/best-high-schools/rankings-overview)\\n    *   [K-8 Schools Rankings](https://www.usnews.com/education/k12)\\n    \\n*   [Scholarships and Finances](https://www.usnews.com/education/scholarships/search)\\n    \\n    *   Scholarships\\n        \\n        *   [Scholarship Finder](https://www.usnews.com/education/scholarships/search)\\n        *   [Scholarships for College](https://www.usnews.com/education/scholarships/search?student-type=high%20school&student-type=undergraduate&sort=deadline-desc&)\\n        *   [Scholarships for Graduate School](https://www.usnews.com/education/scholarships/search?student-type=doctorate&student-type=graduate&student-type=master%27s&student-type=undergraduate&sort=deadline-desc&)\\n        *   [No-Essay Scholarships](https://www.usnews.com/education/scholarships/search?requirement=No%20Essay&sort=deadline-desc&)\\n        *   [Need-Based Scholarships](https://www.usnews.com/education/scholarships/search?eligibility-criteria=Need-Based%20Aid&sort=deadline-desc&)\\n        *   [Merit-Based Scholarships](https://www.usnews.com/education/scholarships/search?eligibility-criteria=Merit-Based%20Aid&sort=deadline-desc&)\\n    *   Advice\\n        \\n        *   [Paying for College](https://www.usnews.com/education/best-colleges/paying-for-college)\\n        *   [Paying for Graduate School](https://www.usnews.com/education/best-graduate-schools/top-graduate-schools/paying)\\n        *   [Student Loans](https://www.usnews.com/education/best-colleges/paying-for-college/student-loan)\\n        *   [Student Credit Cards](https://www.usnews.com/topics/subjects/student-credit-cards)\\n        *   [All Financial Advice](https://money.usnews.com/money/personal-finance)\\n    \\n\\nU.S. News College Compass\\n\\n*   [Reading List](https://www.usnews.com/reading-list)\\n*   [Newsletters & Alerts](https://www.usnews.com/emailprefs/preference-center)\\n\\n*   [Sign In to My Account](https://www.usnews.com/emailprefs/login?target=https%3A%2F%2Fwww.usnews.com%2Feducation%2Fbest-high-schools%2Fwashington%2Frankings%2Fseattle-wa-42660)\\n\\n1.  [Best High Schools Seattle, WA Metro Area](https://www.usnews.com/education/best-high-schools/washington/rankings/seattle-wa-42660)\\n2.  [Washington districts](https://www.usnews.com/education/best-high-schools/washington/rankings)\\n3.  [Washington](https://www.usnews.com/education/best-high-schools/washington)\\n4.  [High Schools](https://www.usnews.com/education/best-high-schools)\\n5.  [Education](https://www.usnews.com/education)\\n6.  [Home](https://www.usnews.com/)\\n\\n![Image 2: U.S. News and World Report Best High Schools Rankings Badge](https://www.usnews.com/static-atlas/assets/img/education/high-schools/badge-high-schools-silver-generic.svg)\\n\\nBest High Schools in the Seattle, WA Area\\n=========================================\\n\\nLooking for high schools in the Seattle, Washington, area? The Seattle area ranking contains schools from Tacoma, Bellevue and the city itself.\\n\\nFor personalized and effective admissions consulting,[consider CollegeAdvisor.com](https://go.collegeadvisor.com/us-news?utm_source=USNews&utm_medium=aff_direct&utm_campaign=US_core_2023-02-20_usn&utm_content=text-link-promo&utm_term=usn-widget). Get one-on-one advising on your essays, application strategy, and extracurricular profile to help you gain acceptance to your dream colleges.\\n\\n[How We Rank the Best High Schools »](http://www.usnews.com/education/best-high-schools/articles/how-us-news-calculated-the-rankings)\\n\\nSummary\\n\\nHere are the Best High Schools in the Seattle, WA Area\\n------------------------------------------------------\\n\\n1.  Tesla STEM High School\\n2.  International School\\n3.  Interlake Senior High School\\n4.  Newport Senior High School\\n5.  Raisbeck Aviation High School\\n6.  Mercer Island High School\\n7.  Issaquah High School\\n8.  Bellevue High School\\n\\n[See the full rankings](https://www.usnews.com/education/best-high-schools/washington/rankings/seattle-wa-42660#rankings)\\n\\n254 high schools\\n\\n1FilterSort\\n\\n254 high schools\\n\\n*   Clear Filters\\n*   In the Seattle, WA Metro Area\\n\\nSort by:\\n\\nI’m looking for\\n\\nPrivate Schools\\n\\nPublic K-8 Schools\\n\\nPublic High Schools\\n\\nFind a High School\\n\\nLocation\\n\\nRank Status\\n\\nRankedUnranked\\n\\nPublic School Type\\n\\nTraditionalMagnetCharter\\n\\nSTEM Ranked Schools Only\\n\\nYesNo\\n\\nNational Rank\\n\\n1 - 13242+\\n\\nNational\\n\\nTraditional\\n\\nMagnet\\n\\nCharter\\n\\nSTEM\\n\\nSearch by State\\n\\n1.  [Tesla STEM High School](https://www.usnews.com/education/best-high-schools/washington/districts/lake-washington-school-district/tesla-stem-high-school-146690)\\n    --------------------------------------------------------------------------------------------------------------------------------\\n    \\n    Redmond, WA\\n    \\n    [Lake Washington School District](https://www.usnews.com/education/best-high-schools/washington/districts/lake-washington-school-district-102818)\\n    \\n    *   [#1in Seattle, WA Metro Area Rankings](https://www.usnews.com/education/best-high-schools/washington/districts/lake-washington-school-district/tesla-stem-high-school-146690)\\n    *   [#3 in National Rankings](https://www.usnews.com/education/best-high-schools/national-rankings)\\n    \\n    Tesla STEM High School is ranked first within Washington. Students have the opportunity to take Advanced Placement® coursework and exams. The AP® participation rate at Tesla STEM High School...[Read More](https://www.usnews.com/education/best-high-schools/washington/districts/lake-washington-school-district/tesla-stem-high-school-146690)\\n    \\n    Graduation Rate\\n    \\n    N/A\\n    \\n    Graduation Rate\\n    \\n    College Readiness\\n    \\n    100\\n    \\n    College Readiness\\n    \\n    Enrollment 9-12\\n    \\n    609\\n    \\n    Enrollment 9-12\\n    \\n2.  [International School](https://www.usnews.com/education/best-high-schools/washington/districts/bellevue-school-district/international-school-20739)\\n    --------------------------------------------------------------------------------------------------------------------------------\\n    \\n    Bellevue, WA\\n    \\n    [Bellevue School District](https://www.usnews.com/education/best-high-schools/washington/districts/bellevue-school-district-109251)\\n    \\n    *   [#2in Seattle, WA Metro Area Rankings](https://www.usnews.com/education/best-high-schools/washington/districts/bellevue-school-district/international-school-20739)\\n    *   [#65 in National Rankings](https://www.usnews.com/education/best-high-schools/national-rankings)\\n    \\n    The International School’s integrated curriculum starts in sixth grade and requires seven years of core subjects such as international studies, humanities, science, math, French, physical education...[Read More](https://www.usnews.com/education/best-high-schools/washington/districts/bellevue-school-district/international-school-20739)\\n    \\n    Graduation Rate\\n    \\n    N/A\\n    \\n    Graduation Rate\\n    \\n    College Readiness\\n    \\n    97.8\\n    \\n    College Readiness\\n    \\n    Enrollment 9-12\\n    \\n    315\\n    \\n    Enrollment 9-12\\n    \\n3.  [Interlake Senior High School](https://www.usnews.com/education/best-high-schools/washington/districts/bellevue-school-district/interlake-senior-high-school-20733)\\n    --------------------------------------------------------------------------------------------------------------------------------\\n    \\n    Bellevue, WA\\n    \\n    [Bellevue School District](https://www.usnews.com/education/best-high-schools/washington/districts/bellevue-school-district-109251)\\n    \\n    *   [#3in Seattle, WA Metro Area Rankings](https://www.usnews.com/education/best-high-schools/washington/districts/bellevue-school-district/interlake-senior-high-school-20733)\\n    *   [#181 in National Rankings](https://www.usnews.com/education/best-high-schools/national-rankings)\\n    \\n    Interlake Senior High School is ranked third within Washington. Students have the opportunity to take Advanced Placement® coursework and exams. The AP® participation rate at Interlake Senior...[Read More](https://www.usnews.com/education/best-high-schools/washington/districts/bellevue-school-district/interlake-senior-high-school-20733)\\n    \\n    Graduation Rate\\n    \\n    94%\\n    \\n    Graduation Rate\\n    \\n    College Readiness\\n    \\n    71.0\\n    \\n    College Readiness\\n    \\n    Enrollment 9-12\\n    \\n    1,543\\n    \\n    Enrollment 9-12\\n    \\n\\n5.  [Newport Senior High School](https://www.usnews.com/education/best-high-schools/washington/districts/bellevue-school-district/newport-senior-high-school-20734)\\n    --------------------------------------------------------------------------------------------------------------------------------\\n    \\n    Bellevue, WA\\n    \\n    [Bellevue School District](https://www.usnews.com/education/best-high-schools/washington/districts/bellevue-school-district-109251)\\n    \\n    *   [#4in Seattle, WA Metro Area Rankings](https://www.usnews.com/education/best-high-schools/washington/districts/bellevue-school-district/newport-senior-high-school-20734)\\n    *   [#246 in National Rankings](https://www.usnews.com/education/best-high-schools/national-rankings)\\n    \\n    Newport Senior High School is ranked fourth within Washington. Students have the opportunity to take Advanced Placement® coursework and exams. The AP® participation rate at Newport Senior...[Read More](https://www.usnews.com/education/best-high-schools/washington/districts/bellevue-school-district/newport-senior-high-school-20734)\\n    \\n    Graduation Rate\\n    \\n    96%\\n    \\n    Graduation Rate\\n    \\n    College Readiness\\n    \\n    77.5\\n    \\n    College Readiness\\n    \\n    Enrollment 9-12\\n    \\n    1,726\\n    \\n    Enrollment 9-12\\n    \\n6.  [Raisbeck Aviation High School](https://www.usnews.com/education/best-high-schools/washington/districts/highline-school-district/raisbeck-aviation-high-school-20908)\\n    --------------------------------------------------------------------------------------------------------------------------------\\n    \\n    Tukwila, WA\\n    \\n    [Highline School District](https://www.usnews.com/education/best-high-schools/washington/districts/highline-school-district-112217)\\n    \\n    *   [#5in Seattle, WA Metro Area Rankings](https://www.usnews.com/education/best-high-schools/washington/districts/highline-school-district/raisbeck-aviation-high-school-20908)\\n    *   [#274 in National Rankings](https://www.usnews.com/education/best-high-schools/national-rankings)\\n    \\n    Raisbeck Aviation High School is ranked fifth within Washington. Students have the opportunity to take Advanced Placement® coursework and exams. The AP® participation rate at Raisbeck Aviation...[Read More](https://www.usnews.com/education/best-high-schools/washington/districts/highline-school-district/raisbeck-aviation-high-school-20908)\\n    \\n    Graduation Rate\\n    \\n    N/A\\n    \\n    Graduation Rate\\n    \\n    College Readiness\\n    \\n    62.1\\n    \\n    College Readiness\\n    \\n    Enrollment 9-12\\n    \\n    405\\n    \\n    Enrollment 9-12\\n    \\n7.  [Mercer Island High School](https://www.usnews.com/education/best-high-schools/washington/districts/mercer-island-school-district/mercer-island-high-school-20995)\\n    --------------------------------------------------------------------------------------------------------------------------------\\n    \\n    Mercer Island, WA\\n    \\n    [Mercer Island School District](https://www.usnews.com/education/best-high-schools/washington/districts/mercer-island-school-district-109996)\\n    \\n    *   [#6in Seattle, WA Metro Area Rankings](https://www.usnews.com/education/best-high-schools/washington/districts/mercer-island-school-district/mercer-island-high-school-20995)\\n    *   [#445 in National Rankings](https://www.usnews.com/education/best-high-schools/national-rankings)\\n    \\n    Mercer Island High School is ranked seventh within Washington. Students have the opportunity to take Advanced Placement® coursework and exams. The AP® participation rate at Mercer Island...[Read More](https://www.usnews.com/education/best-high-schools/washington/districts/mercer-island-school-district/mercer-island-high-school-20995)\\n    \\n    Graduation Rate\\n    \\n    92%\\n    \\n    Graduation Rate\\n    \\n    College Readiness\\n    \\n    56.3\\n    \\n    College Readiness\\n    \\n    Enrollment 9-12\\n    \\n    1,524\\n    \\n    Enrollment 9-12\\n    \\n\\n9.  [Issaquah High School](https://www.usnews.com/education/best-high-schools/washington/districts/issaquah-school-district/issaquah-high-school-20920)\\n    --------------------------------------------------------------------------------------------------------------------------------\\n    \\n    Issaquah, WA\\n    \\n    [Issaquah School District](https://www.usnews.com/education/best-high-schools/washington/districts/issaquah-school-district-104291)\\n    \\n    *   [#7in Seattle, WA Metro Area Rankings](https://www.usnews.com/education/best-high-schools/washington/districts/issaquah-school-district/issaquah-high-school-20920)\\n    *   [#447 in National Rankings](https://www.usnews.com/education/best-high-schools/national-rankings)\\n    \\n    Issaquah High School is ranked eighth within Washington. Students have the opportunity to take Advanced Placement® coursework and exams. The AP® participation rate at Issaquah High School...[Read More](https://www.usnews.com/education/best-high-schools/washington/districts/issaquah-school-district/issaquah-high-school-20920)\\n    \\n    Graduation Rate\\n    \\n    97%\\n    \\n    Graduation Rate\\n    \\n    College Readiness\\n    \\n    60.5\\n    \\n    College Readiness\\n    \\n    Enrollment 9-12\\n    \\n    2,412\\n    \\n    Enrollment 9-12\\n    \\n10.  [Bellevue High School](https://www.usnews.com/education/best-high-schools/washington/districts/bellevue-school-district/bellevue-high-school-20732)\\n    --------------------------------------------------------------------------------------------------------------------------------\\n    \\n    Bellevue, WA\\n    \\n    [Bellevue School District](https://www.usnews.com/education/best-high-schools/washington/districts/bellevue-school-district-109251)\\n    \\n    *   [#8in Seattle, WA Metro Area Rankings](https://www.usnews.com/education/best-high-schools/washington/districts/bellevue-school-district/bellevue-high-school-20732)\\n    *   [#486 in National Rankings](https://www.usnews.com/education/best-high-schools/national-rankings)\\n    \\n    Bellevue High School is ranked ninth within Washington. Students have the opportunity to take Advanced Placement® coursework and exams. The AP® participation rate at Bellevue High School...[Read More](https://www.usnews.com/education/best-high-schools/washington/districts/bellevue-school-district/bellevue-high-school-20732)\\n    \\n    Graduation Rate\\n    \\n    92%\\n    \\n    Graduation Rate\\n    \\n    College Readiness\\n    \\n    68.8\\n    \\n    College Readiness\\n    \\n    Enrollment 9-12\\n    \\n    1,517\\n    \\n    Enrollment 9-12\\n    \\n11.  [Vashon Island High School](https://www.usnews.com/education/best-high-schools/washington/districts/vashon-island-school-district/vashon-island-high-school-21267)\\n    --------------------------------------------------------------------------------------------------------------------------------\\n    \\n    Vashon, WA\\n    \\n    [Vashon Island School District](https://www.usnews.com/education/best-high-schools/washington/districts/vashon-island-school-district-104730)\\n    \\n    *   [#9in Seattle, WA Metro Area Rankings](https://www.usnews.com/education/best-high-schools/washington/districts/vashon-island-school-district/vashon-island-high-school-21267)\\n    *   [#642 in National Rankings](https://www.usnews.com/education/best-high-schools/national-rankings)\\n    \\n    Vashon Island High School is ranked 10th within Washington. Students have the opportunity to take Advanced Placement® coursework and exams. The AP® participation rate at Vashon Island High...[Read More](https://www.usnews.com/education/best-high-schools/washington/districts/vashon-island-school-district/vashon-island-high-school-21267)\\n    \\n    Graduation Rate\\n    \\n    96%\\n    \\n    Graduation Rate\\n    \\n    College Readiness\\n    \\n    61.6\\n    \\n    College Readiness\\n    \\n    Enrollment 9-12\\n    \\n    509\\n    \\n    Enrollment 9-12\\n    \\n\\n13.  [Lincoln High School](https://www.usnews.com/education/best-high-schools/washington/districts/seattle-public-schools/lincoln-high-school-409691)\\n    --------------------------------------------------------------------------------------------------------------------------------\\n    \\n    Seattle, WA\\n    \\n    [Seattle Public Schools](https://www.usnews.com/education/best-high-schools/washington/districts/seattle-public-schools-110808)\\n    \\n    *   [#10in Seattle, WA Metro Area Rankings](https://www.usnews.com/education/best-high-schools/washington/districts/seattle-public-schools/lincoln-high-school-409691)\\n    *   [#649 in National Rankings](https://www.usnews.com/education/best-high-schools/national-rankings)\\n    \\n    Lincoln High School is ranked 11th within Washington. Students have the opportunity to take Advanced Placement® coursework and exams. The AP® participation rate at Lincoln High School is...[Read More](https://www.usnews.com/education/best-high-schools/washington/districts/seattle-public-schools/lincoln-high-school-409691)\\n    \\n    Graduation Rate\\n    \\n    96%\\n    \\n    Graduation Rate\\n    \\n    College Readiness\\n    \\n    52.4\\n    \\n    College Readiness\\n    \\n    Enrollment 9-12\\n    \\n    1,653\\n    \\n    Enrollment 9-12\\n    \\n14.  [Ballard High School](https://www.usnews.com/education/best-high-schools/washington/districts/seattle-public-schools/ballard-high-school-21145)\\n    --------------------------------------------------------------------------------------------------------------------------------\\n    \\n    Seattle, WA\\n    \\n    [Seattle Public Schools](https://www.usnews.com/education/best-high-schools/washington/districts/seattle-public-schools-110808)\\n    \\n    *   [#11in Seattle, WA Metro Area Rankings](https://www.usnews.com/education/best-high-schools/washington/districts/seattle-public-schools/ballard-high-school-21145)\\n    *   [#844 in National Rankings](https://www.usnews.com/education/best-high-schools/national-rankings)\\n    \\n    Ballard High School is ranked 13th within Washington. Students have the opportunity to take Advanced Placement® coursework and exams. The AP® participation rate at Ballard High School is...[Read More](https://www.usnews.com/education/best-high-schools/washington/districts/seattle-public-schools/ballard-high-school-21145)\\n    \\n    Graduation Rate\\n    \\n    93%\\n    \\n    Graduation Rate\\n    \\n    College Readiness\\n    \\n    49.1\\n    \\n    College Readiness\\n    \\n    Enrollment 9-12\\n    \\n    1,590\\n    \\n    Enrollment 9-12\\n    \\n15.  [Redmond High School](https://www.usnews.com/education/best-high-schools/washington/districts/lake-washington-school-district/redmond-high-school-20956)\\n    --------------------------------------------------------------------------------------------------------------------------------\\n    \\n    Redmond, WA\\n    \\n    [Lake Washington School District](https://www.usnews.com/education/best-high-schools/washington/districts/lake-washington-school-district-102818)\\n    \\n    *   [#12in Seattle, WA Metro Area Rankings](https://www.usnews.com/education/best-high-schools/washington/districts/lake-washington-school-district/redmond-high-school-20956)\\n    *   [#895 in National Rankings](https://www.usnews.com/education/best-high-schools/national-rankings)\\n    \\n    Redmond High School is ranked 14th within Washington. Students have the opportunity to take Advanced Placement® coursework and exams. The AP® participation rate at Redmond High School is...[Read More](https://www.usnews.com/education/best-high-schools/washington/districts/lake-washington-school-district/redmond-high-school-20956)\\n    \\n    Graduation Rate\\n    \\n    91%\\n    \\n    Graduation Rate\\n    \\n    College Readiness\\n    \\n    48.4\\n    \\n    College Readiness\\n    \\n    Enrollment 9-12\\n    \\n    2,218\\n    \\n    Enrollment 9-12\\n    \\n16.  Exclusive Webinar\\n    \\n    ### AO Advice: How Your High School is Evaluated in the College Admissions Process\\n    \\n    Get the inside scoop on how colleges assess your high school and its course rigor. Featuring a former Admissions Officer, you'll gain crucial insights and actionable strategies during this 60-min webinar.\\n    \\n    [Register Now](https://www.usnews.com/education/webiner-how-your-high-school-is-evaluated-in-the-college-admissions-process)\\n    \\n17.  [Garfield High School](https://www.usnews.com/education/best-high-schools/washington/districts/seattle-public-schools/garfield-high-school-21149)\\n    --------------------------------------------------------------------------------------------------------------------------------\\n    \\n    Seattle, WA\\n    \\n    [Seattle Public Schools](https://www.usnews.com/education/best-high-schools/washington/districts/seattle-public-schools-110808)\\n    \\n    *   [#13in Seattle, WA Metro Area Rankings](https://www.usnews.com/education/best-high-schools/washington/districts/seattle-public-schools/garfield-high-school-21149)\\n    *   [#942 in National Rankings](https://www.usnews.com/education/best-high-schools/national-rankings)\\n    \\n    Garfield High School is ranked 15th within Washington. Students have the opportunity to take Advanced Placement® coursework and exams. The AP® participation rate at Garfield High School...[Read More](https://www.usnews.com/education/best-high-schools/washington/districts/seattle-public-schools/garfield-high-school-21149)\\n    \\n    Graduation Rate\\n    \\n    93%\\n    \\n    Graduation Rate\\n    \\n    College Readiness\\n    \\n    47.8\\n    \\n    College Readiness\\n    \\n    Enrollment 9-12\\n    \\n    1,642\\n    \\n    Enrollment 9-12\\n    \\n18.  [Woodinville High School](https://www.usnews.com/education/best-high-schools/washington/districts/northshore-school-district/woodinville-high-school-21054)\\n    --------------------------------------------------------------------------------------------------------------------------------\\n    \\n    Woodinville, WA\\n    \\n    [Northshore School District](https://www.usnews.com/education/best-high-schools/washington/districts/northshore-school-district-100572)\\n    \\n    *   [#14in Seattle, WA Metro Area Rankings](https://www.usnews.com/education/best-high-schools/washington/districts/northshore-school-district/woodinville-high-school-21054)\\n    *   [#989 in National Rankings](https://www.usnews.com/education/best-high-schools/national-rankings)\\n    \\n    Woodinville High School is ranked 16th within Washington. Students have the opportunity to take Advanced Placement® coursework and exams. The AP® participation rate at Woodinville High...[Read More](https://www.usnews.com/education/best-high-schools/washington/districts/northshore-school-district/woodinville-high-school-21054)\\n    \\n    Graduation Rate\\n    \\n    N/A\\n    \\n    Graduation Rate\\n    \\n    College Readiness\\n    \\n    51.8\\n    \\n    College Readiness\\n    \\n    Enrollment 9-12\\n    \\n    1,621\\n    \\n    Enrollment 9-12\\n    \\n19.  [Roosevelt High School](https://www.usnews.com/education/best-high-schools/washington/districts/seattle-public-schools/roosevelt-high-school-21155)\\n    --------------------------------------------------------------------------------------------------------------------------------\\n    \\n    Seattle, WA\\n    \\n    [Seattle Public Schools](https://www.usnews.com/education/best-high-schools/washington/districts/seattle-public-schools-110808)\\n    \\n    *   [#15in Seattle, WA Metro Area Rankings](https://www.usnews.com/education/best-high-schools/washington/districts/seattle-public-schools/roosevelt-high-school-21155)\\n    *   [#1,055 in National Rankings](https://www.usnews.com/education/best-high-schools/national-rankings)\\n    \\n    Roosevelt High School is ranked 17th within Washington. Students have the opportunity to take Advanced Placement® coursework and exams. The AP® participation rate at Roosevelt High School...[Read More](https://www.usnews.com/education/best-high-schools/washington/districts/seattle-public-schools/roosevelt-high-school-21155)\\n    \\n    Graduation Rate\\n    \\n    92%\\n    \\n    Graduation Rate\\n    \\n    College Readiness\\n    \\n    58.4\\n    \\n    College Readiness\\n    \\n    Enrollment 9-12\\n    \\n    1,541\\n    \\n    Enrollment 9-12\\n    \\n\\n21.  [Lake Washington High School](https://www.usnews.com/education/best-high-schools/washington/districts/lake-washington-school-district/lake-washington-high-school-20955)\\n    --------------------------------------------------------------------------------------------------------------------------------\\n    \\n    Kirkland, WA\\n    \\n    [Lake Washington School District](https://www.usnews.com/education/best-high-schools/washington/districts/lake-washington-school-district-102818)\\n    \\n    *   [#16in Seattle, WA Metro Area Rankings](https://www.usnews.com/education/best-high-schools/washington/districts/lake-washington-school-district/lake-washington-high-school-20955)\\n    *   [#1,071 in National Rankings](https://www.usnews.com/education/best-high-schools/national-rankings)\\n    \\n    Lake Washington High School is ranked 18th within Washington. Students have the opportunity to take Advanced Placement® coursework and exams. The AP® participation rate at Lake Washington...[Read More](https://www.usnews.com/education/best-high-schools/washington/districts/lake-washington-school-district/lake-washington-high-school-20955)\\n    \\n    Graduation Rate\\n    \\n    96%\\n    \\n    Graduation Rate\\n    \\n    College Readiness\\n    \\n    44.2\\n    \\n    College Readiness\\n    \\n    Enrollment 9-12\\n    \\n    2,015\\n    \\n    Enrollment 9-12\\n    \\n22.  [Science and Math Institute](https://www.usnews.com/education/best-high-schools/washington/districts/tacoma-school-district/science-and-math-institute-92352)\\n    --------------------------------------------------------------------------------------------------------------------------------\\n    \\n    Tacoma, WA\\n    \\n    [Tacoma School District](https://www.usnews.com/education/best-high-schools/washington/districts/tacoma-school-district-103844)\\n    \\n    *   [#17in Seattle, WA Metro Area Rankings](https://www.usnews.com/education/best-high-schools/washington/districts/tacoma-school-district/science-and-math-institute-92352)\\n    *   [#1,279 in National Rankings](https://www.usnews.com/education/best-high-schools/national-rankings)\\n    \\n    Science and Math Institute is ranked 20th within Washington. Students have the opportunity to take Advanced Placement® coursework and exams. The AP® participation rate at Science and Math...[Read More](https://www.usnews.com/education/best-high-schools/washington/districts/tacoma-school-district/science-and-math-institute-92352)\\n    \\n    Graduation Rate\\n    \\n    N/A\\n    \\n    Graduation Rate\\n    \\n    College Readiness\\n    \\n    49.1\\n    \\n    College Readiness\\n    \\n    Enrollment 9-12\\n    \\n    610\\n    \\n    Enrollment 9-12\\n    \\n23.  [Henry M. Jackson High School](https://www.usnews.com/education/best-high-schools/washington/districts/everett-school-district/henry-m-jackson-high-school-20856)\\n    --------------------------------------------------------------------------------------------------------------------------------\\n    \\n    Mill Creek, WA\\n    \\n    [Everett School District](https://www.usnews.com/education/best-high-schools/washington/districts/everett-school-district-109158)\\n    \\n    *   [#18in Seattle, WA Metro Area Rankings](https://www.usnews.com/education/best-high-schools/washington/districts/everett-school-district/henry-m-jackson-high-school-20856)\\n    *   [#1,282 in National Rankings](https://www.usnews.com/education/best-high-schools/national-rankings)\\n    \\n    Henry M. Jackson High School is ranked 21st within Washington. Students have the opportunity to take Advanced Placement® coursework and exams. The AP® participation rate at Henry M. Jackson...[Read More](https://www.usnews.com/education/best-high-schools/washington/districts/everett-school-district/henry-m-jackson-high-school-20856)\\n    \\n    Graduation Rate\\n    \\n    97%\\n    \\n    Graduation Rate\\n    \\n    College Readiness\\n    \\n    47.4\\n    \\n    College Readiness\\n    \\n    Enrollment 9-12\\n    \\n    2,155\\n    \\n    Enrollment 9-12\\n    \\n\\n25.  [Liberty Sr. High School](https://www.usnews.com/education/best-high-schools/washington/districts/issaquah-school-district/liberty-sr-high-school-20921)\\n    --------------------------------------------------------------------------------------------------------------------------------\\n    \\n    Renton, WA\\n    \\n    [Issaquah School District](https://www.usnews.com/education/best-high-schools/washington/districts/issaquah-school-district-104291)\\n    \\n    *   [#19in Seattle, WA Metro Area Rankings](https://www.usnews.com/education/best-high-schools/washington/districts/issaquah-school-district/liberty-sr-high-school-20921)\\n    *   [#1,339 in National Rankings](https://www.usnews.com/education/best-high-schools/national-rankings)\\n    \\n    Liberty Sr. High School is ranked 22nd within Washington. Students have the opportunity to take Advanced Placement® coursework and exams. The AP® participation rate at Liberty Sr. High...[Read More](https://www.usnews.com/education/best-high-schools/washington/districts/issaquah-school-district/liberty-sr-high-school-20921)\\n    \\n    Graduation Rate\\n    \\n    97%\\n    \\n    Graduation Rate\\n    \\n    College Readiness\\n    \\n    45.8\\n    \\n    College Readiness\\n    \\n    Enrollment 9-12\\n    \\n    1,476\\n    \\n    Enrollment 9-12\\n    \\n26.  [North Creek High School](https://www.usnews.com/education/best-high-schools/washington/districts/northshore-school-district/north-creek-high-school-201697)\\n    --------------------------------------------------------------------------------------------------------------------------------\\n    \\n    Bothell, WA\\n    \\n    [Northshore School District](https://www.usnews.com/education/best-high-schools/washington/districts/northshore-school-district-100572)\\n    \\n    *   [#20in Seattle, WA Metro Area Rankings](https://www.usnews.com/education/best-high-schools/washington/districts/northshore-school-district/north-creek-high-school-201697)\\n    *   [#1,357 in National Rankings](https://www.usnews.com/education/best-high-schools/national-rankings)\\n    \\n    North Creek High School is ranked 23rd within Washington. Students have the opportunity to take Advanced Placement® coursework and exams. The AP® participation rate at North Creek High...[Read More](https://www.usnews.com/education/best-high-schools/washington/districts/northshore-school-district/north-creek-high-school-201697)\\n    \\n    Graduation Rate\\n    \\n    97%\\n    \\n    Graduation Rate\\n    \\n    College Readiness\\n    \\n    48.3\\n    \\n    College Readiness\\n    \\n    Enrollment 9-12\\n    \\n    1,781\\n    \\n    Enrollment 9-12\\n    \\n27.  [Skyline High School](https://www.usnews.com/education/best-high-schools/washington/districts/issaquah-school-district/skyline-high-school-20925)\\n    --------------------------------------------------------------------------------------------------------------------------------\\n    \\n    Sammamish, WA\\n    \\n    [Issaquah School District](https://www.usnews.com/education/best-high-schools/washington/districts/issaquah-school-district-104291)\\n    \\n    *   [#21in Seattle, WA Metro Area Rankings](https://www.usnews.com/education/best-high-schools/washington/districts/issaquah-school-district/skyline-high-school-20925)\\n    *   [#1,392 in National Rankings](https://www.usnews.com/education/best-high-schools/national-rankings)\\n    \\n    Skyline High School is ranked 25th within Washington. Students have the opportunity to take International Baccalaureate coursework and exams. The IB participation rate at Skyline High School is 40%....[Read More](https://www.usnews.com/education/best-high-schools/washington/districts/issaquah-school-district/skyline-high-school-20925)\\n    \\n    Graduation Rate\\n    \\n    98%\\n    \\n    Graduation Rate\\n    \\n    College Readiness\\n    \\n    38.3\\n    \\n    College Readiness\\n    \\n    Enrollment 9-12\\n    \\n    2,170\\n    \\n    Enrollment 9-12\\n    \\n\\n29.  [Mount Si High School](https://www.usnews.com/education/best-high-schools/washington/districts/snoqualmie-valley-school-district/mount-si-high-school-21186)\\n    --------------------------------------------------------------------------------------------------------------------------------\\n    \\n    Snoqualmie, WA\\n    \\n    [Snoqualmie Valley School District](https://www.usnews.com/education/best-high-schools/washington/districts/snoqualmie-valley-school-district-112270)\\n    \\n    *   [#22in Seattle, WA Metro Area Rankings](https://www.usnews.com/education/best-high-schools/washington/districts/snoqualmie-valley-school-district/mount-si-high-school-21186)\\n    *   [#1,526 in National Rankings](https://www.usnews.com/education/best-high-schools/national-rankings)\\n    \\n    Mount Si High School is ranked 27th within Washington. Students have the opportunity to take Advanced Placement® coursework and exams. The AP® participation rate at Mount Si High School...[Read More](https://www.usnews.com/education/best-high-schools/washington/districts/snoqualmie-valley-school-district/mount-si-high-school-21186)\\n    \\n    Graduation Rate\\n    \\n    97%\\n    \\n    Graduation Rate\\n    \\n    College Readiness\\n    \\n    43.3\\n    \\n    College Readiness\\n    \\n    Enrollment 9-12\\n    \\n    2,081\\n    \\n    Enrollment 9-12\\n    \\n30.  [Steilacoom High School](https://www.usnews.com/education/best-high-schools/washington/districts/steilacoom-hist-school-district/steilacoom-high-school-158558)\\n    --------------------------------------------------------------------------------------------------------------------------------\\n    \\n    Steilacoom, WA\\n    \\n    [Steilacoom Hist. School District](https://www.usnews.com/education/best-high-schools/washington/districts/steilacoom-hist-school-district-109555)\\n    \\n    *   [#23in Seattle, WA Metro Area Rankings](https://www.usnews.com/education/best-high-schools/washington/districts/steilacoom-hist-school-district/steilacoom-high-school-158558)\\n    *   [#1,990 in National Rankings](https://www.usnews.com/education/best-high-schools/national-rankings)\\n    \\n    Steilacoom High School is ranked 33rd within Washington. Students have the opportunity to take Advanced Placement® coursework and exams. The AP® participation rate at Steilacoom High School...[Read More](https://www.usnews.com/education/best-high-schools/washington/districts/steilacoom-hist-school-district/steilacoom-high-school-158558)\\n    \\n    Graduation Rate\\n    \\n    94%\\n    \\n    Graduation Rate\\n    \\n    College Readiness\\n    \\n    34.7\\n    \\n    College Readiness\\n    \\n    Enrollment 9-12\\n    \\n    946\\n    \\n    Enrollment 9-12\\n    \\n31.  [Kamiak High School](https://www.usnews.com/education/best-high-schools/washington/districts/mukilteo-school-district/kamiak-high-school-21021)\\n    --------------------------------------------------------------------------------------------------------------------------------\\n    \\n    Mukilteo, WA\\n    \\n    [Mukilteo School District](https://www.usnews.com/education/best-high-schools/washington/districts/mukilteo-school-district-104419)\\n    \\n    *   [#24in Seattle, WA Metro Area Rankings](https://www.usnews.com/education/best-high-schools/washington/districts/mukilteo-school-district/kamiak-high-school-21021)\\n    *   [#2,092 in National Rankings](https://www.usnews.com/education/best-high-schools/national-rankings)\\n    \\n    Kamiak High School is ranked 34th within Washington. Students have the opportunity to take Advanced Placement® coursework and exams. The AP® participation rate at Kamiak High School is...[Read More](https://www.usnews.com/education/best-high-schools/washington/districts/mukilteo-school-district/kamiak-high-school-21021)\\n    \\n    Graduation Rate\\n    \\n    93%\\n    \\n    Graduation Rate\\n    \\n    College Readiness\\n    \\n    25.5\\n    \\n    College Readiness\\n    \\n    Enrollment 9-12\\n    \\n    2,250\\n    \\n    Enrollment 9-12\\n    \\n\\n33.  [Juanita High School](https://www.usnews.com/education/best-high-schools/washington/districts/lake-washington-school-district/juanita-high-school-20954)\\n    --------------------------------------------------------------------------------------------------------------------------------\\n    \\n    Kirkland, WA\\n    \\n    [Lake Washington School District](https://www.usnews.com/education/best-high-schools/washington/districts/lake-washington-school-district-102818)\\n    \\n    *   [#25in Seattle, WA Metro Area Rankings](https://www.usnews.com/education/best-high-schools/washington/districts/lake-washington-school-district/juanita-high-school-20954)\\n    *   [#2,122 in National Rankings](https://www.usnews.com/education/best-high-schools/national-rankings)\\n    \\n    Juanita High School is ranked 35th within Washington. Students have the opportunity to take Advanced Placement® coursework and exams. The AP® participation rate at Juanita High School is...[Read More](https://www.usnews.com/education/best-high-schools/washington/districts/lake-washington-school-district/juanita-high-school-20954)\\n    \\n    Graduation Rate\\n    \\n    92%\\n    \\n    Graduation Rate\\n    \\n    College Readiness\\n    \\n    37.2\\n    \\n    College Readiness\\n    \\n    Enrollment 9-12\\n    \\n    1,695\\n    \\n    Enrollment 9-12\\n    \\n34.  [Edmonds Woodway High School](https://www.usnews.com/education/best-high-schools/washington/districts/edmonds-school-district/edmonds-woodway-high-school-20842)\\n    --------------------------------------------------------------------------------------------------------------------------------\\n    \\n    Edmonds, WA\\n    \\n    [Edmonds School District](https://www.usnews.com/education/best-high-schools/washington/districts/edmonds-school-district-107106)\\n    \\n    *   [#26in Seattle, WA Metro Area Rankings](https://www.usnews.com/education/best-high-schools/washington/districts/edmonds-school-district/edmonds-woodway-high-school-20842)\\n    *   [#2,251 in National Rankings](https://www.usnews.com/education/best-high-schools/national-rankings)\\n    \\n    Edmonds Woodway High School is ranked 37th within Washington. Students have the opportunity to take International Baccalaureate coursework and exams. The IB participation rate at Edmonds Woodway...[Read More](https://www.usnews.com/education/best-high-schools/washington/districts/edmonds-school-district/edmonds-woodway-high-school-20842)\\n    \\n    Graduation Rate\\n    \\n    87%\\n    \\n    Graduation Rate\\n    \\n    College Readiness\\n    \\n    33.9\\n    \\n    College Readiness\\n    \\n    Enrollment 9-12\\n    \\n    1,547\\n    \\n    Enrollment 9-12\\n    \\n35.  [Shorecrest High School](https://www.usnews.com/education/best-high-schools/washington/districts/shoreline-school-district/shorecrest-high-school-21175)\\n    --------------------------------------------------------------------------------------------------------------------------------\\n    \\n    Shoreline, WA\\n    \\n    [Shoreline School District](https://www.usnews.com/education/best-high-schools/washington/districts/shoreline-school-district-104395)\\n    \\n    *   [#27in Seattle, WA Metro Area Rankings](https://www.usnews.com/education/best-high-schools/washington/districts/shoreline-school-district/shorecrest-high-school-21175)\\n    *   [#2,330 in National Rankings](https://www.usnews.com/education/best-high-schools/national-rankings)\\n    \\n    Shorecrest High School is ranked 38th within Washington. Students have the opportunity to take Advanced Placement® coursework and exams. The AP® participation rate at Shorecrest High School...[Read More](https://www.usnews.com/education/best-high-schools/washington/districts/shoreline-school-district/shorecrest-high-school-21175)\\n    \\n    Graduation Rate\\n    \\n    92%\\n    \\n    Graduation Rate\\n    \\n    College Readiness\\n    \\n    37.4\\n    \\n    College Readiness\\n    \\n    Enrollment 9-12\\n    \\n    1,507\\n    \\n    Enrollment 9-12\\n    \\n\\n37.  [Cleveland High School](https://www.usnews.com/education/best-high-schools/washington/districts/seattle-public-schools/cleveland-high-school-21147)\\n    --------------------------------------------------------------------------------------------------------------------------------\\n    \\n    Seattle, WA\\n    \\n    [Seattle Public Schools](https://www.usnews.com/education/best-high-schools/washington/districts/seattle-public-schools-110808)\\n    \\n    *   [#28in Seattle, WA Metro Area Rankings](https://www.usnews.com/education/best-high-schools/washington/districts/seattle-public-schools/cleveland-high-school-21147)\\n    *   [#2,398 in National Rankings](https://www.usnews.com/education/best-high-schools/national-rankings)\\n    \\n    Cleveland High School is ranked 39th within Washington. Students have the opportunity to take Advanced Placement® coursework and exams. The AP® participation rate at Cleveland High School...[Read More](https://www.usnews.com/education/best-high-schools/washington/districts/seattle-public-schools/cleveland-high-school-21147)\\n    \\n    Graduation Rate\\n    \\n    N/A\\n    \\n    Graduation Rate\\n    \\n    College Readiness\\n    \\n    23.4\\n    \\n    College Readiness\\n    \\n    Enrollment 9-12\\n    \\n    902\\n    \\n    Enrollment 9-12\\n    \\n38.  [Shorewood High School](https://www.usnews.com/education/best-high-schools/washington/districts/shoreline-school-district/shorewood-high-school-21176)\\n    --------------------------------------------------------------------------------------------------------------------------------\\n    \\n    Shoreline, WA\\n    \\n    [Shoreline School District](https://www.usnews.com/education/best-high-schools/washington/districts/shoreline-school-district-104395)\\n    \\n    *   [#29in Seattle, WA Metro Area Rankings](https://www.usnews.com/education/best-high-schools/washington/districts/shoreline-school-district/shorewood-high-school-21176)\\n    *   [#2,404 in National Rankings](https://www.usnews.com/education/best-high-schools/national-rankings)\\n    \\n    Shorewood High School is ranked 40th within Washington. Students have the opportunity to take Advanced Placement® coursework and exams. The AP® participation rate at Shorewood High School...[Read More](https://www.usnews.com/education/best-high-schools/washington/districts/shoreline-school-district/shorewood-high-school-21176)\\n    \\n    Graduation Rate\\n    \\n    89%\\n    \\n    Graduation Rate\\n    \\n    College Readiness\\n    \\n    35.1\\n    \\n    College Readiness\\n    \\n    Enrollment 9-12\\n    \\n    1,538\\n    \\n    Enrollment 9-12\\n    \\n39.  [Mountlake Terrace High School](https://www.usnews.com/education/best-high-schools/washington/districts/edmonds-school-district/mountlake-terrace-high-school-20840)\\n    --------------------------------------------------------------------------------------------------------------------------------\\n    \\n    Mtlk Terrace, WA\\n    \\n    [Edmonds School District](https://www.usnews.com/education/best-high-schools/washington/districts/edmonds-school-district-107106)\\n    \\n    *   [#30in Seattle, WA Metro Area Rankings](https://www.usnews.com/education/best-high-schools/washington/districts/edmonds-school-district/mountlake-terrace-high-school-20840)\\n    *   [#2,581 in National Rankings](https://www.usnews.com/education/best-high-schools/national-rankings)\\n    \\n    Mountlake Terrace High School is ranked 42nd within Washington. Students have the opportunity to take Advanced Placement® coursework and exams. The AP® participation rate at Mountlake Terrace...[Read More](https://www.usnews.com/education/best-high-schools/washington/districts/edmonds-school-district/mountlake-terrace-high-school-20840)\\n    \\n    Graduation Rate\\n    \\n    87%\\n    \\n    Graduation Rate\\n    \\n    College Readiness\\n    \\n    29.6\\n    \\n    College Readiness\\n    \\n    Enrollment 9-12\\n    \\n    1,467\\n    \\n    Enrollment 9-12\\n    \\n\\n41.  [Curtis Senior High School](https://www.usnews.com/education/best-high-schools/washington/districts/university-place-school-district/curtis-senior-high-school-21255)\\n    --------------------------------------------------------------------------------------------------------------------------------\\n    \\n    University Place, WA\\n    \\n    [University Place School District](https://www.usnews.com/education/best-high-schools/washington/districts/university-place-school-district-112341)\\n    \\n    *   [#31in Seattle, WA Metro Area Rankings](https://www.usnews.com/education/best-high-schools/washington/districts/university-place-school-district/curtis-senior-high-school-21255)\\n    *   [#2,595 in National Rankings](https://www.usnews.com/education/best-high-schools/national-rankings)\\n    \\n    Curtis Senior High School is ranked 43rd within Washington. Students have the opportunity to take Advanced Placement® coursework and exams. The AP® participation rate at Curtis Senior High...[Read More](https://www.usnews.com/education/best-high-schools/washington/districts/university-place-school-district/curtis-senior-high-school-21255)\\n    \\n    Graduation Rate\\n    \\n    94%\\n    \\n    Graduation Rate\\n    \\n    College Readiness\\n    \\n    23.3\\n    \\n    College Readiness\\n    \\n    Enrollment 9-12\\n    \\n    1,349\\n    \\n    Enrollment 9-12\\n    \\n42.  [Ingraham High School](https://www.usnews.com/education/best-high-schools/washington/districts/seattle-public-schools/ingraham-high-school-21150)\\n    --------------------------------------------------------------------------------------------------------------------------------\\n    \\n    Seattle, WA\\n    \\n    [Seattle Public Schools](https://www.usnews.com/education/best-high-schools/washington/districts/seattle-public-schools-110808)\\n    \\n    *   [#32in Seattle, WA Metro Area Rankings](https://www.usnews.com/education/best-high-schools/washington/districts/seattle-public-schools/ingraham-high-school-21150)\\n    *   [#2,607 in National Rankings](https://www.usnews.com/education/best-high-schools/national-rankings)\\n    \\n    Ingraham High School is ranked 44th within Washington. Students have the opportunity to take Advanced Placement® coursework and exams. The AP® participation rate at Ingraham High School...[Read More](https://www.usnews.com/education/best-high-schools/washington/districts/seattle-public-schools/ingraham-high-school-21150)\\n    \\n    Graduation Rate\\n    \\n    89%\\n    \\n    Graduation Rate\\n    \\n    College Readiness\\n    \\n    27.3\\n    \\n    College Readiness\\n    \\n    Enrollment 9-12\\n    \\n    1,452\\n    \\n    Enrollment 9-12\\n    \\n43.  [West Seattle High School](https://www.usnews.com/education/best-high-schools/washington/districts/seattle-public-schools/west-seattle-high-school-21156)\\n    --------------------------------------------------------------------------------------------------------------------------------\\n    \\n    Seattle, WA\\n    \\n    [Seattle Public Schools](https://www.usnews.com/education/best-high-schools/washington/districts/seattle-public-schools-110808)\\n    \\n    *   [#33in Seattle, WA Metro Area Rankings](https://www.usnews.com/education/best-high-schools/washington/districts/seattle-public-schools/west-seattle-high-school-21156)\\n    *   [#2,661 in National Rankings](https://www.usnews.com/education/best-high-schools/national-rankings)\\n    \\n    West Seattle High School is ranked 45th within Washington. Students have the opportunity to take Advanced Placement® coursework and exams. The AP® participation rate at West Seattle High...[Read More](https://www.usnews.com/education/best-high-schools/washington/districts/seattle-public-schools/west-seattle-high-school-21156)\\n    \\n    Graduation Rate\\n    \\n    91%\\n    \\n    Graduation Rate\\n    \\n    College Readiness\\n    \\n    31.3\\n    \\n    College Readiness\\n    \\n    Enrollment 9-12\\n    \\n    1,329\\n    \\n    Enrollment 9-12\\n    \\n\\n45.  [Gig Harbor High School](https://www.usnews.com/education/best-high-schools/washington/districts/peninsula-school-district/gig-harbor-high-school-21092)\\n    --------------------------------------------------------------------------------------------------------------------------------\\n    \\n    Gig Harbor, WA\\n    \\n    [Peninsula School District](https://www.usnews.com/education/best-high-schools/washington/districts/peninsula-school-district-112455)\\n    \\n    *   [#34in Seattle, WA Metro Area Rankings](https://www.usnews.com/education/best-high-schools/washington/districts/peninsula-school-district/gig-harbor-high-school-21092)\\n    *   [#2,871 in National Rankings](https://www.usnews.com/education/best-high-schools/national-rankings)\\n    \\n    Gig Harbor High School is ranked 47th within Washington. Students have the opportunity to take Advanced Placement® coursework and exams. The AP® participation rate at Gig Harbor High School...[Read More](https://www.usnews.com/education/best-high-schools/washington/districts/peninsula-school-district/gig-harbor-high-school-21092)\\n    \\n    Graduation Rate\\n    \\n    93%\\n    \\n    Graduation Rate\\n    \\n    College Readiness\\n    \\n    32.8\\n    \\n    College Readiness\\n    \\n    Enrollment 9-12\\n    \\n    1,435\\n    \\n    Enrollment 9-12\\n    \\n46.  [Tahoma Senior High School](https://www.usnews.com/education/best-high-schools/washington/districts/tahoma-school-district/tahoma-senior-high-school-21236)\\n    --------------------------------------------------------------------------------------------------------------------------------\\n    \\n    Maple Valley, WA\\n    \\n    [Tahoma School District](https://www.usnews.com/education/best-high-schools/washington/districts/tahoma-school-district-102796)\\n    \\n    *   [#35in Seattle, WA Metro Area Rankings](https://www.usnews.com/education/best-high-schools/washington/districts/tahoma-school-district/tahoma-senior-high-school-21236)\\n    *   [#2,951 in National Rankings](https://www.usnews.com/education/best-high-schools/national-rankings)\\n    \\n    Tahoma Senior High School is ranked 49th within Washington. Students have the opportunity to take Advanced Placement® coursework and exams. The AP® participation rate at Tahoma Senior High...[Read More](https://www.usnews.com/education/best-high-schools/washington/districts/tahoma-school-district/tahoma-senior-high-school-21236)\\n    \\n    Graduation Rate\\n    \\n    94%\\n    \\n    Graduation Rate\\n    \\n    College Readiness\\n    \\n    35.8\\n    \\n    College Readiness\\n    \\n    Enrollment 9-12\\n    \\n    2,790\\n    \\n    Enrollment 9-12\\n    \\n47.  [Inglemoor High School](https://www.usnews.com/education/best-high-schools/washington/districts/northshore-school-district/inglemoor-high-school-21051)\\n    --------------------------------------------------------------------------------------------------------------------------------\\n    \\n    Kenmore, WA\\n    \\n    [Northshore School District](https://www.usnews.com/education/best-high-schools/washington/districts/northshore-school-district-100572)\\n    \\n    *   [#36in Seattle, WA Metro Area Rankings](https://www.usnews.com/education/best-high-schools/washington/districts/northshore-school-district/inglemoor-high-school-21051)\\n    *   [#2,954 in National Rankings](https://www.usnews.com/education/best-high-schools/national-rankings)\\n    \\n    Inglemoor High School is ranked 50th within Washington. Students have the opportunity to take International Baccalaureate coursework and exams. The IB participation rate at Inglemoor High School...[Read More](https://www.usnews.com/education/best-high-schools/washington/districts/northshore-school-district/inglemoor-high-school-21051)\\n    \\n    Graduation Rate\\n    \\n    96%\\n    \\n    Graduation Rate\\n    \\n    College Readiness\\n    \\n    27.1\\n    \\n    College Readiness\\n    \\n    Enrollment 9-12\\n    \\n    1,542\\n    \\n    Enrollment 9-12\\n    \\n\\n49.  [Hazen Senior High School](https://www.usnews.com/education/best-high-schools/washington/districts/renton-school-district/hazen-senior-high-school-21121)\\n    --------------------------------------------------------------------------------------------------------------------------------\\n    \\n    Renton, WA\\n    \\n    [Renton School District](https://www.usnews.com/education/best-high-schools/washington/districts/renton-school-district-110593)\\n    \\n    *   [#37in Seattle, WA Metro Area Rankings](https://www.usnews.com/education/best-high-schools/washington/districts/renton-school-district/hazen-senior-high-school-21121)\\n    *   [#3,303 in National Rankings](https://www.usnews.com/education/best-high-schools/national-rankings)\\n    \\n    Hazen Senior High School is ranked 51st within Washington. Students have the opportunity to take Advanced Placement® coursework and exams. The AP® participation rate at Hazen Senior High...[Read More](https://www.usnews.com/education/best-high-schools/washington/districts/renton-school-district/hazen-senior-high-school-21121)\\n    \\n    Graduation Rate\\n    \\n    91%\\n    \\n    Graduation Rate\\n    \\n    College Readiness\\n    \\n    32.5\\n    \\n    College Readiness\\n    \\n    Enrollment 9-12\\n    \\n    1,871\\n    \\n    Enrollment 9-12\\n    \\n50.  [Puyallup High School](https://www.usnews.com/education/best-high-schools/washington/districts/puyallup-school-district/puyallup-high-school-21105)\\n    --------------------------------------------------------------------------------------------------------------------------------\\n    \\n    Puyallup, WA\\n    \\n    [Puyallup School District](https://www.usnews.com/education/best-high-schools/washington/districts/puyallup-school-district-105711)\\n    \\n    *   [#38in Seattle, WA Metro Area Rankings](https://www.usnews.com/education/best-high-schools/washington/districts/puyallup-school-district/puyallup-high-school-21105)\\n    *   [#3,413 in National Rankings](https://www.usnews.com/education/best-high-schools/national-rankings)\\n    \\n    Puyallup High School is ranked 54th within Washington. Students have the opportunity to take Advanced Placement® coursework and exams. The AP® participation rate at Puyallup High School...[Read More](https://www.usnews.com/education/best-high-schools/washington/districts/puyallup-school-district/puyallup-high-school-21105)\\n    \\n    Graduation Rate\\n    \\n    90%\\n    \\n    Graduation Rate\\n    \\n    College Readiness\\n    \\n    31.3\\n    \\n    College Readiness\\n    \\n    Enrollment 9-12\\n    \\n    1,701\\n    \\n    Enrollment 9-12\\n    \\n51.  [Sammamish Senior High School](https://www.usnews.com/education/best-high-schools/washington/districts/bellevue-school-district/sammamish-senior-high-school-20736)\\n    --------------------------------------------------------------------------------------------------------------------------------\\n    \\n    Bellevue, WA\\n    \\n    [Bellevue School District](https://www.usnews.com/education/best-high-schools/washington/districts/bellevue-school-district-109251)\\n    \\n    *   [#39in Seattle, WA Metro Area Rankings](https://www.usnews.com/education/best-high-schools/washington/districts/bellevue-school-district/sammamish-senior-high-school-20736)\\n    *   [#3,524 in National Rankings](https://www.usnews.com/education/best-high-schools/national-rankings)\\n    \\n    Sammamish Senior High School is ranked 55th within Washington. Students have the opportunity to take Advanced Placement® coursework and exams. The AP® participation rate at Sammamish Senior...[Read More](https://www.usnews.com/education/best-high-schools/washington/districts/bellevue-school-district/sammamish-senior-high-school-20736)\\n    \\n    Graduation Rate\\n    \\n    92%\\n    \\n    Graduation Rate\\n    \\n    College Readiness\\n    \\n    45.4\\n    \\n    College Readiness\\n    \\n    Enrollment 9-12\\n    \\n    1,275\\n    \\n    Enrollment 9-12\\n    \\n\\n53.  [Kentridge High School](https://www.usnews.com/education/best-high-schools/washington/districts/kent-school-district/kentridge-high-school-20936)\\n    --------------------------------------------------------------------------------------------------------------------------------\\n    \\n    Kent, WA\\n    \\n    [Kent School District](https://www.usnews.com/education/best-high-schools/washington/districts/kent-school-district-102014)\\n    \\n    *   [#40in Seattle, WA Metro Area Rankings](https://www.usnews.com/education/best-high-schools/washington/districts/kent-school-district/kentridge-high-school-20936)\\n    *   [#3,720 in National Rankings](https://www.usnews.com/education/best-high-schools/national-rankings)\\n    \\n    Kentridge High School is ranked 59th within Washington. Students have the opportunity to take Advanced Placement® coursework and exams. The AP® participation rate at Kentridge High School...[Read More](https://www.usnews.com/education/best-high-schools/washington/districts/kent-school-district/kentridge-high-school-20936)\\n    \\n    Graduation Rate\\n    \\n    90%\\n    \\n    Graduation Rate\\n    \\n    College Readiness\\n    \\n    20.6\\n    \\n    College Readiness\\n    \\n    Enrollment 9-12\\n    \\n    2,034\\n    \\n    Enrollment 9-12\\n    \\n\\nLoad More\\n\\nAP and Advanced Placement are registered trademarks of the [College Board](https://www.collegeboard.org/). Used with permission.\\n\\nInternational Baccalaureate (IB) data provided by International Baccalaureate of North America. Used with permission.\\n\\n[Best Colleges](https://www.usnews.com/best-colleges)\\n\\n[National Universities](https://www.usnews.com/best-colleges/rankings/national-universities)\\n\\n[Liberal Arts Colleges](https://www.usnews.com/best-colleges/rankings/national-liberal-arts-colleges)\\n\\n[Regional Universities](https://www.usnews.com/best-colleges/rankings/regional-universities)\\n\\n[Regional Colleges](https://www.usnews.com/best-colleges/rankings/regional-colleges)\\n\\n[Business Programs](https://www.usnews.com/best-colleges/rankings/business)\\n\\n[Engineering Programs](https://www.usnews.com/best-colleges/rankings/engineering-doctorate)\\n\\n[Grad Schools](https://www.usnews.com/best-graduate-schools)\\n\\n[MBA Programs](https://www.usnews.com/best-graduate-schools/top-business-schools)\\n\\n[Law Schools](https://www.usnews.com/best-graduate-schools/top-law-schools)\\n\\n[Medical Schools](https://www.usnews.com/best-graduate-schools/top-medical-schools)\\n\\n[Engineering Schools](https://www.usnews.com/best-graduate-schools/top-engineering-schools)\\n\\n[Education Schools](https://www.usnews.com/best-graduate-schools/top-education-schools)\\n\\n[Nursing Schools](https://www.usnews.com/best-graduate-schools/top-nursing-schools)\\n\\n[Online Colleges](https://www.usnews.com/education/online-education)\\n\\n[Bachelor's Programs](https://www.usnews.com/education/online-education/bachelors)\\n\\n[Master's Programs](https://www.usnews.com/education/online-education/graduate)\\n\\n[MBA & Grad Business](https://www.usnews.com/education/online-education/mba)\\n\\n[Grad Nursing](https://www.usnews.com/education/online-education/nursing)\\n\\n[Grad Education](https://www.usnews.com/education/online-education/education)\\n\\n[Grad Engineering](https://www.usnews.com/education/online-education/engineering)\\n\\n[Global](https://www.usnews.com/education/best-global-universities)\\n\\n[Global Universities](https://www.usnews.com/education/best-global-universities/rankings)\\n\\n[Africa](https://www.usnews.com/education/best-global-universities/africa)\\n\\n[Asia](https://www.usnews.com/education/best-global-universities/asia)\\n\\n[Australia/New Zealand](https://www.usnews.com/education/best-global-universities/australia-new-zealand)\\n\\n[Europe](https://www.usnews.com/education/best-global-universities/europe)\\n\\n[Latin America](https://www.usnews.com/education/best-global-universities/latin-america)\\n\\n[K-12 Schools](https://www.usnews.com/education/k12)\\n\\n[Preschools](https://www.usnews.com/education/k12/preschool)\\n\\n[Elementary Schools](https://www.usnews.com/education/k12/elementary-school)\\n\\n[Middle Schools](https://www.usnews.com/education/k12/middle-school)\\n\\n[High Schools](https://www.usnews.com/education/best-high-schools)\\n\\n[Community Colleges](https://www.usnews.com/education/community-colleges)\\n\\n[Premium Tools](https://www.usnews.com/usnews/store/college_compass.htm)\\n\\n[Log In to Compass](https://secure.usnews.com/member/login?src=peel)\\n\\n[My Fit Custom Ranking](https://premium.usnews.com/best-colleges/myfit)\\n\\n[My Schools](https://www.usnews.com/usnews/store/college_compass.htm)\\n\\n[My Notes](https://www.usnews.com/usnews/store/college_compass.htm)\\n\\n[College Advisor](https://www.collegeadvisor.com/)\\n\\n[TeenLife](https://www.teenlife.com/)\\n\\n[Unlock more with Compass »](https://www.usnews.com/usnews/store/college_compass.htm?src=college_compass_footer)\\n\\n[Best Colleges](https://www.usnews.com/best-colleges)\\n\\n[Grad Schools](https://www.usnews.com/best-graduate-schools)\\n\\n[Online Colleges](https://www.usnews.com/education/online-education)\\n\\n[Global](https://www.usnews.com/education/best-global-universities)\\n\\n[K-12 Schools](https://www.usnews.com/education/k12)\\n\\n[Community Colleges](https://www.usnews.com/education/community-colleges)\\n\\n[Premium Tools](https://www.usnews.com/usnews/store/college_compass.htm)\\n\\n[![Image 3: U.S. News & World Report](https://www.usnews.com/static/img/usn-logo-large.svg)](https://www.usnews.com/)\\n\\n[About U.S. News](https://www.usnews.com/info/features/about-usnews)\\n\\n[Editorial Guidelines](https://www.usnews.com/about-us/editorial-guidelines)\\n\\n[Contact](https://www.usnews.com/info/features/contact)\\n\\n[Press](https://www.usnews.com/info/blogs/press-room)\\n\\n[Advertise](https://mediakit.usnews.com/)\\n\\n[Newsletters](https://emailprefs.usnews.com/emailprefs/newsletters-index)\\n\\n[Jobs](https://www.usnews.com/info/features/employment)\\n\\n[Site Map](https://www.usnews.com/info/features/sitemap)\\n\\n[Store](https://www.usnews.com/products/features/home?src=usnfooter)\\n\\n[](https://www.facebook.com/usnewsandworldreport)[](https://twitter.com/usnews)\\n\\nCopyright 2025 © U.S. News & World Report L.P.[Terms & Conditions](https://www.usnews.com/info/features/terms)/[Privacy Policy](https://www.usnews.com/features/info/privacy)/[U.S. State Privacy Notice](https://www.usnews.com/features/info/privacy/state-notice)\\n\\n[](https://www.facebook.com/usnewsandworldreport)[](https://twitter.com/usnews)\\n\",\n",
       "    'images': []}],\n",
       "  'failed_results': [],\n",
       "  'response_time': 0.01}]"
      ]
     },
     "execution_count": 48,
     "metadata": {},
     "output_type": "execute_result"
    }
   ],
   "source": [
    "snapshot.values['observations'][:3]"
   ]
  },
  {
   "cell_type": "markdown",
   "metadata": {},
   "source": [
    "## Finished - Reporter"
   ]
  },
  {
   "cell_type": "code",
   "execution_count": 49,
   "metadata": {
    "scrolled": true
   },
   "outputs": [],
   "source": [
    "\n",
    "with open(f\"reporter.md\", \"r\", encoding=\"utf-8\") as file:\n",
    "    plan_prompt = file.read()\n",
    "template = Template(plan_prompt)\n",
    "question = snapshot.values['messages'][0].content\n",
    "observations = snapshot.values['observations']\n",
    "prompt = template.render(date=datetime.now().strftime('%d/%m/%Y'), question=question, observations=observations)"
   ]
  },
  {
   "cell_type": "code",
   "execution_count": 50,
   "metadata": {},
   "outputs": [
    {
     "data": {
      "text/plain": [
       "\"What are the rankings for the broader Seattle metro region's schools?  \\nWhich stand out, which are lagging and what are some common themes or drivers for those that lead or lag?  \\nHow should families evaluate their options including private schools in some of the key areas of the metro?\""
      ]
     },
     "execution_count": 50,
     "metadata": {},
     "output_type": "execute_result"
    }
   ],
   "source": [
    "snapshot.values['messages'][0].content"
   ]
  },
  {
   "cell_type": "code",
   "execution_count": 51,
   "metadata": {},
   "outputs": [],
   "source": [
    "def reporter_node(state: State, config: RunnableConfig):\n",
    "    \"\"\"Reporter node that write a final report.\"\"\"\n",
    "    print(\"Reporter write final report\")\n",
    "    \n",
    "    with open(f\"reporter.md\", \"r\", encoding=\"utf-8\") as file:\n",
    "        plan_prompt = file.read()\n",
    "    template = Template(plan_prompt)\n",
    "    question = state.get('messages')[0].content\n",
    "    observations = state.get('observations')\n",
    "    prompt = template.render(date=datetime.now().strftime('%d/%m/%Y'), question=question, observations=observations)\n",
    "\n",
    "    response = basic_llm.invoke(prompt)\n",
    "    response_content = response.content\n",
    "    print(f\"reporter response: {response_content}\")\n",
    "\n",
    "    return {\"final_report\": response_content}"
   ]
  },
  {
   "cell_type": "code",
   "execution_count": 52,
   "metadata": {
    "scrolled": true
   },
   "outputs": [
    {
     "name": "stdout",
     "output_type": "stream",
     "text": [
      "================================\u001b[1m Human Message \u001b[0m=================================\n",
      "\n",
      "What are the rankings for the broader Seattle metro region's schools?  \n",
      "Which stand out, which are lagging and what are some common themes or drivers for those that lead or lag?  \n",
      "How should families evaluate their options including private schools in some of the key areas of the metro?\n",
      "==================================\u001b[1m Ai Message \u001b[0m==================================\n",
      "Name: planner\n",
      "\n",
      "{\n",
      "    \"thought\": \"The user wants a comprehensive analysis of school rankings in the broader Seattle metro region, identifying top-performing and lagging schools, exploring reasons behind their performance, and advising families on evaluating schooling options including private schools in key metro areas.\",\n",
      "    \"title\": \"Research Plan for Analysis of Seattle Metro Region School Rankings and Evaluation\",\n",
      "    \"steps\": [\n",
      "        {\n",
      "            \"title\": \"Collect Comprehensive School Performance Data and Rankings\",\n",
      "            \"description\": \"Gather quantitative data on school performance across the broader Seattle metro region from multiple reputable sources such as GreatSchools, Niche, state education department reports, and other relevant databases. Include public and private schools. Collect rankings, standardized test scores, graduation rates, college readiness metrics, and any available subject-specific scores. Ensure data spans recent years for trend insights. Note: Include school demographics and enrollment statistics to support deeper insight.\"\n",
      "        },\n",
      "        {\n",
      "            \"title\": \"Analyze Key Trends and Drivers Behind Leading and Lagging Schools\",\n",
      "            \"description\": \"Conduct detailed qualitative and quantitative analysis on identified top-performing and lagging schools to uncover common factors influencing their standings. Investigate themes such as funding levels, teacher qualifications, student-to-teacher ratios, curriculum offerings, community involvement, socio-economic factors, and school leadership. Comparative analysis of schools from different districts within the metro will be included to highlight disparities or advantages.\"\n",
      "        },\n",
      "        {\n",
      "            \"title\": \"Map Current Educational Landscape Including Stakeholder Perspectives\",\n",
      "            \"description\": \"Collect qualitative data from students, parents, teachers, and educational experts through surveys, interviews, and published testimonials focusing on perceptions of school quality, strengths, and challenges in the Seattle metro area. Include insights into the competition between public and private schools, special programs offered (e.g., STEM, arts, language immersion), and families' satisfaction. Capture differing viewpoints across socio-economic groups and residential areas in the metro.\"\n",
      "        },\n",
      "        {\n",
      "            \"title\": \"Evaluate Private School Options in Key Seattle Metro Areas\",\n",
      "            \"description\": \"Research private schools in prominent neighborhoods or zones within the Seattle metro region, compiling detailed profiles including tuition costs, admission processes, academic programs, extracurricular activities, reputation, and alumni outcomes. Compare these with public school options nearby to provide families with a balanced perspective. Incorporate data on scholarships, diversity, and accessibility.\"\n",
      "        },\n",
      "        {\n",
      "            \"title\": \"Develop Guidance Criteria for Families Assessing Their School Choices\",\n",
      "            \"description\": \"Synthesize findings to create a comprehensive framework that families can use to evaluate schooling options. Criteria will include academic quality, extracurricular opportunities, school culture, logistics such as transport and commute times, costs (for private schools), and alignment with children's needs and family values. Support this with illustrative case studies or real family decision scenarios within the Seattle metro context.\"\n",
      "        }\n",
      "    ]\n",
      "}\n",
      "running research\n",
      "==================================\u001b[1m Ai Message \u001b[0m==================================\n",
      "Name: planner\n",
      "\n",
      "{\n",
      "    \"thought\": \"The user wants a comprehensive analysis of school rankings in the broader Seattle metro region, identifying top-performing and lagging schools, exploring reasons behind their performance, and advising families on evaluating schooling options including private schools in key metro areas.\",\n",
      "    \"title\": \"Research Plan for Analysis of Seattle Metro Region School Rankings and Evaluation\",\n",
      "    \"steps\": [\n",
      "        {\n",
      "            \"title\": \"Collect Comprehensive School Performance Data and Rankings\",\n",
      "            \"description\": \"Gather quantitative data on school performance across the broader Seattle metro region from multiple reputable sources such as GreatSchools, Niche, state education department reports, and other relevant databases. Include public and private schools. Collect rankings, standardized test scores, graduation rates, college readiness metrics, and any available subject-specific scores. Ensure data spans recent years for trend insights. Note: Include school demographics and enrollment statistics to support deeper insight.\"\n",
      "        },\n",
      "        {\n",
      "            \"title\": \"Analyze Key Trends and Drivers Behind Leading and Lagging Schools\",\n",
      "            \"description\": \"Conduct detailed qualitative and quantitative analysis on identified top-performing and lagging schools to uncover common factors influencing their standings. Investigate themes such as funding levels, teacher qualifications, student-to-teacher ratios, curriculum offerings, community involvement, socio-economic factors, and school leadership. Comparative analysis of schools from different districts within the metro will be included to highlight disparities or advantages.\"\n",
      "        },\n",
      "        {\n",
      "            \"title\": \"Map Current Educational Landscape Including Stakeholder Perspectives\",\n",
      "            \"description\": \"Collect qualitative data from students, parents, teachers, and educational experts through surveys, interviews, and published testimonials focusing on perceptions of school quality, strengths, and challenges in the Seattle metro area. Include insights into the competition between public and private schools, special programs offered (e.g., STEM, arts, language immersion), and families' satisfaction. Capture differing viewpoints across socio-economic groups and residential areas in the metro.\"\n",
      "        },\n",
      "        {\n",
      "            \"title\": \"Evaluate Private School Options in Key Seattle Metro Areas\",\n",
      "            \"description\": \"Research private schools in prominent neighborhoods or zones within the Seattle metro region, compiling detailed profiles including tuition costs, admission processes, academic programs, extracurricular activities, reputation, and alumni outcomes. Compare these with public school options nearby to provide families with a balanced perspective. Incorporate data on scholarships, diversity, and accessibility.\"\n",
      "        },\n",
      "        {\n",
      "            \"title\": \"Develop Guidance Criteria for Families Assessing Their School Choices\",\n",
      "            \"description\": \"Synthesize findings to create a comprehensive framework that families can use to evaluate schooling options. Criteria will include academic quality, extracurricular opportunities, school culture, logistics such as transport and commute times, costs (for private schools), and alignment with children's needs and family values. Support this with illustrative case studies or real family decision scenarios within the Seattle metro context.\"\n",
      "        }\n",
      "    ]\n",
      "}\n",
      "searching for Comprehensive school performance data and rankings Seattle metro region including public and private schools\n",
      "searching for GreatSchools ratings Seattle metro area schools with test scores and graduation rates\n",
      "searching for Niche school rankings Seattle metro region with college readiness and subject scores\n",
      "searching for Washington state education department school performance reports Seattle metro\n",
      "searching for School demographics and enrollment statistics Seattle metro schools\n",
      "searching for key factors influencing performance of top-performing schools in Seattle metro area\n",
      "searching for common reasons for lagging schools in Seattle metro education\n",
      "searching for comparison of funding, teacher qualifications, student-teacher ratios in Seattle metro schools\n",
      "searching for impact of curriculum offerings and community involvement on Seattle schools performance\n",
      "searching for socio-economic factors affecting school rankings in Seattle metro districts\n",
      "searching for role of school leadership in Seattle metro schools performance disparities\n",
      "searching for student perspectives on school quality in Seattle metro area\n",
      "searching for parent testimonials on public vs private schools in Seattle metro\n",
      "searching for teacher views on strengths and challenges of Seattle metro area schools\n",
      "searching for educational expert opinions on Seattle metro school competition public private\n",
      "searching for special programs offered in Seattle metro area schools STEM arts language immersion\n",
      "searching for families satisfaction with schools Seattle metro area\n",
      "searching for socioeconomic impact on school quality perception Seattle metro area\n",
      "searching for residential area differences in school quality perception Seattle metro area\n",
      "searching for private schools in Seattle metro areas tuition costs admission processes academic programs extracurricular activities reputation alumni outcomes\n",
      "searching for comparison private schools and public schools Seattle metro area\n",
      "searching for private school scholarships diversity accessibility Seattle metro area\n",
      "searching for criteria for families to evaluate school choices including academic quality extracurricular activities school culture transport logistics costs private schools\n",
      "searching for case studies or real family scenarios for choosing schools in Seattle metro area\n",
      "searching for comprehensive framework for evaluating schools for families including alignment with children's needs and family values\n",
      "==================================\u001b[1m Ai Message \u001b[0m==================================\n",
      "Name: planner\n",
      "\n",
      "{\n",
      "    \"thought\": \"The user wants a comprehensive analysis of school rankings in the broader Seattle metro region, identifying top-performing and lagging schools, exploring reasons behind their performance, and advising families on evaluating schooling options including private schools in key metro areas.\",\n",
      "    \"title\": \"Research Plan for Analysis of Seattle Metro Region School Rankings and Evaluation\",\n",
      "    \"steps\": [\n",
      "        {\n",
      "            \"title\": \"Collect Comprehensive School Performance Data and Rankings\",\n",
      "            \"description\": \"Gather quantitative data on school performance across the broader Seattle metro region from multiple reputable sources such as GreatSchools, Niche, state education department reports, and other relevant databases. Include public and private schools. Collect rankings, standardized test scores, graduation rates, college readiness metrics, and any available subject-specific scores. Ensure data spans recent years for trend insights. Note: Include school demographics and enrollment statistics to support deeper insight.\"\n",
      "        },\n",
      "        {\n",
      "            \"title\": \"Analyze Key Trends and Drivers Behind Leading and Lagging Schools\",\n",
      "            \"description\": \"Conduct detailed qualitative and quantitative analysis on identified top-performing and lagging schools to uncover common factors influencing their standings. Investigate themes such as funding levels, teacher qualifications, student-to-teacher ratios, curriculum offerings, community involvement, socio-economic factors, and school leadership. Comparative analysis of schools from different districts within the metro will be included to highlight disparities or advantages.\"\n",
      "        },\n",
      "        {\n",
      "            \"title\": \"Map Current Educational Landscape Including Stakeholder Perspectives\",\n",
      "            \"description\": \"Collect qualitative data from students, parents, teachers, and educational experts through surveys, interviews, and published testimonials focusing on perceptions of school quality, strengths, and challenges in the Seattle metro area. Include insights into the competition between public and private schools, special programs offered (e.g., STEM, arts, language immersion), and families' satisfaction. Capture differing viewpoints across socio-economic groups and residential areas in the metro.\"\n",
      "        },\n",
      "        {\n",
      "            \"title\": \"Evaluate Private School Options in Key Seattle Metro Areas\",\n",
      "            \"description\": \"Research private schools in prominent neighborhoods or zones within the Seattle metro region, compiling detailed profiles including tuition costs, admission processes, academic programs, extracurricular activities, reputation, and alumni outcomes. Compare these with public school options nearby to provide families with a balanced perspective. Incorporate data on scholarships, diversity, and accessibility.\"\n",
      "        },\n",
      "        {\n",
      "            \"title\": \"Develop Guidance Criteria for Families Assessing Their School Choices\",\n",
      "            \"description\": \"Synthesize findings to create a comprehensive framework that families can use to evaluate schooling options. Criteria will include academic quality, extracurricular opportunities, school culture, logistics such as transport and commute times, costs (for private schools), and alignment with children's needs and family values. Support this with illustrative case studies or real family decision scenarios within the Seattle metro context.\"\n",
      "        }\n",
      "    ]\n",
      "}\n",
      "==================================\u001b[1m Ai Message \u001b[0m==================================\n",
      "Name: planner\n",
      "\n",
      "{\n",
      "    \"thought\": \"The user wants a comprehensive analysis of school rankings in the broader Seattle metro region, identifying top-performing and lagging schools, exploring reasons behind their performance, and advising families on evaluating schooling options including private schools in key metro areas.\",\n",
      "    \"title\": \"Research Plan for Analysis of Seattle Metro Region School Rankings and Evaluation\",\n",
      "    \"steps\": [\n",
      "        {\n",
      "            \"title\": \"Collect Comprehensive School Performance Data and Rankings\",\n",
      "            \"description\": \"Gather quantitative data on school performance across the broader Seattle metro region from multiple reputable sources such as GreatSchools, Niche, state education department reports, and other relevant databases. Include public and private schools. Collect rankings, standardized test scores, graduation rates, college readiness metrics, and any available subject-specific scores. Ensure data spans recent years for trend insights. Note: Include school demographics and enrollment statistics to support deeper insight.\"\n",
      "        },\n",
      "        {\n",
      "            \"title\": \"Analyze Key Trends and Drivers Behind Leading and Lagging Schools\",\n",
      "            \"description\": \"Conduct detailed qualitative and quantitative analysis on identified top-performing and lagging schools to uncover common factors influencing their standings. Investigate themes such as funding levels, teacher qualifications, student-to-teacher ratios, curriculum offerings, community involvement, socio-economic factors, and school leadership. Comparative analysis of schools from different districts within the metro will be included to highlight disparities or advantages.\"\n",
      "        },\n",
      "        {\n",
      "            \"title\": \"Map Current Educational Landscape Including Stakeholder Perspectives\",\n",
      "            \"description\": \"Collect qualitative data from students, parents, teachers, and educational experts through surveys, interviews, and published testimonials focusing on perceptions of school quality, strengths, and challenges in the Seattle metro area. Include insights into the competition between public and private schools, special programs offered (e.g., STEM, arts, language immersion), and families' satisfaction. Capture differing viewpoints across socio-economic groups and residential areas in the metro.\"\n",
      "        },\n",
      "        {\n",
      "            \"title\": \"Evaluate Private School Options in Key Seattle Metro Areas\",\n",
      "            \"description\": \"Research private schools in prominent neighborhoods or zones within the Seattle metro region, compiling detailed profiles including tuition costs, admission processes, academic programs, extracurricular activities, reputation, and alumni outcomes. Compare these with public school options nearby to provide families with a balanced perspective. Incorporate data on scholarships, diversity, and accessibility.\"\n",
      "        },\n",
      "        {\n",
      "            \"title\": \"Develop Guidance Criteria for Families Assessing Their School Choices\",\n",
      "            \"description\": \"Synthesize findings to create a comprehensive framework that families can use to evaluate schooling options. Criteria will include academic quality, extracurricular opportunities, school culture, logistics such as transport and commute times, costs (for private schools), and alignment with children's needs and family values. Support this with illustrative case studies or real family decision scenarios within the Seattle metro context.\"\n",
      "        }\n",
      "    ]\n",
      "}\n",
      "Reporter write final report\n",
      "reporter response: **Executive Summary**\n",
      "\n",
      "The Seattle metropolitan region (encompassing Seattle, Bellevue, Bothell, Redmond, and adjacent suburbs) presents a diverse educational landscape with a variety of public and private schooling options. The highest-ranked school districts are located predominantly on the Eastside (Bellevue, Issaquah, Mercer Island, Northshore, and Lake Washington districts), known for strong academic performance, comprehensive extracurricular programs, and high college readiness. Within Seattle city limits, the Seattle Public Schools district offers many option schools and specialized programs but faces challenges in educational equity and academic outcomes, motivating ongoing strategic plans focused on equity and inclusivity.\n",
      "\n",
      "Ranking data from Niche.com (2025) positions these Eastside districts at the top with \"A+\" overall grades reflecting excellent academics, teacher quality, and graduation rates. Conversely, some districts such as Everett and Riverview lag behind with \"B+\" or \"B\" grades, often citing infrastructure or funding issues. Several themes emerge driving disparities, including socio-economic demographics, equity-focused initiatives, teacher quality, diversity, and family engagement. Families assessing school options should balance school rankings with programmatic fit, diversity, access to Spanish and dual-language immersion programs, and transportation logistics.\n",
      "\n",
      "For private schools, the Seattle metro boasts prestigious and academically rigorous institutions, such as The Overlake School, Lakeside School, University Prep, Seattle Academy, and others mainly clustered around Seattle, Bellevue, and nearby areas. These schools emphasize college preparation, smaller student-to-teacher ratios, and specialized curricula (e.g., STEM, arts, religious education), though cost is an important consideration.\n",
      "\n",
      "Seattle Public Schools offers an open enrollment and school choice system, allowing families to apply for attendance at option schools or outside their neighborhood zones subject to availability. These systems support access to diverse programs and help families tailor choices to needs, whether public, specialized option schools, or private alternatives. Evaluation should include academic outcomes, program availability, school climate, and logistical factors such as commute and family priorities.\n",
      "\n",
      "---\n",
      "\n",
      "### 1. Rankings in the Broader Seattle Metro Region\n",
      "\n",
      "**Top-Ranked Public Districts**  \n",
      "According to Niche’s 2025 rankings, the top public school districts in the Seattle metropolitan area include:^1\n",
      "\n",
      "- **Bellevue School District** (Grade A+, 32 schools, ~19,000 students): Renowned for academic rigor, supportive staff, well-funded extracurriculars, and athlete prioritization. It holds highly rated high schools such as Bellevue High and several specialized programs.  \n",
      "- **Northshore School District** (Grade A+, 39 schools, ~22,900 students): High marks for diversity, strong remote learning adaptation, but some concerns over specific arts funding.  \n",
      "- **Lake Washington School District** (Grade A+, 57 schools, ~31,000 students): Praised for supportive teachers and counselors, safety, and diverse student population. Home to Tesla STEM High School, ranked #1 high school in the region by US News.  \n",
      "- **Issaquah School District** (Grade A+, 30 schools, ~19,500 students): Academically focused with an emphasis on college preparation and social responsibility.  \n",
      "- **Mercer Island School District** (Grade A, 6 schools, ~4,000 students): Smaller district with personalized attention, high academic and social-emotional support, and excellent college placements.  \n",
      "- **Bainbridge Island School District** (Grade A, 10 schools, ~3,600 students): Known for flexible and responsive teachers and competitive sports.\n",
      "\n",
      "Other districts with solid \"A\" or \"A-\" grades include Shoreline, Tahoma, Vashon Island, University Place, Snoqualmie Valley, Edmonds, and Everett (the latter with slightly lower rankings and challenges).\n",
      "\n",
      "**Lower-Ranked Districts and Challenges**  \n",
      "Districts like **Everett, Riverview, Mukilteo, Sumner-Bonney Lake, and Fife** rank lower (B+ or B), with some citing funding constraints, aging facilities, and uneven program offerings. The Seattle Public Schools district, while large (109 schools, 51,000+ students), carries an overall Niche grade of A- and must address significant equity challenges and achievement gaps, particularly among students of color, as highlighted in district strategic plans.^2\n",
      "\n",
      "---\n",
      "\n",
      "### 2. Standout Schools and Those Lagging\n",
      "\n",
      "**Standouts**  \n",
      "- **Tesla STEM High School (Lake Washington SD):** #1 High School in Seattle area and ranked #3 nationally by U.S. News.^3 A specialized STEM program with 100% college readiness, strong AP participation, and modern facilities.  \n",
      "- **International School (Bellevue SD):** Integrates global curriculum with rigorous academics, ranked #2 in Seattle metro area by U.S. News.  \n",
      "- **Private Schools like The Overlake School, Lakeside School, Eastside Preparatory, University Prep:** All ranked \"A+\" by Niche with low student-teacher ratios (5-13:1) and strong college preparatory focus.^4\n",
      "\n",
      "**Lagging Schools/Districts**  \n",
      "- **Everett SD:** Despite a large district size and many programs, struggles with funding cuts and disparate educational outcomes.  \n",
      "- **Seattle Public Schools (SPS):** Largest district facing socio-economic disparities and achievement gaps. The district acknowledges systemic inequities affecting African American boys and students of color.  \n",
      "- **Some smaller districts and more rural areas:** May have fewer resources or specialized programs.\n",
      "\n",
      "---\n",
      "\n",
      "### 3. Common Themes and Drivers for Rankings\n",
      "\n",
      "**Equity and Inclusion Focus**  \n",
      "Seattle’s district strategic plans (notably Seattle Excellence 2019-2024, ongoing through 2025) emphasize reducing opportunity and achievement gaps for Students of Color, especially African American boys and teens.^2 It includes culturally responsive teaching, restorative discipline practices, and expanded family engagement.\n",
      "\n",
      "**Academic Rigor and Curriculum**  \n",
      "High-ranking districts and schools consistently offer rigorous core academics, Advanced Placement (AP) and International Baccalaureate (IB) opportunities, gifted and talented programs, and specialty schools (e.g., magnet STEM campuses).\n",
      "\n",
      "**Teacher Quality and Support**  \n",
      "Positive reviews consistently highlight caring, supportive teachers and administrators who engage with students and families, contributing directly to student success.\n",
      "\n",
      "**Diversity and Community Fit**  \n",
      "Diverse student populations, inclusive environments, and alignment with family values (religious, socio-economic, cultural) play a central role in school desirability and success.\n",
      "\n",
      "**Extracurricular and Enrichment Opportunities**  \n",
      "Strong programs in arts, sports, leadership, and specialized areas such as aviation, computer science, or performing arts support holistic student development.\n",
      "\n",
      "**Funding and Resources**  \n",
      "Districts with greater financial resources typically sustain superior facilities, smaller class sizes, and richer program offerings. Conversely, funding shortfalls correlate with lagging performance.\n",
      "\n",
      "---\n",
      "\n",
      "### 4. How Families Should Evaluate Their Options\n",
      "\n",
      "**Understand School and Neighborhood Fit**  \n",
      "Families should look beyond raw rankings, considering school culture, size, diversity, and availability of programs (e.g., dual language immersion, specialty STEM or arts). Local real estate and commute considerations matter greatly in daily life and child wellbeing.\n",
      "\n",
      "**Public vs. Private Considerations**  \n",
      "- **Public Schools:** Offer broad access to diverse populations, often with strong neighborhood or choice-based programs. Seattle Public Schools provide open enrollment and option schools for specialized learning environments.  \n",
      "- **Private Schools:** Tend to feature smaller class sizes, college preparatory curricula, often religious or philosophical orientations, and require significant tuition. They may suit families prioritizing academic prestige, specific cultural/religious identities, or personalized attention.\n",
      "\n",
      "**Use Multiple Data Sources and Visits**  \n",
      "Resources such as Niche.com and GreatSchools.org provide valuable data on academics, teacher quality, safety, and reviews. Visiting schools, talking with administrators and parents, and assessing student needs are essential steps. Insights from local families underline the importance of “fit” and family values in decision-making.^5\n",
      "\n",
      "**Transportation and Logistics**  \n",
      "Consider commute times, availability of school buses, proximity to home or work, and the Seattle area’s traffic patterns. Some private schools provide shuttle services, while public school assignments may depend on neighborhood boundaries or lottery options.\n",
      "\n",
      "**Special Programs and Supports**  \n",
      "Families with students requiring special education, ESL, or gifted services should evaluate districts and schools offering comprehensive supports. For students with disabilities, Seattle offers service schools and partner programs. Homeschooling remains a flexible option with district co-ops for social and academic enrichment.\n",
      "\n",
      "---\n",
      "\n",
      "### 5. Rankings of Key Private Schools in Seattle Metro\n",
      "\n",
      "According to Niche’s 2025 rankings of private high schools:^4\n",
      "\n",
      "- **The Overlake School (Redmond):** #1 private high school in Seattle metro, A+ grade, 7:1 student-teacher ratio, strong college prep.  \n",
      "- **Eastside Preparatory School (Kirkland):** #2, highly rated for teaching and activities.  \n",
      "- **Lakeside School (Seattle):** #3, prestigious, rigorous academics, historic clientele.  \n",
      "- **Annie Wright Schools (Tacoma):** #4, strong community, academic and travel opportunities.  \n",
      "- **University Prep (Seattle):** #5, excellent academics and inclusive environment.  \n",
      "- **The Bear Creek School (Redmond):** #6, academically rigorous with caring community.  \n",
      "- **Seattle Academy and The Northwest School (Seattle):** Among top ten, known for strong arts and college prep.  \n",
      "- **Holy Names Academy and Bishop Blanchet (Seattle):** Prominent faith-based options with robust academics.\n",
      "\n",
      "Private schools generally exhibit low student-teacher ratios (often < 10:1), emphasis on AP/IB programs, and highly engaged teaching staff. Tuition and cost considerations are relevant, with many schools offering financial aid to widen access.\n",
      "\n",
      "---\n",
      "\n",
      "### Conclusion\n",
      "\n",
      "The Seattle metropolitan region offers a rich array of educational choices for families, with strong public districts concentrated east of Lake Washington and a varied set of option schools and magnet programs within Seattle proper. Top-performing districts like Bellevue, Northshore, Issaquah, and Lake Washington set the bar in academics and extracurricular breadth, buoyed by resources and community engagement.\n",
      "\n",
      "Families should evaluate school options based on academic quality, fit with social-emotional needs and values, diversity, available supports, and practical concerns such as commute and enrollment policies. The city’s open enrollment and school choice frameworks provide flexibility within public education, while a diverse private school landscape offers alternatives emphasizing college prep and specialized pedagogies.\n",
      "\n",
      "Seattle Public Schools has recognized challenges related to equity and inclusion, especially for students of color, and is actively pursuing strategic improvement plans focused on systemic change and culturally responsive education. This creates an improving but still complex public school environment—making personal research and engagement critical for families navigating options.\n",
      "\n",
      "In sum, the best approach for families is to utilize data sources such as Niche and US News rankings, partake in school visits and community feedback, understand the various program offerings and enrollment procedures, and weigh public and private options carefully against their children’s unique needs and family circumstances.\n",
      "\n",
      "---\n",
      "\n",
      "### References\n",
      "\n",
      "1. Niche. (2025). *Best School Districts in Seattle Area*. Retrieved from [Niche.com](https://www.niche.com/k12/search/best-school-districts/m/seattle-metro-area/)  \n",
      "2. Seattle Public Schools. (2025). *Strategic Plan and Equity Initiatives*. Retrieved from [seattleschools.org/about/strategic-plan](https://www.seattleschools.org/about/strategic-plan/)  \n",
      "3. U.S. News & World Report. (2025). *Best High Schools in Seattle, WA Area*. Retrieved from [usnews.com/education/best-high-schools/washington/rankings/seattle-wa-42660](https://www.usnews.com/education/best-high-schools/washington/rankings/seattle-wa-42660)  \n",
      "4. Niche. (2025). *Best Private High Schools in Seattle Area*. Retrieved from [niche.com/k12/search/best-private-high-schools/m/seattle-metro-area/](https://www.niche.com/k12/search/best-private-high-schools/m/seattle-metro-area/)  \n",
      "5. ParentMap. (2024). *Should We Choose Public or Private School?* Retrieved from [parentmap.com/article/seattle-public-private-school-options](https://www.parentmap.com/article/seattle-public-private-school-options)  \n",
      "\n",
      "---\n",
      "\n",
      "Please let me know if you would like a deeper dive into specific school profiles, program options, or enrollment procedures in the Seattle metro region.\n",
      "==================================\u001b[1m Ai Message \u001b[0m==================================\n",
      "Name: planner\n",
      "\n",
      "{\n",
      "    \"thought\": \"The user wants a comprehensive analysis of school rankings in the broader Seattle metro region, identifying top-performing and lagging schools, exploring reasons behind their performance, and advising families on evaluating schooling options including private schools in key metro areas.\",\n",
      "    \"title\": \"Research Plan for Analysis of Seattle Metro Region School Rankings and Evaluation\",\n",
      "    \"steps\": [\n",
      "        {\n",
      "            \"title\": \"Collect Comprehensive School Performance Data and Rankings\",\n",
      "            \"description\": \"Gather quantitative data on school performance across the broader Seattle metro region from multiple reputable sources such as GreatSchools, Niche, state education department reports, and other relevant databases. Include public and private schools. Collect rankings, standardized test scores, graduation rates, college readiness metrics, and any available subject-specific scores. Ensure data spans recent years for trend insights. Note: Include school demographics and enrollment statistics to support deeper insight.\"\n",
      "        },\n",
      "        {\n",
      "            \"title\": \"Analyze Key Trends and Drivers Behind Leading and Lagging Schools\",\n",
      "            \"description\": \"Conduct detailed qualitative and quantitative analysis on identified top-performing and lagging schools to uncover common factors influencing their standings. Investigate themes such as funding levels, teacher qualifications, student-to-teacher ratios, curriculum offerings, community involvement, socio-economic factors, and school leadership. Comparative analysis of schools from different districts within the metro will be included to highlight disparities or advantages.\"\n",
      "        },\n",
      "        {\n",
      "            \"title\": \"Map Current Educational Landscape Including Stakeholder Perspectives\",\n",
      "            \"description\": \"Collect qualitative data from students, parents, teachers, and educational experts through surveys, interviews, and published testimonials focusing on perceptions of school quality, strengths, and challenges in the Seattle metro area. Include insights into the competition between public and private schools, special programs offered (e.g., STEM, arts, language immersion), and families' satisfaction. Capture differing viewpoints across socio-economic groups and residential areas in the metro.\"\n",
      "        },\n",
      "        {\n",
      "            \"title\": \"Evaluate Private School Options in Key Seattle Metro Areas\",\n",
      "            \"description\": \"Research private schools in prominent neighborhoods or zones within the Seattle metro region, compiling detailed profiles including tuition costs, admission processes, academic programs, extracurricular activities, reputation, and alumni outcomes. Compare these with public school options nearby to provide families with a balanced perspective. Incorporate data on scholarships, diversity, and accessibility.\"\n",
      "        },\n",
      "        {\n",
      "            \"title\": \"Develop Guidance Criteria for Families Assessing Their School Choices\",\n",
      "            \"description\": \"Synthesize findings to create a comprehensive framework that families can use to evaluate schooling options. Criteria will include academic quality, extracurricular opportunities, school culture, logistics such as transport and commute times, costs (for private schools), and alignment with children's needs and family values. Support this with illustrative case studies or real family decision scenarios within the Seattle metro context.\"\n",
      "        }\n",
      "    ]\n",
      "}\n"
     ]
    }
   ],
   "source": [
    "from langgraph.checkpoint.memory import MemorySaver\n",
    "memory = MemorySaver()\n",
    "\n",
    "graph = StateGraph(State)\n",
    "\n",
    "# Add nodes\n",
    "graph.add_node(\"planner\", planner_node)\n",
    "graph.add_node(\"research_coordinator\", research_coordinator_node)\n",
    "graph.add_node(\"researcher\",research_node)\n",
    "graph.add_node(\"collector\",collection_node)\n",
    "graph.add_node(\"reporter\",reporter_node)\n",
    "graph.set_entry_point(\"planner\")\n",
    "graph.add_edge(\"research_coordinator\", \"researcher\")\n",
    "graph.add_edge(\"researcher\", \"collector\")\n",
    "graph.add_edge(\"collector\", \"reporter\")\n",
    "graph.add_edge(\"reporter\", END)  # Option in the future, to add another step and filter the documents retrieved using rerhank before writing the report\n",
    "\n",
    "agent = graph.compile(checkpointer=memory)\n",
    "\n",
    "async for s in agent.astream(input=initial_state, config=config, stream_mode=\"values\"):\n",
    "    message = s[\"messages\"][-1]\n",
    "    if isinstance(message, tuple):\n",
    "        print(message)\n",
    "    else:\n",
    "        message.pretty_print()"
   ]
  },
  {
   "cell_type": "code",
   "execution_count": 53,
   "metadata": {},
   "outputs": [
    {
     "data": {
      "text/plain": [
       "{'current_plan',\n",
       " 'final_report',\n",
       " 'messages',\n",
       " 'observations',\n",
       " 'queries',\n",
       " 'resources'}"
      ]
     },
     "execution_count": 53,
     "metadata": {},
     "output_type": "execute_result"
    }
   ],
   "source": [
    "snapshot = agent.get_state(config)\n",
    "{k for k, v in snapshot.values.items()}"
   ]
  },
  {
   "cell_type": "code",
   "execution_count": 54,
   "metadata": {},
   "outputs": [
    {
     "data": {
      "text/markdown": [
       "**Executive Summary**\n",
       "\n",
       "The Seattle metropolitan region (encompassing Seattle, Bellevue, Bothell, Redmond, and adjacent suburbs) presents a diverse educational landscape with a variety of public and private schooling options. The highest-ranked school districts are located predominantly on the Eastside (Bellevue, Issaquah, Mercer Island, Northshore, and Lake Washington districts), known for strong academic performance, comprehensive extracurricular programs, and high college readiness. Within Seattle city limits, the Seattle Public Schools district offers many option schools and specialized programs but faces challenges in educational equity and academic outcomes, motivating ongoing strategic plans focused on equity and inclusivity.\n",
       "\n",
       "Ranking data from Niche.com (2025) positions these Eastside districts at the top with \"A+\" overall grades reflecting excellent academics, teacher quality, and graduation rates. Conversely, some districts such as Everett and Riverview lag behind with \"B+\" or \"B\" grades, often citing infrastructure or funding issues. Several themes emerge driving disparities, including socio-economic demographics, equity-focused initiatives, teacher quality, diversity, and family engagement. Families assessing school options should balance school rankings with programmatic fit, diversity, access to Spanish and dual-language immersion programs, and transportation logistics.\n",
       "\n",
       "For private schools, the Seattle metro boasts prestigious and academically rigorous institutions, such as The Overlake School, Lakeside School, University Prep, Seattle Academy, and others mainly clustered around Seattle, Bellevue, and nearby areas. These schools emphasize college preparation, smaller student-to-teacher ratios, and specialized curricula (e.g., STEM, arts, religious education), though cost is an important consideration.\n",
       "\n",
       "Seattle Public Schools offers an open enrollment and school choice system, allowing families to apply for attendance at option schools or outside their neighborhood zones subject to availability. These systems support access to diverse programs and help families tailor choices to needs, whether public, specialized option schools, or private alternatives. Evaluation should include academic outcomes, program availability, school climate, and logistical factors such as commute and family priorities.\n",
       "\n",
       "---\n",
       "\n",
       "### 1. Rankings in the Broader Seattle Metro Region\n",
       "\n",
       "**Top-Ranked Public Districts**  \n",
       "According to Niche’s 2025 rankings, the top public school districts in the Seattle metropolitan area include:^1\n",
       "\n",
       "- **Bellevue School District** (Grade A+, 32 schools, ~19,000 students): Renowned for academic rigor, supportive staff, well-funded extracurriculars, and athlete prioritization. It holds highly rated high schools such as Bellevue High and several specialized programs.  \n",
       "- **Northshore School District** (Grade A+, 39 schools, ~22,900 students): High marks for diversity, strong remote learning adaptation, but some concerns over specific arts funding.  \n",
       "- **Lake Washington School District** (Grade A+, 57 schools, ~31,000 students): Praised for supportive teachers and counselors, safety, and diverse student population. Home to Tesla STEM High School, ranked #1 high school in the region by US News.  \n",
       "- **Issaquah School District** (Grade A+, 30 schools, ~19,500 students): Academically focused with an emphasis on college preparation and social responsibility.  \n",
       "- **Mercer Island School District** (Grade A, 6 schools, ~4,000 students): Smaller district with personalized attention, high academic and social-emotional support, and excellent college placements.  \n",
       "- **Bainbridge Island School District** (Grade A, 10 schools, ~3,600 students): Known for flexible and responsive teachers and competitive sports.\n",
       "\n",
       "Other districts with solid \"A\" or \"A-\" grades include Shoreline, Tahoma, Vashon Island, University Place, Snoqualmie Valley, Edmonds, and Everett (the latter with slightly lower rankings and challenges).\n",
       "\n",
       "**Lower-Ranked Districts and Challenges**  \n",
       "Districts like **Everett, Riverview, Mukilteo, Sumner-Bonney Lake, and Fife** rank lower (B+ or B), with some citing funding constraints, aging facilities, and uneven program offerings. The Seattle Public Schools district, while large (109 schools, 51,000+ students), carries an overall Niche grade of A- and must address significant equity challenges and achievement gaps, particularly among students of color, as highlighted in district strategic plans.^2\n",
       "\n",
       "---\n",
       "\n",
       "### 2. Standout Schools and Those Lagging\n",
       "\n",
       "**Standouts**  \n",
       "- **Tesla STEM High School (Lake Washington SD):** #1 High School in Seattle area and ranked #3 nationally by U.S. News.^3 A specialized STEM program with 100% college readiness, strong AP participation, and modern facilities.  \n",
       "- **International School (Bellevue SD):** Integrates global curriculum with rigorous academics, ranked #2 in Seattle metro area by U.S. News.  \n",
       "- **Private Schools like The Overlake School, Lakeside School, Eastside Preparatory, University Prep:** All ranked \"A+\" by Niche with low student-teacher ratios (5-13:1) and strong college preparatory focus.^4\n",
       "\n",
       "**Lagging Schools/Districts**  \n",
       "- **Everett SD:** Despite a large district size and many programs, struggles with funding cuts and disparate educational outcomes.  \n",
       "- **Seattle Public Schools (SPS):** Largest district facing socio-economic disparities and achievement gaps. The district acknowledges systemic inequities affecting African American boys and students of color.  \n",
       "- **Some smaller districts and more rural areas:** May have fewer resources or specialized programs.\n",
       "\n",
       "---\n",
       "\n",
       "### 3. Common Themes and Drivers for Rankings\n",
       "\n",
       "**Equity and Inclusion Focus**  \n",
       "Seattle’s district strategic plans (notably Seattle Excellence 2019-2024, ongoing through 2025) emphasize reducing opportunity and achievement gaps for Students of Color, especially African American boys and teens.^2 It includes culturally responsive teaching, restorative discipline practices, and expanded family engagement.\n",
       "\n",
       "**Academic Rigor and Curriculum**  \n",
       "High-ranking districts and schools consistently offer rigorous core academics, Advanced Placement (AP) and International Baccalaureate (IB) opportunities, gifted and talented programs, and specialty schools (e.g., magnet STEM campuses).\n",
       "\n",
       "**Teacher Quality and Support**  \n",
       "Positive reviews consistently highlight caring, supportive teachers and administrators who engage with students and families, contributing directly to student success.\n",
       "\n",
       "**Diversity and Community Fit**  \n",
       "Diverse student populations, inclusive environments, and alignment with family values (religious, socio-economic, cultural) play a central role in school desirability and success.\n",
       "\n",
       "**Extracurricular and Enrichment Opportunities**  \n",
       "Strong programs in arts, sports, leadership, and specialized areas such as aviation, computer science, or performing arts support holistic student development.\n",
       "\n",
       "**Funding and Resources**  \n",
       "Districts with greater financial resources typically sustain superior facilities, smaller class sizes, and richer program offerings. Conversely, funding shortfalls correlate with lagging performance.\n",
       "\n",
       "---\n",
       "\n",
       "### 4. How Families Should Evaluate Their Options\n",
       "\n",
       "**Understand School and Neighborhood Fit**  \n",
       "Families should look beyond raw rankings, considering school culture, size, diversity, and availability of programs (e.g., dual language immersion, specialty STEM or arts). Local real estate and commute considerations matter greatly in daily life and child wellbeing.\n",
       "\n",
       "**Public vs. Private Considerations**  \n",
       "- **Public Schools:** Offer broad access to diverse populations, often with strong neighborhood or choice-based programs. Seattle Public Schools provide open enrollment and option schools for specialized learning environments.  \n",
       "- **Private Schools:** Tend to feature smaller class sizes, college preparatory curricula, often religious or philosophical orientations, and require significant tuition. They may suit families prioritizing academic prestige, specific cultural/religious identities, or personalized attention.\n",
       "\n",
       "**Use Multiple Data Sources and Visits**  \n",
       "Resources such as Niche.com and GreatSchools.org provide valuable data on academics, teacher quality, safety, and reviews. Visiting schools, talking with administrators and parents, and assessing student needs are essential steps. Insights from local families underline the importance of “fit” and family values in decision-making.^5\n",
       "\n",
       "**Transportation and Logistics**  \n",
       "Consider commute times, availability of school buses, proximity to home or work, and the Seattle area’s traffic patterns. Some private schools provide shuttle services, while public school assignments may depend on neighborhood boundaries or lottery options.\n",
       "\n",
       "**Special Programs and Supports**  \n",
       "Families with students requiring special education, ESL, or gifted services should evaluate districts and schools offering comprehensive supports. For students with disabilities, Seattle offers service schools and partner programs. Homeschooling remains a flexible option with district co-ops for social and academic enrichment.\n",
       "\n",
       "---\n",
       "\n",
       "### 5. Rankings of Key Private Schools in Seattle Metro\n",
       "\n",
       "According to Niche’s 2025 rankings of private high schools:^4\n",
       "\n",
       "- **The Overlake School (Redmond):** #1 private high school in Seattle metro, A+ grade, 7:1 student-teacher ratio, strong college prep.  \n",
       "- **Eastside Preparatory School (Kirkland):** #2, highly rated for teaching and activities.  \n",
       "- **Lakeside School (Seattle):** #3, prestigious, rigorous academics, historic clientele.  \n",
       "- **Annie Wright Schools (Tacoma):** #4, strong community, academic and travel opportunities.  \n",
       "- **University Prep (Seattle):** #5, excellent academics and inclusive environment.  \n",
       "- **The Bear Creek School (Redmond):** #6, academically rigorous with caring community.  \n",
       "- **Seattle Academy and The Northwest School (Seattle):** Among top ten, known for strong arts and college prep.  \n",
       "- **Holy Names Academy and Bishop Blanchet (Seattle):** Prominent faith-based options with robust academics.\n",
       "\n",
       "Private schools generally exhibit low student-teacher ratios (often < 10:1), emphasis on AP/IB programs, and highly engaged teaching staff. Tuition and cost considerations are relevant, with many schools offering financial aid to widen access.\n",
       "\n",
       "---\n",
       "\n",
       "### Conclusion\n",
       "\n",
       "The Seattle metropolitan region offers a rich array of educational choices for families, with strong public districts concentrated east of Lake Washington and a varied set of option schools and magnet programs within Seattle proper. Top-performing districts like Bellevue, Northshore, Issaquah, and Lake Washington set the bar in academics and extracurricular breadth, buoyed by resources and community engagement.\n",
       "\n",
       "Families should evaluate school options based on academic quality, fit with social-emotional needs and values, diversity, available supports, and practical concerns such as commute and enrollment policies. The city’s open enrollment and school choice frameworks provide flexibility within public education, while a diverse private school landscape offers alternatives emphasizing college prep and specialized pedagogies.\n",
       "\n",
       "Seattle Public Schools has recognized challenges related to equity and inclusion, especially for students of color, and is actively pursuing strategic improvement plans focused on systemic change and culturally responsive education. This creates an improving but still complex public school environment—making personal research and engagement critical for families navigating options.\n",
       "\n",
       "In sum, the best approach for families is to utilize data sources such as Niche and US News rankings, partake in school visits and community feedback, understand the various program offerings and enrollment procedures, and weigh public and private options carefully against their children’s unique needs and family circumstances.\n",
       "\n",
       "---\n",
       "\n",
       "### References\n",
       "\n",
       "1. Niche. (2025). *Best School Districts in Seattle Area*. Retrieved from [Niche.com](https://www.niche.com/k12/search/best-school-districts/m/seattle-metro-area/)  \n",
       "2. Seattle Public Schools. (2025). *Strategic Plan and Equity Initiatives*. Retrieved from [seattleschools.org/about/strategic-plan](https://www.seattleschools.org/about/strategic-plan/)  \n",
       "3. U.S. News & World Report. (2025). *Best High Schools in Seattle, WA Area*. Retrieved from [usnews.com/education/best-high-schools/washington/rankings/seattle-wa-42660](https://www.usnews.com/education/best-high-schools/washington/rankings/seattle-wa-42660)  \n",
       "4. Niche. (2025). *Best Private High Schools in Seattle Area*. Retrieved from [niche.com/k12/search/best-private-high-schools/m/seattle-metro-area/](https://www.niche.com/k12/search/best-private-high-schools/m/seattle-metro-area/)  \n",
       "5. ParentMap. (2024). *Should We Choose Public or Private School?* Retrieved from [parentmap.com/article/seattle-public-private-school-options](https://www.parentmap.com/article/seattle-public-private-school-options)  \n",
       "\n",
       "---\n",
       "\n",
       "Please let me know if you would like a deeper dive into specific school profiles, program options, or enrollment procedures in the Seattle metro region."
      ],
      "text/plain": [
       "<IPython.core.display.Markdown object>"
      ]
     },
     "metadata": {},
     "output_type": "display_data"
    }
   ],
   "source": [
    "display(Markdown(snapshot.values['final_report']))"
   ]
  }
 ],
 "metadata": {
  "anaconda-cloud": "",
  "colab": {
   "collapsed_sections": [
    "v1a8tvFOW9hX",
    "XUJuVVjV70y9",
    "2SBektD48VjA"
   ],
   "provenance": []
  },
  "kernelspec": {
   "display_name": "Python 3 (ipykernel)",
   "language": "python",
   "name": "python3"
  },
  "language_info": {
   "codemirror_mode": {
    "name": "ipython",
    "version": 3
   },
   "file_extension": ".py",
   "mimetype": "text/x-python",
   "name": "python",
   "nbconvert_exporter": "python",
   "pygments_lexer": "ipython3",
   "version": "3.12.11"
  },
  "varInspector": {
   "cols": {
    "lenName": 16,
    "lenType": 16,
    "lenVar": 40
   },
   "kernels_config": {
    "python": {
     "delete_cmd_postfix": "",
     "delete_cmd_prefix": "del ",
     "library": "var_list.py",
     "varRefreshCmd": "print(var_dic_list())"
    },
    "r": {
     "delete_cmd_postfix": ") ",
     "delete_cmd_prefix": "rm(",
     "library": "var_list.r",
     "varRefreshCmd": "cat(var_dic_list()) "
    }
   },
   "types_to_exclude": [
    "module",
    "function",
    "builtin_function_or_method",
    "instance",
    "_Feature"
   ],
   "window_display": false
  }
 },
 "nbformat": 4,
 "nbformat_minor": 4
}
